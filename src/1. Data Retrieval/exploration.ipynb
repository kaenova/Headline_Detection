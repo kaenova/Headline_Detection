{
 "cells": [
  {
   "cell_type": "code",
   "execution_count": 9,
   "metadata": {},
   "outputs": [],
   "source": [
    "import pandas as pd\n",
    "import os\n",
    "\n",
    "PATH_ORGANIZATION = \"../../data/1. Raw/organization\"\n",
    "csvs = os.listdir(PATH_ORGANIZATION)\n",
    "\n",
    "data = {}\n",
    "for i in csvs:\n",
    "    data[i] = pd.read_csv(f\"{PATH_ORGANIZATION}/{i}\")"
   ]
  },
  {
   "cell_type": "code",
   "execution_count": 10,
   "metadata": {},
   "outputs": [
    {
     "name": "stdout",
     "output_type": "stream",
     "text": [
      "Jumlah data:\n",
      "Beritasatu.csv 0\n",
      "cnnindonesia.csv 2001\n",
      "detikcom.csv 2001\n",
      "kompascom.csv 238\n",
      "KompasTV.csv 68\n",
      "kumparan.csv 843\n",
      "liputan6dotcom.csv 5\n",
      "republikaonline.csv 19\n",
      "tempodotco.csv 16\n",
      "tvOneNews.csv 1559\n",
      "VIVAcoid.csv 2001\n"
     ]
    }
   ],
   "source": [
    "print(\"Jumlah data:\")\n",
    "for i in data:\n",
    "    print(i, len(data[i]))"
   ]
  },
  {
   "cell_type": "code",
   "execution_count": null,
   "metadata": {},
   "outputs": [],
   "source": [
    "# Yang mungkin digunakan ada viva, tvone, detikcom, cnnindonesia"
   ]
  },
  {
   "cell_type": "code",
   "execution_count": 1,
   "metadata": {},
   "outputs": [],
   "source": [
    "import tweepy\n",
    "\n",
    "auth = tweepy.OAuth2BearerHandler(\"AAAAAAAAAAAAAAAAAAAAABC0igEAAAAAmG%2BRPIluMyx%2FgbjfqOYE%2FxvH%2Ftk%3Dldox8iFmAOX2RXBccDBVp0mkk1B1r6GLBXKrmcmneAcMDKcaMX\")\n",
    "twitter_api = tweepy.API(auth)"
   ]
  },
  {
   "cell_type": "code",
   "execution_count": 16,
   "metadata": {},
   "outputs": [],
   "source": [
    "results = twitter_api.search_tweets(\"(from:cnnindonesia) min_replies:100\", result_type='recent')"
   ]
  },
  {
   "cell_type": "code",
   "execution_count": 18,
   "metadata": {},
   "outputs": [
    {
     "data": {
      "text/plain": [
       "'?max_id=1609720461356863487&q=%28from%3Acnnindonesia%29%20min_replies%3A100&include_entities=1&result_type=recent'"
      ]
     },
     "execution_count": 18,
     "metadata": {},
     "output_type": "execute_result"
    }
   ],
   "source": [
    "results.next_results"
   ]
  },
  {
   "cell_type": "code",
   "execution_count": 24,
   "metadata": {},
   "outputs": [
    {
     "data": {
      "text/plain": [
       "1609720461356863487"
      ]
     },
     "execution_count": 24,
     "metadata": {},
     "output_type": "execute_result"
    }
   ],
   "source": [
    "results.max_id"
   ]
  },
  {
   "cell_type": "code",
   "execution_count": 25,
   "metadata": {},
   "outputs": [],
   "source": [
    "results_2 = twitter_api.search_tweets(\"(from:cnnindonesia) min_replies:100\", result_type='recent', since_id=results.max_id)"
   ]
  },
  {
   "cell_type": "code",
   "execution_count": 63,
   "metadata": {},
   "outputs": [
    {
     "data": {
      "text/plain": [
       "'10 Tahun Klub Moge Minta Masuk Tol: Pajak Kami Lebih Mahal https://t.co/APoqLbMuSL'"
      ]
     },
     "execution_count": 63,
     "metadata": {},
     "output_type": "execute_result"
    }
   ],
   "source": [
    "results_2[0].text"
   ]
  },
  {
   "cell_type": "code",
   "execution_count": 52,
   "metadata": {},
   "outputs": [
    {
     "data": {
      "text/plain": [
       "40"
      ]
     },
     "execution_count": 52,
     "metadata": {},
     "output_type": "execute_result"
    }
   ],
   "source": [
    "results[0]."
   ]
  },
  {
   "cell_type": "code",
   "execution_count": null,
   "metadata": {},
   "outputs": [],
   "source": []
  }
 ],
 "metadata": {
  "kernelspec": {
   "display_name": "venv",
   "language": "python",
   "name": "python3"
  },
  "language_info": {
   "codemirror_mode": {
    "name": "ipython",
    "version": 3
   },
   "file_extension": ".py",
   "mimetype": "text/x-python",
   "name": "python",
   "nbconvert_exporter": "python",
   "pygments_lexer": "ipython3",
   "version": "3.8.10"
  },
  "orig_nbformat": 4,
  "vscode": {
   "interpreter": {
    "hash": "c494b424a0f74f36244da3072c13bf9982512138d3612f8984f1d42143403a25"
   }
  }
 },
 "nbformat": 4,
 "nbformat_minor": 2
}
