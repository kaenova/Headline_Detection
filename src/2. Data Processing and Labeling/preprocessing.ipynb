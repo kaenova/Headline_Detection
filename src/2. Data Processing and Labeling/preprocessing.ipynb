{
 "cells": [],
 "metadata": {
  "kernelspec": {
   "display_name": "venv",
   "language": "python",
   "name": "python3"
  },
  "language_info": {
   "codemirror_mode": {
    "name": "ipython",
    "version": 3
   },
   "file_extension": ".py",
   "mimetype": "text/x-python",
   "name": "python",
   "nbconvert_exporter": "python",
   "pygments_lexer": "ipython3",
   "version": "3.10.6"
  },
  "orig_nbformat": 4,
  "vscode": {
   "interpreter": {
    "hash": "eb4a03bbdb021e0a7c53eb4d93f8b4007105d14992df15ee73b21429377bcae7"
   }
  }
 },
 "nbformat": 4,
 "nbformat_minor": 2
}
