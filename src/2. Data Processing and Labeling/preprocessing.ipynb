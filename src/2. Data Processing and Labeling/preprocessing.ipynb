{
 "cells": [
  {
   "attachments": {},
   "cell_type": "markdown",
   "metadata": {},
   "source": [
    "# Preprocessing Notebooks\n",
    "\n",
    "Beberapa preprocessing untuk membuat skenario sebagai penelitian\n",
    "\n",
    "1. Sama seperti preprosesing unutk membuat IndoBERTweet (lowercasing, change user, change emoji, change http url)\n",
    "2. Nomor 1 dan melakukan stemming\n",
    "3. Lowecasing, Menghilangkan atribut url dan mention dalam text, change emoji\n",
    "4. Nomor 3 dan melakukan stemming"
   ]
  },
  {
   "attachments": {},
   "cell_type": "markdown",
   "metadata": {},
   "source": [
    "## Instantiate some processing class"
   ]
  },
  {
   "cell_type": "code",
   "execution_count": 2,
   "metadata": {},
   "outputs": [
    {
     "name": "stdout",
     "output_type": "stream",
     "text": [
      "Model missing, downloading new model....\n",
      "\n",
      "Downloading Model 1/3\n"
     ]
    },
    {
     "name": "stderr",
     "output_type": "stream",
     "text": [
      "d:\\@Programming\\@On Going\\Data\\Headline_Detection\\venv\\lib\\site-packages\\NDETCStemmer\\Model\\w2vec_wiki_id_case: 100%|██████████| 25.5M/25.5M [00:07<00:00, 3.67MiB/s]\n"
     ]
    },
    {
     "name": "stdout",
     "output_type": "stream",
     "text": [
      "\n",
      "Downloading Model 2/3\n"
     ]
    },
    {
     "name": "stderr",
     "output_type": "stream",
     "text": [
      "d:\\@Programming\\@On Going\\Data\\Headline_Detection\\venv\\lib\\site-packages\\NDETCStemmer\\Model\\w2vec_wiki_id_case.trainables.syn1neg.npy: 100%|██████████| 312M/312M [01:35<00:00, 3.42MiB/s] \n"
     ]
    },
    {
     "name": "stdout",
     "output_type": "stream",
     "text": [
      "\n",
      "Downloading Model 3/3\n"
     ]
    },
    {
     "name": "stderr",
     "output_type": "stream",
     "text": [
      "d:\\@Programming\\@On Going\\Data\\Headline_Detection\\venv\\lib\\site-packages\\NDETCStemmer\\Model\\w2vec_wiki_id_case.wv.vectors.npy: 100%|██████████| 312M/312M [01:34<00:00, 3.47MiB/s] \n"
     ]
    },
    {
     "name": "stdout",
     "output_type": "stream",
     "text": [
      "\n",
      "Download Complete\n"
     ]
    }
   ],
   "source": [
    "from NDETCStemmer import NDETCStemmer, CustomModelDownloader\n",
    "from kaelib.processor.NDETCStemmerWraper import NDETCStemmerWraper\n",
    "\n",
    "downloader = CustomModelDownloader(\n",
    "    model_1=\"https://is3.cloudhost.id/s3.kaenova.my.id/NDETCStemmer/Model/w2vec_wiki_id_case\",\n",
    "    model_2=\"https://is3.cloudhost.id/s3.kaenova.my.id/NDETCStemmer/Model/w2vec_wiki_id_case.trainables.syn1neg.npy\",\n",
    "    model_3=\"https://is3.cloudhost.id/s3.kaenova.my.id/NDETCStemmer/Model/w2vec_wiki_id_case.wv.vectors.npy\"\n",
    ")\n",
    "\n",
    "original_stemmer=NDETCStemmer(custom_downloader=downloader)\n",
    "stemmer = NDETCStemmerWraper(original_stemmer)"
   ]
  },
  {
   "cell_type": "code",
   "execution_count": 3,
   "metadata": {},
   "outputs": [
    {
     "name": "stdout",
     "output_type": "stream",
     "text": [
      "Example\n",
      "Scenario 1: miliarder rusia oleg tinkov pada senin (31/10/2022), mengaku telah  melepaskan kewarganegaraan rusianya karena konflik di ukraina. HTTPURL @USER \n",
      "Scenario 2: miliarder rusia oleg tinkov pada senin 31 10 2022 aku telah lepas warga negara rusianya karena konflik di ukraina HTTPURL @USER \n",
      "Scenario 3: miliarder rusia oleg tinkov pada senin (31/10/2022), mengaku telah  melepaskan kewarganegaraan rusianya karena konflik di ukraina.   \n",
      "Scenario 4: miliarder rusia oleg tinkov pada senin 31 10 2022 aku telah lepas warga negara rusianya karena konflik di ukraina \n"
     ]
    }
   ],
   "source": [
    "from kaelib.processor.TextProcessingPipeline import TextProcessingPipeline\n",
    "import kaelib.processor.preprocessing_func as pf\n",
    "\n",
    "# Scenario one\n",
    "scenario_1_processor = TextProcessingPipeline([\n",
    "    pf.lowercasing,\n",
    "    pf.change_user,\n",
    "    pf.change_emoji,\n",
    "    pf.change_web_url\n",
    "])\n",
    "\n",
    "# Scenario two\n",
    "scenario_2_processor = TextProcessingPipeline([\n",
    "    pf.lowercasing,\n",
    "    pf.change_user,\n",
    "    pf.change_emoji,\n",
    "    pf.change_web_url,\n",
    "    stemmer.stem\n",
    "])\n",
    "\n",
    "# Scenario three\n",
    "scenario_3_processor = TextProcessingPipeline([\n",
    "    pf.lowercasing,\n",
    "    pf.remove_username,\n",
    "    pf.remove_url,\n",
    "    pf.change_emoji,\n",
    "])\n",
    "\n",
    "# Scenario four\n",
    "scenario_4_processor = TextProcessingPipeline([\n",
    "    pf.lowercasing,\n",
    "    pf.remove_username,\n",
    "    pf.remove_url,\n",
    "    pf.change_emoji,\n",
    "    stemmer.stem\n",
    "])\n",
    "\n",
    "test_text = \"\"\"Miliarder Rusia Oleg Tinkov pada Senin (31/10/2022), mengaku telah  melepaskan kewarganegaraan Rusianya karena konflik di Ukraina. http://dlvr.it/Sc20gN @kaenova \"\"\"\n",
    "\n",
    "print(\"Example\")\n",
    "print(\"Scenario 1:\", scenario_1_processor.process_text(test_text))\n",
    "print(\"Scenario 2:\", scenario_2_processor.process_text(test_text))\n",
    "print(\"Scenario 3:\", scenario_3_processor.process_text(test_text))\n",
    "print(\"Scenario 4:\", scenario_4_processor.process_text(test_text))"
   ]
  },
  {
   "cell_type": "code",
   "execution_count": 12,
   "metadata": {},
   "outputs": [
    {
     "name": "stderr",
     "output_type": "stream",
     "text": [
      "100%|██████████| 2328/2328 [00:00<00:00, 15520.36it/s]\n"
     ]
    }
   ],
   "source": [
    "import pandas as pd\n",
    "from tqdm import tqdm\n",
    "from sklearn.model_selection import train_test_split\n",
    "\n",
    "tqdm.pandas()\n",
    "\n",
    "df_all = pd.read_csv(\"../../data/3. Labeling Ready/concat_all.csv\")\n",
    "df_all['tweet'] = df_all['tweet'].progress_map(lambda x: scenario_1_processor.process_text(x))\n",
    "X = df_all['tweet']\n",
    "y = df_all['labels']\n",
    "X_train, X_test, y_train, y_test = train_test_split(X, y, test_size=0.2, random_state=42, shuffle=True, stratify=y)\n",
    "\n",
    "pd.DataFrame({\n",
    "    \"tweet\": X_train,\n",
    "    \"labels\": y_train\n",
    "}).to_csv(\"../../data/4. Processed/train.csv\", index=False)\n",
    "\n",
    "\n",
    "pd.DataFrame({\n",
    "    \"tweet\": X_test,\n",
    "    \"labels\": y_test\n",
    "}).to_csv(\"../../data/4. Processed/test.csv\", index=False)"
   ]
  },
  {
   "cell_type": "code",
   "execution_count": 49,
   "metadata": {},
   "outputs": [],
   "source": [
    "from transformers import BertTokenizer\n",
    "from torch.utils.data import DataLoader\n",
    "\n",
    "tokenizer = BertTokenizer.from_pretrained(\"indobenchmark/indobert-base-p2\")\n",
    "datasets = HeadlineDataset(\n",
    "    \"../../data/4. Processed/train.csv\",\n",
    "    tokenizer,\n",
    "    max_length=256,\n",
    "    padding=\"max_length\",\n",
    "    truncation=True,\n",
    "    return_tensors=\"pt\",\n",
    ")\n",
    "loader = DataLoader(dataset=datasets, batch_size=32)"
   ]
  }
 ],
 "metadata": {
  "kernelspec": {
   "display_name": "venv",
   "language": "python",
   "name": "python3"
  },
  "language_info": {
   "codemirror_mode": {
    "name": "ipython",
    "version": 3
   },
   "file_extension": ".py",
   "mimetype": "text/x-python",
   "name": "python",
   "nbconvert_exporter": "python",
   "pygments_lexer": "ipython3",
   "version": "3.8.10"
  },
  "orig_nbformat": 4,
  "vscode": {
   "interpreter": {
    "hash": "f859f1e6f927a99659bbed8c715d8b2e0ee62a381a7a8caee1b1f662fc1c2ad7"
   }
  }
 },
 "nbformat": 4,
 "nbformat_minor": 2
}
