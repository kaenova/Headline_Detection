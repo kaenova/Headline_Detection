{
 "cells": [
  {
   "cell_type": "code",
   "execution_count": 2,
   "metadata": {},
   "outputs": [],
   "source": [
    "text = \"Miliarder Rusia Oleg Tinkov pada Senin (31/10/2022), mengaku telah melepaskan kewarganegaraan Rusianya karena konflik di Ukraina. http://dlvr.it/Sc20gN @kaenova 😥\""
   ]
  },
  {
   "cell_type": "code",
   "execution_count": 3,
   "metadata": {},
   "outputs": [
    {
     "data": {
      "text/plain": [
       "'miliarder rusia oleg tinkov pada senin (31/10/2022), mengaku telah melepaskan kewarganegaraan rusianya karena konflik di ukraina. http://dlvr.it/sc20gn @kaenova 😥'"
      ]
     },
     "execution_count": 3,
     "metadata": {},
     "output_type": "execute_result"
    }
   ],
   "source": [
    "def lower(text: str) -> str:\n",
    "    return text.lower()\n",
    "\n",
    "lower(text)"
   ]
  },
  {
   "cell_type": "code",
   "execution_count": 4,
   "metadata": {},
   "outputs": [],
   "source": [
    "import emoji"
   ]
  },
  {
   "cell_type": "code",
   "execution_count": 28,
   "metadata": {},
   "outputs": [],
   "source": [
    "text = emoji.demojize(\"miliarder rusia oleg tinkov pada senin (31/10/2022), mengaku telah melepaskan kewarganegaraan rusianya karena konflik di ukraina. HTTPURL @USER 😥\")"
   ]
  },
  {
   "cell_type": "code",
   "execution_count": 7,
   "metadata": {},
   "outputs": [
    {
     "name": "stdout",
     "output_type": "stream",
     "text": [
      "Model missing, downloading new model....\n",
      "\n",
      "Downloading Model 1/3\n"
     ]
    },
    {
     "name": "stderr",
     "output_type": "stream",
     "text": [
      "Downloading...\n",
      "From: https://drive.google.com/uc?id=1DJ_u_xKSXmgS_CsM0xlB5rIznnDVfz-w\n",
      "To: d:\\@Programming\\@On Going\\Data\\proposal\\venv\\lib\\site-packages\\NDETCStemmer\\Model\\w2vec_wiki_id_case\n",
      "100%|██████████| 26.7M/26.7M [00:08<00:00, 3.13MB/s]\n"
     ]
    },
    {
     "name": "stdout",
     "output_type": "stream",
     "text": [
      "\n",
      "Downloading Model 2/3\n"
     ]
    },
    {
     "name": "stderr",
     "output_type": "stream",
     "text": [
      "Downloading...\n",
      "From: https://drive.google.com/uc?id=1DQhPp-D3o0e-x3PfJd2Il3vf7wVgZu4J\n",
      "To: d:\\@Programming\\@On Going\\Data\\proposal\\venv\\lib\\site-packages\\NDETCStemmer\\Model\\w2vec_wiki_id_case.trainables.syn1neg.npy\n",
      "100%|██████████| 328M/328M [01:47<00:00, 3.06MB/s] \n"
     ]
    },
    {
     "name": "stdout",
     "output_type": "stream",
     "text": [
      "\n",
      "Downloading Model 3/3\n"
     ]
    },
    {
     "name": "stderr",
     "output_type": "stream",
     "text": [
      "Downloading...\n",
      "From: https://drive.google.com/uc?id=1zCn5YINEC82cZ1SH-nB4WXUvuELCzKu-\n",
      "To: d:\\@Programming\\@On Going\\Data\\proposal\\venv\\lib\\site-packages\\NDETCStemmer\\Model\\w2vec_wiki_id_case.wv.vectors.npy\n",
      "100%|██████████| 328M/328M [01:45<00:00, 3.11MB/s] \n"
     ]
    },
    {
     "name": "stdout",
     "output_type": "stream",
     "text": [
      "\n",
      "Download Complete\n"
     ]
    }
   ],
   "source": [
    "from NDETCStemmer import NDETCStemmer\n",
    "stemmer=NDETCStemmer()"
   ]
  },
  {
   "cell_type": "code",
   "execution_count": 43,
   "metadata": {},
   "outputs": [
    {
     "data": {
      "text/plain": [
       "'miliarder rusia oleg tinkov pada senin (31/10/2022), mengaku telah melepaskan kewarganegaraan rusianya karena konflik di ukraina. HTTPURLstem userstem emosad_but_relieved_faceemo'"
      ]
     },
     "execution_count": 43,
     "metadata": {},
     "output_type": "execute_result"
    }
   ],
   "source": [
    "import re\n",
    "def change_httpurl(text: str) ->str:\n",
    "    return re.sub(\"HTTPURL\", \"HTTPURLstem\", text, count=0)\n",
    "\n",
    "def change_user(text: str) ->str:\n",
    "    return re.sub(\"@USER\", \"userstem\", text, count=0)\n",
    "\n",
    "def change_emoji(text: str) ->str:\n",
    "    result = re.search(r\"(:(.+):)\", text)\n",
    "    full_emoji = result.group(1)\n",
    "    emoji_description = result.group(2)\n",
    "    replacement = \"emo\"+emoji_description+\"emo\"\n",
    "    return re.sub(full_emoji, replacement, text, count=0)\n",
    "\n",
    "before_stemming = change_emoji(change_httpurl(change_user(text)))\n",
    "before_stemming"
   ]
  },
  {
   "cell_type": "code",
   "execution_count": 45,
   "metadata": {},
   "outputs": [
    {
     "data": {
      "text/plain": [
       "'miliarder rusia oleg tinkov pada senin 31 10 2022 aku telah lepas warga negara rusianya karena konflik di ukraina httpurlstem userstem emosad_but_relieved_faceemo '"
      ]
     },
     "execution_count": 45,
     "metadata": {},
     "output_type": "execute_result"
    }
   ],
   "source": [
    "output_stem=stemmer.stem(before_stemming)\n",
    "output_stem"
   ]
  },
  {
   "cell_type": "code",
   "execution_count": 48,
   "metadata": {},
   "outputs": [
    {
     "data": {
      "text/plain": [
       "'miliarder rusia oleg tinkov pada senin 31 10 2022 aku telah lepas warga negara rusianya karena konflik di ukraina HTTPURL @USER :sad_but_relieved_face: '"
      ]
     },
     "execution_count": 48,
     "metadata": {},
     "output_type": "execute_result"
    }
   ],
   "source": [
    "import re\n",
    "\n",
    "def dechange_stem_httpurl(text:str) -> str:\n",
    "    return re.sub(\"httpurlstem\", \"HTTPURL\", text, count=0)\n",
    "\n",
    "def dechange_stem_user(text:str) -> str:\n",
    "    return re.sub(\"userstem\", \"@USER\", text, count=0)\n",
    "\n",
    "def dechange_stem_emoji(text:str) -> str:\n",
    "    result = re.search(r\"(emo(.+)emo)\", text)\n",
    "    full_emoji = result.group(1)\n",
    "    emoji_description = result.group(2)\n",
    "    original = \":\"+emoji_description+\":\"\n",
    "    return re.sub(full_emoji, original, text, count=0)\n",
    "\n",
    "after_stemming = dechange_stem_emoji(dechange_stem_user(dechange_stem_httpurl(output_stem)))\n",
    "after_stemming"
   ]
  },
  {
   "cell_type": "code",
   "execution_count": null,
   "metadata": {},
   "outputs": [],
   "source": []
  },
  {
   "cell_type": "code",
   "execution_count": null,
   "metadata": {},
   "outputs": [],
   "source": []
  }
 ],
 "metadata": {
  "kernelspec": {
   "display_name": "Python 3.8.10 ('venv': venv)",
   "language": "python",
   "name": "python3"
  },
  "language_info": {
   "codemirror_mode": {
    "name": "ipython",
    "version": 3
   },
   "file_extension": ".py",
   "mimetype": "text/x-python",
   "name": "python",
   "nbconvert_exporter": "python",
   "pygments_lexer": "ipython3",
   "version": "3.8.10"
  },
  "orig_nbformat": 4,
  "vscode": {
   "interpreter": {
    "hash": "00e0e0c3665efd40cb84da519d4974f290c54f1d30b3b075e735355e7c5ec8e9"
   }
  }
 },
 "nbformat": 4,
 "nbformat_minor": 2
}
