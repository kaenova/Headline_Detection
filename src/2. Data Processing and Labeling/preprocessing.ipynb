{
 "cells": [
  {
   "attachments": {},
   "cell_type": "markdown",
   "metadata": {},
   "source": [
    "# Preprocessing Notebooks\n",
    "\n",
    "Beberapa preprocessing untuk membuat skenario sebagai penelitian\n",
    "\n",
    "1. Sama seperti preprosesing unutk membuat IndoBERTweet (lowercasing, change user, change emoji, change http url)\n",
    "2. Nomor 1 dan melakukan stemming\n",
    "3. Lowecasing, Menghilangkan atribut url dan mention dalam text, change emoji\n",
    "4. Nomor 3 dan melakukan stemming"
   ]
  },
  {
   "attachments": {},
   "cell_type": "markdown",
   "metadata": {},
   "source": [
    "## Instantiate some processing class"
   ]
  },
  {
   "cell_type": "code",
   "execution_count": 1,
   "metadata": {},
   "outputs": [],
   "source": [
    "from NDETCStemmer import NDETCStemmer, CustomModelDownloader\n",
    "from kaelib.processor.NDETCStemmerWraper import NDETCStemmerWraper\n",
    "\n",
    "downloader = CustomModelDownloader(\n",
    "    model_1=\"https://is3.cloudhost.id/s3.kaenova.my.id/NDETCStemmer/Model/w2vec_wiki_id_case\",\n",
    "    model_2=\"https://is3.cloudhost.id/s3.kaenova.my.id/NDETCStemmer/Model/w2vec_wiki_id_case.trainables.syn1neg.npy\",\n",
    "    model_3=\"https://is3.cloudhost.id/s3.kaenova.my.id/NDETCStemmer/Model/w2vec_wiki_id_case.wv.vectors.npy\"\n",
    ")\n",
    "\n",
    "original_stemmer=NDETCStemmer(custom_downloader=downloader)\n",
    "stemmer = NDETCStemmerWraper(original_stemmer)"
   ]
  },
  {
   "cell_type": "code",
   "execution_count": 2,
   "metadata": {},
   "outputs": [
    {
     "name": "stdout",
     "output_type": "stream",
     "text": [
      "Example\n",
      "Scenario 1: miliarder rusia oleg tinkov pada senin (31/10/2022), mengaku telah  melepaskan kewarganegaraan rusianya karena konflik di ukraina. HTTPURL @USER \n",
      "Scenario 2: miliarder rusia oleg tinkov pada senin 31 10 2022 aku telah lepas warga negara rusianya karena konflik di ukraina HTTPURL @USER \n",
      "Scenario 3: miliarder rusia oleg tinkov pada senin (31/10/2022), mengaku telah  melepaskan kewarganegaraan rusianya karena konflik di ukraina.   \n",
      "Scenario 4: miliarder rusia oleg tinkov pada senin 31 10 2022 aku telah lepas warga negara rusianya karena konflik di ukraina \n"
     ]
    }
   ],
   "source": [
    "from kaelib.processor.TextProcessingPipeline import TextProcessingPipeline\n",
    "from kaelib.processor.preprocessing_func import lowercasing, change_emoji, change_web_url, change_user, remove_url, remove_username\n",
    "\n",
    "# Scenario one\n",
    "scenario_1_processor = TextProcessingPipeline([\n",
    "    lowercasing,\n",
    "    change_user,\n",
    "    change_emoji,\n",
    "    change_web_url\n",
    "])\n",
    "\n",
    "# Scenario two\n",
    "scenario_2_processor = TextProcessingPipeline([\n",
    "    lowercasing,\n",
    "    change_user,\n",
    "    change_emoji,\n",
    "    change_web_url,\n",
    "    stemmer.stem\n",
    "])\n",
    "\n",
    "# Scenario three\n",
    "scenario_3_processor = TextProcessingPipeline([\n",
    "    lowercasing,\n",
    "    remove_username,\n",
    "    remove_url,\n",
    "    change_emoji,\n",
    "])\n",
    "\n",
    "# Scenario four\n",
    "scenario_4_processor = TextProcessingPipeline([\n",
    "    lowercasing,\n",
    "    remove_username,\n",
    "    remove_url,\n",
    "    change_emoji,\n",
    "    stemmer.stem\n",
    "])\n",
    "\n",
    "test_text = \"\"\"Miliarder Rusia Oleg Tinkov pada Senin (31/10/2022), mengaku telah  melepaskan kewarganegaraan Rusianya karena konflik di Ukraina. http://dlvr.it/Sc20gN @kaenova \"\"\"\n",
    "\n",
    "print(\"Example\")\n",
    "print(\"Scenario 1:\", scenario_1_processor.process_text(test_text))\n",
    "print(\"Scenario 2:\", scenario_2_processor.process_text(test_text))\n",
    "print(\"Scenario 3:\", scenario_3_processor.process_text(test_text))\n",
    "print(\"Scenario 4:\", scenario_4_processor.process_text(test_text))"
   ]
  },
  {
   "cell_type": "code",
   "execution_count": null,
   "metadata": {},
   "outputs": [],
   "source": []
  }
 ],
 "metadata": {
  "kernelspec": {
   "display_name": "venv",
   "language": "python",
   "name": "python3"
  },
  "language_info": {
   "codemirror_mode": {
    "name": "ipython",
    "version": 3
   },
   "file_extension": ".py",
   "mimetype": "text/x-python",
   "name": "python",
   "nbconvert_exporter": "python",
   "pygments_lexer": "ipython3",
   "version": "3.8.10"
  },
  "orig_nbformat": 4,
  "vscode": {
   "interpreter": {
    "hash": "f859f1e6f927a99659bbed8c715d8b2e0ee62a381a7a8caee1b1f662fc1c2ad7"
   }
  }
 },
 "nbformat": 4,
 "nbformat_minor": 2
}
