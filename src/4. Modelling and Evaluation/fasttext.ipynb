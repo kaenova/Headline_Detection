{
 "cells": [
  {
   "cell_type": "code",
   "execution_count": null,
   "metadata": {},
   "outputs": [],
   "source": [
    "# Prepare Google Colab Environement and build handmade library\n",
    "# !git clone https://github.com/kaenova/Headline_Detection.git\n",
    "# %cd \"/content/Headline_Detection\"\n",
    "\n",
    "# !make lib"
   ]
  },
  {
   "cell_type": "code",
   "execution_count": null,
   "metadata": {},
   "outputs": [],
   "source": [
    "# # Reset Google Colab Environment\n",
    "# %cd ..\n",
    "# !rm -fr Headline_Detection"
   ]
  },
  {
   "attachments": {},
   "cell_type": "markdown",
   "metadata": {},
   "source": [
    "# Load Dataset"
   ]
  },
  {
   "cell_type": "code",
   "execution_count": 8,
   "metadata": {},
   "outputs": [],
   "source": [
    "import torch\n",
    "import math\n",
    "import pandas as pd\n",
    "import numpy as np\n",
    "import torch.nn.functional as F\n",
    "\n",
    "from tqdm import tqdm\n",
    "from torchmetrics.classification import MulticlassAccuracy\n",
    "from datasets import load_dataset\n",
    "\n",
    "# Custom handmade library\n",
    "import kaelib.processor.preprocessing_func as prep_func\n",
    "from kaelib.processor import TextProcessingPipeline\n",
    "from kaelib.model import  FastTextClassifier"
   ]
  },
  {
   "cell_type": "code",
   "execution_count": 9,
   "metadata": {},
   "outputs": [
    {
     "name": "stderr",
     "output_type": "stream",
     "text": [
      "Found cached dataset google-play-review (C:/Users/kaeno/.cache/huggingface/datasets/jakartaresearch___google-play-review/default/1.0.0/df84e67f495cc6639ab0bbf74ff0190498a0b22294fdaca26a5b25e090671c29)\n"
     ]
    },
    {
     "data": {
      "application/vnd.jupyter.widget-view+json": {
       "model_id": "a3f567e1262d49bbba3aa8eaa7de15b2",
       "version_major": 2,
       "version_minor": 0
      },
      "text/plain": [
       "  0%|          | 0/2 [00:00<?, ?it/s]"
      ]
     },
     "metadata": {},
     "output_type": "display_data"
    }
   ],
   "source": [
    "data = load_dataset(\"jakartaresearch/google-play-review\")\n",
    "data_train = data.get('train').to_pandas()[['text', 'label']]\n",
    "data_test = data.get('validation').to_pandas()[['text', 'label']]"
   ]
  },
  {
   "cell_type": "code",
   "execution_count": 10,
   "metadata": {},
   "outputs": [
    {
     "data": {
      "text/html": [
       "<div>\n",
       "<style scoped>\n",
       "    .dataframe tbody tr th:only-of-type {\n",
       "        vertical-align: middle;\n",
       "    }\n",
       "\n",
       "    .dataframe tbody tr th {\n",
       "        vertical-align: top;\n",
       "    }\n",
       "\n",
       "    .dataframe thead th {\n",
       "        text-align: right;\n",
       "    }\n",
       "</style>\n",
       "<table border=\"1\" class=\"dataframe\">\n",
       "  <thead>\n",
       "    <tr style=\"text-align: right;\">\n",
       "      <th></th>\n",
       "      <th>text</th>\n",
       "      <th>label</th>\n",
       "    </tr>\n",
       "  </thead>\n",
       "  <tbody>\n",
       "    <tr>\n",
       "      <th>0</th>\n",
       "      <td>Halo\\n blibli. Sedikit saran untuk gratis ong...</td>\n",
       "      <td>pos</td>\n",
       "    </tr>\n",
       "    <tr>\n",
       "      <th>1</th>\n",
       "      <td>So far so good. Respon cepat.</td>\n",
       "      <td>pos</td>\n",
       "    </tr>\n",
       "    <tr>\n",
       "      <th>2</th>\n",
       "      <td>thank</td>\n",
       "      <td>neg</td>\n",
       "    </tr>\n",
       "    <tr>\n",
       "      <th>3</th>\n",
       "      <td>Aplikasi sering not responding di hp saya (as...</td>\n",
       "      <td>neg</td>\n",
       "    </tr>\n",
       "    <tr>\n",
       "      <th>4</th>\n",
       "      <td>Gak ada komentar.</td>\n",
       "      <td>pos</td>\n",
       "    </tr>\n",
       "  </tbody>\n",
       "</table>\n",
       "</div>"
      ],
      "text/plain": [
       "                                                text label\n",
       "0   Halo\\n blibli. Sedikit saran untuk gratis ong...   pos\n",
       "1                      So far so good. Respon cepat.   pos\n",
       "2                                              thank   neg\n",
       "3   Aplikasi sering not responding di hp saya (as...   neg\n",
       "4                                  Gak ada komentar.   pos"
      ]
     },
     "execution_count": 10,
     "metadata": {},
     "output_type": "execute_result"
    }
   ],
   "source": [
    "data_train.head()"
   ]
  },
  {
   "cell_type": "code",
   "execution_count": 11,
   "metadata": {},
   "outputs": [],
   "source": [
    "# Train test split\n",
    "\n",
    "text_train = data_train[\"text\"].values.tolist()\n",
    "text_test = data_test[\"text\"].values.tolist()\n",
    "\n",
    "label2id = {\"pos\": 1, \"neg\": 0}\n",
    "id2label = {v: k for k, v in label2id.items()}\n",
    "\n",
    "labels_train = data_train[\"label\"].apply(lambda x: label2id[x]).values.tolist()\n",
    "labels_test = data_test[\"label\"].apply(lambda x: label2id[x]).values.tolist()\n"
   ]
  },
  {
   "cell_type": "code",
   "execution_count": 25,
   "metadata": {},
   "outputs": [],
   "source": [
    "from torch.utils.data import Dataset\n",
    "import torch\n",
    "\n",
    "\n",
    "class CustomTextDataset(Dataset):\n",
    "    def __init__(self, x: \"list[str]\", y: \"list[int]\"):\n",
    "        assert len(x) == len(y)\n",
    "        self.x = x\n",
    "        self.y = torch.tensor(y)\n",
    "        self.preprocessor = TextProcessingPipeline(\n",
    "            [\n",
    "                prep_func.lowercasing,\n",
    "                prep_func.remove_html_tags,\n",
    "                prep_func.remove_url,\n",
    "                prep_func.remove_punctuation,\n",
    "            ]\n",
    "        )\n",
    "\n",
    "    def __len__(self):\n",
    "        return len(self.x)\n",
    "\n",
    "    def __getitem__(self, idx):\n",
    "        data = self.x[idx]\n",
    "        if type(idx) is not slice:\n",
    "            data = [self.x[idx]]\n",
    "        return  self.preprocessor.process_corpus(data), self.y[idx]\n",
    "\n",
    "\n",
    "train_dataset = CustomTextDataset(text_train, labels_train)\n",
    "test_dataset = CustomTextDataset(text_test, labels_test)"
   ]
  },
  {
   "cell_type": "code",
   "execution_count": 52,
   "metadata": {},
   "outputs": [],
   "source": [
    "import torch \n",
    "import torch.nn as nn\n",
    "from torchnlp.word_to_vector import FastText\n",
    "import lightning.pytorch as pl\n",
    "\n",
    "class FastTextClassifierLightning(pl.LightningModule):\n",
    "    def __init__(self):\n",
    "        super().__init__()\n",
    "        self.fasttext = FastText(\"id\")\n",
    "        self.feed_forward = nn.Sequential(\n",
    "            nn.Linear(300, 150),\n",
    "            nn.ReLU(),\n",
    "            nn.Linear(150, 64),\n",
    "            nn.ReLU(),\n",
    "            nn.Linear(64, 2),\n",
    "        )\n",
    "\n",
    "    def forward(self, x: 'list[str]') -> 'torch.Tensor':\n",
    "        # Prepare str\n",
    "        x_tensor = []\n",
    "        for sentence in x:\n",
    "            sentence_seq = sentence.split(\" \")\n",
    "            # Average from word embedding to text embedding\n",
    "            word_embedding = self.fasttext[sentence_seq].mean(dim=0)\n",
    "            x_tensor.append(word_embedding)\n",
    "        x_feed = torch.stack(x_tensor)\n",
    "        y = self.feed_forward(x_feed)\n",
    "        return y\n",
    "\n",
    "    def training_step(self, batch, batch_idx):\n",
    "        # training_step defines the train loop.\n",
    "        x, y = batch\n",
    "        pred = self.forward(x[0])\n",
    "        loss = F.cross_entropy(pred, y)\n",
    "        self.log('training_loss', loss)\n",
    "        return loss\n",
    "    \n",
    "    def validation_step(self, batch, batch_idx):\n",
    "        # training_step defines the train loop.\n",
    "        x, y = batch\n",
    "        pred = self.forward(x[0])\n",
    "        loss = F.cross_entropy(pred, y)\n",
    "        self.log('validation_loss', loss)\n",
    "    \n",
    "    def test_step(self, batch, batch_idx):\n",
    "        # training_step defines the train loop.\n",
    "        x, y = batch\n",
    "        pred = self.forward(x[0])\n",
    "        loss = F.cross_entropy(pred, y)\n",
    "        self.log('test_loss', loss)\n",
    "\n",
    "    def configure_optimizers(self):\n",
    "        optimizer = torch.optim.Adam(self.parameters(), lr=0.00001)\n",
    "        return optimizer"
   ]
  },
  {
   "cell_type": "code",
   "execution_count": 54,
   "metadata": {},
   "outputs": [
    {
     "name": "stderr",
     "output_type": "stream",
     "text": [
      "GPU available: False, used: False\n",
      "TPU available: False, using: 0 TPU cores\n",
      "IPU available: False, using: 0 IPUs\n",
      "HPU available: False, using: 0 HPUs\n",
      "\n",
      "  | Name         | Type       | Params\n",
      "--------------------------------------------\n",
      "0 | feed_forward | Sequential | 54.9 K\n",
      "--------------------------------------------\n",
      "54.9 K    Trainable params\n",
      "0         Non-trainable params\n",
      "54.9 K    Total params\n",
      "0.220     Total estimated model params size (MB)\n"
     ]
    },
    {
     "data": {
      "application/vnd.jupyter.widget-view+json": {
       "model_id": "0d7e8d29fec240228c2f81c55c6d8630",
       "version_major": 2,
       "version_minor": 0
      },
      "text/plain": [
       "Sanity Checking: 0it [00:00, ?it/s]"
      ]
     },
     "metadata": {},
     "output_type": "display_data"
    },
    {
     "data": {
      "application/vnd.jupyter.widget-view+json": {
       "model_id": "88616687df304f6da6bedc4d92736078",
       "version_major": 2,
       "version_minor": 0
      },
      "text/plain": [
       "Training: 0it [00:00, ?it/s]"
      ]
     },
     "metadata": {},
     "output_type": "display_data"
    },
    {
     "data": {
      "application/vnd.jupyter.widget-view+json": {
       "model_id": "ad7394d91ef4475480a302f99527a42b",
       "version_major": 2,
       "version_minor": 0
      },
      "text/plain": [
       "Validation: 0it [00:00, ?it/s]"
      ]
     },
     "metadata": {},
     "output_type": "display_data"
    },
    {
     "data": {
      "application/vnd.jupyter.widget-view+json": {
       "model_id": "484d316b3afa4881ac4da4924d5cef3a",
       "version_major": 2,
       "version_minor": 0
      },
      "text/plain": [
       "Validation: 0it [00:00, ?it/s]"
      ]
     },
     "metadata": {},
     "output_type": "display_data"
    },
    {
     "data": {
      "application/vnd.jupyter.widget-view+json": {
       "model_id": "2592564f8d7e46c0811973fad22b05cb",
       "version_major": 2,
       "version_minor": 0
      },
      "text/plain": [
       "Validation: 0it [00:00, ?it/s]"
      ]
     },
     "metadata": {},
     "output_type": "display_data"
    },
    {
     "data": {
      "application/vnd.jupyter.widget-view+json": {
       "model_id": "91ad4a881ed7498e9dd1f45eef8b443a",
       "version_major": 2,
       "version_minor": 0
      },
      "text/plain": [
       "Validation: 0it [00:00, ?it/s]"
      ]
     },
     "metadata": {},
     "output_type": "display_data"
    },
    {
     "data": {
      "application/vnd.jupyter.widget-view+json": {
       "model_id": "16a742f7ba054083ba90f81ba27cdc43",
       "version_major": 2,
       "version_minor": 0
      },
      "text/plain": [
       "Validation: 0it [00:00, ?it/s]"
      ]
     },
     "metadata": {},
     "output_type": "display_data"
    },
    {
     "data": {
      "application/vnd.jupyter.widget-view+json": {
       "model_id": "b4449719729a4892b431c65ab14dde6b",
       "version_major": 2,
       "version_minor": 0
      },
      "text/plain": [
       "Validation: 0it [00:00, ?it/s]"
      ]
     },
     "metadata": {},
     "output_type": "display_data"
    },
    {
     "data": {
      "application/vnd.jupyter.widget-view+json": {
       "model_id": "9e80ce84d9fb4dafbe6c188cbfc0d8f6",
       "version_major": 2,
       "version_minor": 0
      },
      "text/plain": [
       "Validation: 0it [00:00, ?it/s]"
      ]
     },
     "metadata": {},
     "output_type": "display_data"
    },
    {
     "data": {
      "application/vnd.jupyter.widget-view+json": {
       "model_id": "c80132a91fde466eb027955bcff7a670",
       "version_major": 2,
       "version_minor": 0
      },
      "text/plain": [
       "Validation: 0it [00:00, ?it/s]"
      ]
     },
     "metadata": {},
     "output_type": "display_data"
    },
    {
     "data": {
      "application/vnd.jupyter.widget-view+json": {
       "model_id": "2ccd99f68f604a7aa943c7e2de7b37b6",
       "version_major": 2,
       "version_minor": 0
      },
      "text/plain": [
       "Validation: 0it [00:00, ?it/s]"
      ]
     },
     "metadata": {},
     "output_type": "display_data"
    },
    {
     "data": {
      "application/vnd.jupyter.widget-view+json": {
       "model_id": "86b51422b33543fdaa57bea64d4f6b12",
       "version_major": 2,
       "version_minor": 0
      },
      "text/plain": [
       "Validation: 0it [00:00, ?it/s]"
      ]
     },
     "metadata": {},
     "output_type": "display_data"
    },
    {
     "data": {
      "application/vnd.jupyter.widget-view+json": {
       "model_id": "ca8b341f3f574ccabcb5dc52d493b942",
       "version_major": 2,
       "version_minor": 0
      },
      "text/plain": [
       "Validation: 0it [00:00, ?it/s]"
      ]
     },
     "metadata": {},
     "output_type": "display_data"
    },
    {
     "data": {
      "application/vnd.jupyter.widget-view+json": {
       "model_id": "33402089f4034596b754a7b31459df7c",
       "version_major": 2,
       "version_minor": 0
      },
      "text/plain": [
       "Validation: 0it [00:00, ?it/s]"
      ]
     },
     "metadata": {},
     "output_type": "display_data"
    },
    {
     "data": {
      "application/vnd.jupyter.widget-view+json": {
       "model_id": "19aec1029cf84f06894ede63244675a8",
       "version_major": 2,
       "version_minor": 0
      },
      "text/plain": [
       "Validation: 0it [00:00, ?it/s]"
      ]
     },
     "metadata": {},
     "output_type": "display_data"
    },
    {
     "data": {
      "application/vnd.jupyter.widget-view+json": {
       "model_id": "2eb429677f7b4199a766b343a4e458c9",
       "version_major": 2,
       "version_minor": 0
      },
      "text/plain": [
       "Validation: 0it [00:00, ?it/s]"
      ]
     },
     "metadata": {},
     "output_type": "display_data"
    },
    {
     "data": {
      "application/vnd.jupyter.widget-view+json": {
       "model_id": "f45fdfed0f234a39881ec14126a3255a",
       "version_major": 2,
       "version_minor": 0
      },
      "text/plain": [
       "Validation: 0it [00:00, ?it/s]"
      ]
     },
     "metadata": {},
     "output_type": "display_data"
    },
    {
     "data": {
      "application/vnd.jupyter.widget-view+json": {
       "model_id": "d43868892440478da710346bc747d27c",
       "version_major": 2,
       "version_minor": 0
      },
      "text/plain": [
       "Validation: 0it [00:00, ?it/s]"
      ]
     },
     "metadata": {},
     "output_type": "display_data"
    },
    {
     "data": {
      "application/vnd.jupyter.widget-view+json": {
       "model_id": "a3a1b081ba424492bdbdbac85d09e34e",
       "version_major": 2,
       "version_minor": 0
      },
      "text/plain": [
       "Validation: 0it [00:00, ?it/s]"
      ]
     },
     "metadata": {},
     "output_type": "display_data"
    },
    {
     "data": {
      "application/vnd.jupyter.widget-view+json": {
       "model_id": "463b3ef13922497483cc2f86c626d178",
       "version_major": 2,
       "version_minor": 0
      },
      "text/plain": [
       "Validation: 0it [00:00, ?it/s]"
      ]
     },
     "metadata": {},
     "output_type": "display_data"
    },
    {
     "data": {
      "application/vnd.jupyter.widget-view+json": {
       "model_id": "8cbc5b3de0e740518cae7db2f0b36bec",
       "version_major": 2,
       "version_minor": 0
      },
      "text/plain": [
       "Validation: 0it [00:00, ?it/s]"
      ]
     },
     "metadata": {},
     "output_type": "display_data"
    },
    {
     "data": {
      "application/vnd.jupyter.widget-view+json": {
       "model_id": "e0524148f5474f7e97bc178f3dbc0332",
       "version_major": 2,
       "version_minor": 0
      },
      "text/plain": [
       "Validation: 0it [00:00, ?it/s]"
      ]
     },
     "metadata": {},
     "output_type": "display_data"
    },
    {
     "data": {
      "application/vnd.jupyter.widget-view+json": {
       "model_id": "83de6490381b4fce92decb041b968026",
       "version_major": 2,
       "version_minor": 0
      },
      "text/plain": [
       "Validation: 0it [00:00, ?it/s]"
      ]
     },
     "metadata": {},
     "output_type": "display_data"
    },
    {
     "data": {
      "application/vnd.jupyter.widget-view+json": {
       "model_id": "345176ef0ae6425282f6b878f804a8f2",
       "version_major": 2,
       "version_minor": 0
      },
      "text/plain": [
       "Validation: 0it [00:00, ?it/s]"
      ]
     },
     "metadata": {},
     "output_type": "display_data"
    },
    {
     "data": {
      "application/vnd.jupyter.widget-view+json": {
       "model_id": "f891d7a32b6348809a4a06b52128bfb7",
       "version_major": 2,
       "version_minor": 0
      },
      "text/plain": [
       "Validation: 0it [00:00, ?it/s]"
      ]
     },
     "metadata": {},
     "output_type": "display_data"
    },
    {
     "data": {
      "application/vnd.jupyter.widget-view+json": {
       "model_id": "48939c065d2e4516a5ff899b997aefc2",
       "version_major": 2,
       "version_minor": 0
      },
      "text/plain": [
       "Validation: 0it [00:00, ?it/s]"
      ]
     },
     "metadata": {},
     "output_type": "display_data"
    },
    {
     "data": {
      "application/vnd.jupyter.widget-view+json": {
       "model_id": "d46635045a7f44499967533fc8e30352",
       "version_major": 2,
       "version_minor": 0
      },
      "text/plain": [
       "Validation: 0it [00:00, ?it/s]"
      ]
     },
     "metadata": {},
     "output_type": "display_data"
    },
    {
     "data": {
      "application/vnd.jupyter.widget-view+json": {
       "model_id": "874a7ffa8208418aaaf6e09cc42e83c9",
       "version_major": 2,
       "version_minor": 0
      },
      "text/plain": [
       "Validation: 0it [00:00, ?it/s]"
      ]
     },
     "metadata": {},
     "output_type": "display_data"
    },
    {
     "data": {
      "application/vnd.jupyter.widget-view+json": {
       "model_id": "3a51f5272e174a5490fb67c9c97ea1f2",
       "version_major": 2,
       "version_minor": 0
      },
      "text/plain": [
       "Validation: 0it [00:00, ?it/s]"
      ]
     },
     "metadata": {},
     "output_type": "display_data"
    },
    {
     "name": "stderr",
     "output_type": "stream",
     "text": [
      "d:\\@Programming\\@On Going\\Data\\Headline_Detection\\venv\\lib\\site-packages\\lightning\\pytorch\\trainer\\call.py:54: UserWarning: Detected KeyboardInterrupt, attempting graceful shutdown...\n",
      "  rank_zero_warn(\"Detected KeyboardInterrupt, attempting graceful shutdown...\")\n"
     ]
    },
    {
     "data": {
      "application/vnd.jupyter.widget-view+json": {
       "model_id": "57388113e36948b78fb7f801f94b2e17",
       "version_major": 2,
       "version_minor": 0
      },
      "text/plain": [
       "Testing: 0it [00:00, ?it/s]"
      ]
     },
     "metadata": {},
     "output_type": "display_data"
    },
    {
     "data": {
      "text/html": [
       "<pre style=\"white-space:pre;overflow-x:auto;line-height:normal;font-family:Menlo,'DejaVu Sans Mono',consolas,'Courier New',monospace\">┏━━━━━━━━━━━━━━━━━━━━━━━━━━━┳━━━━━━━━━━━━━━━━━━━━━━━━━━━┓\n",
       "┃<span style=\"font-weight: bold\">        Test metric        </span>┃<span style=\"font-weight: bold\">       DataLoader 0        </span>┃\n",
       "┡━━━━━━━━━━━━━━━━━━━━━━━━━━━╇━━━━━━━━━━━━━━━━━━━━━━━━━━━┩\n",
       "│<span style=\"color: #008080; text-decoration-color: #008080\">         test_loss         </span>│<span style=\"color: #800080; text-decoration-color: #800080\">    0.4003424048423767     </span>│\n",
       "└───────────────────────────┴───────────────────────────┘\n",
       "</pre>\n"
      ],
      "text/plain": [
       "┏━━━━━━━━━━━━━━━━━━━━━━━━━━━┳━━━━━━━━━━━━━━━━━━━━━━━━━━━┓\n",
       "┃\u001b[1m \u001b[0m\u001b[1m       Test metric       \u001b[0m\u001b[1m \u001b[0m┃\u001b[1m \u001b[0m\u001b[1m      DataLoader 0       \u001b[0m\u001b[1m \u001b[0m┃\n",
       "┡━━━━━━━━━━━━━━━━━━━━━━━━━━━╇━━━━━━━━━━━━━━━━━━━━━━━━━━━┩\n",
       "│\u001b[36m \u001b[0m\u001b[36m        test_loss        \u001b[0m\u001b[36m \u001b[0m│\u001b[35m \u001b[0m\u001b[35m   0.4003424048423767    \u001b[0m\u001b[35m \u001b[0m│\n",
       "└───────────────────────────┴───────────────────────────┘\n"
      ]
     },
     "metadata": {},
     "output_type": "display_data"
    },
    {
     "data": {
      "text/plain": [
       "[{'test_loss': 0.4003424048423767}]"
      ]
     },
     "execution_count": 54,
     "metadata": {},
     "output_type": "execute_result"
    }
   ],
   "source": [
    "from torch.utils.data import DataLoader\n",
    "from lightning.pytorch.loggers import TensorBoardLogger\n",
    "\n",
    "model = FastTextClassifierLightning()\n",
    "\n",
    "tb_log = TensorBoardLogger(\"tensorboard\", \"fasttext\")\n",
    "\n",
    "train_loader = DataLoader(train_dataset, batch_size=32)\n",
    "test_loader = DataLoader(test_dataset, batch_size=50)\n",
    "validation_loader = DataLoader(test_dataset, batch_size=50)\n",
    "\n",
    "trainer = pl.Trainer(max_epochs=500, logger=tb_log)\n",
    "trainer.fit(model=model, train_dataloaders=train_loader, val_dataloaders=validation_loader)\n",
    "\n",
    "trainer.test(model=model, dataloaders=test_loader)\n"
   ]
  },
  {
   "cell_type": "code",
   "execution_count": 51,
   "metadata": {},
   "outputs": [
    {
     "name": "stdout",
     "output_type": "stream",
     "text": [
      "'aku suka aplikasi ini' : pos\n",
      "'tidak suka sama aplikasi ini' : pos\n",
      "'oke' : pos\n",
      "'keren aplikasi' : pos\n",
      "'malu pake aplikasi ini' : neg\n"
     ]
    }
   ],
   "source": [
    "test_input = [\n",
    "    \"aku suka aplikasi ini\", \n",
    "    \"tidak suka sama aplikasi ini\", \n",
    "    \"oke\", \n",
    "    \"keren aplikasi\", \n",
    "    \"malu pake aplikasi ini\"\n",
    "]\n",
    "with torch.no_grad():\n",
    "    pred = model(test_input)\n",
    "    pred = F.softmax(pred, dim=1)\n",
    "    pred_np = pred.argmax(dim=1).cpu().detach().numpy()\n",
    "    for i in range(len(test_input)):\n",
    "        print(f\"'{test_input[i]}' : {id2label[pred_np[i]]}\")"
   ]
  },
  {
   "cell_type": "code",
   "execution_count": 55,
   "metadata": {},
   "outputs": [
    {
     "data": {
      "text/plain": [
       "OrderedDict([('feed_forward.0.weight',\n",
       "              tensor([[-0.0375, -0.0472, -0.0539,  ...,  0.0814,  0.0255, -0.0252],\n",
       "                      [ 0.0199, -0.0634, -0.1113,  ...,  0.0123, -0.0094,  0.0529],\n",
       "                      [ 0.0002, -0.0251,  0.0167,  ..., -0.1070,  0.0539, -0.0753],\n",
       "                      ...,\n",
       "                      [ 0.1345, -0.0191, -0.2149,  ..., -0.0350,  0.0165, -0.0468],\n",
       "                      [-0.0691, -0.0177, -0.1171,  ...,  0.0061,  0.0123,  0.0906],\n",
       "                      [ 0.0201,  0.0660,  0.0432,  ..., -0.0838, -0.0847, -0.0637]])),\n",
       "             ('feed_forward.0.bias',\n",
       "              tensor([-0.0189,  0.0696,  0.0289,  0.0506,  0.0735,  0.0434,  0.1028,  0.0304,\n",
       "                       0.0523,  0.0275,  0.0005,  0.0192, -0.0890,  0.0100,  0.0199,  0.0408,\n",
       "                       0.0028,  0.0494, -0.0670, -0.0623,  0.1249,  0.0422,  0.0004,  0.0573,\n",
       "                       0.0050, -0.0374,  0.0719,  0.0381, -0.0410, -0.0002,  0.0014, -0.0402,\n",
       "                      -0.0695, -0.0182, -0.0277, -0.0150,  0.0778, -0.0063,  0.0187, -0.0462,\n",
       "                       0.0997,  0.0237, -0.0444,  0.0181,  0.0481,  0.0266,  0.0625,  0.0776,\n",
       "                      -0.0434,  0.1210,  0.0504,  0.0501, -0.0671,  0.0553, -0.0556,  0.0066,\n",
       "                       0.0077, -0.0727,  0.0084,  0.0142,  0.0435,  0.0200,  0.0960,  0.0151,\n",
       "                      -0.0246,  0.0244, -0.0114,  0.0393, -0.0373,  0.0440, -0.0348, -0.0685,\n",
       "                       0.0323,  0.0470,  0.0308, -0.0124,  0.0486,  0.0163,  0.0236, -0.0235,\n",
       "                       0.0611,  0.0559,  0.0384, -0.0846, -0.0583,  0.0990, -0.0125, -0.0507,\n",
       "                       0.0948, -0.0750,  0.0038, -0.0045,  0.0710,  0.0738,  0.0624, -0.0471,\n",
       "                       0.0390, -0.0413,  0.0620,  0.0540, -0.0296, -0.0325,  0.0579, -0.0389,\n",
       "                       0.0791,  0.0611, -0.0406,  0.0091, -0.0680,  0.0566,  0.0141, -0.0366,\n",
       "                       0.1341,  0.0312,  0.0314,  0.0458,  0.0503,  0.0764,  0.0031, -0.0145,\n",
       "                       0.0126, -0.0075,  0.0019, -0.0633,  0.0816, -0.0582,  0.0137,  0.0804,\n",
       "                      -0.0270,  0.0252,  0.0567, -0.0547,  0.0442, -0.0744, -0.0369,  0.0653,\n",
       "                      -0.0272,  0.0407, -0.0206,  0.0018, -0.0045, -0.0984, -0.0450, -0.0733,\n",
       "                      -0.0230,  0.0282,  0.0656,  0.0166,  0.0407, -0.0321])),\n",
       "             ('feed_forward.2.weight',\n",
       "              tensor([[-1.9967e-01, -8.5339e-02,  1.9304e-02,  ..., -1.2067e-01,\n",
       "                       -1.0172e-01,  1.6605e-01],\n",
       "                      [-4.6871e-02, -7.7824e-02,  9.9895e-02,  ...,  4.1870e-02,\n",
       "                       -3.2159e-02, -1.6931e-01],\n",
       "                      [ 6.9237e-03, -6.6700e-02,  3.7681e-02,  ..., -2.9883e-03,\n",
       "                       -1.0930e-01,  4.6358e-02],\n",
       "                      ...,\n",
       "                      [ 4.0480e-02,  1.7166e-03, -2.0773e-03,  ...,  9.7796e-02,\n",
       "                       -1.8126e-02, -2.2814e-01],\n",
       "                      [-3.9599e-02,  6.1963e-02,  9.1727e-02,  ..., -1.5189e-02,\n",
       "                       -4.3473e-02, -2.6672e-01],\n",
       "                      [-2.0008e-01, -1.5057e-01, -2.5682e-05,  ..., -2.2749e-01,\n",
       "                       -1.1593e-01,  1.3539e-01]])),\n",
       "             ('feed_forward.2.bias',\n",
       "              tensor([ 0.0756,  0.0368, -0.0605,  0.1308,  0.0401, -0.0853,  0.1058,  0.0921,\n",
       "                       0.1251,  0.0702,  0.0211, -0.0131,  0.0455,  0.0165,  0.0997,  0.0165,\n",
       "                       0.1385, -0.0639,  0.0861,  0.1013, -0.0533,  0.0442,  0.1042, -0.0510,\n",
       "                       0.0817,  0.1061,  0.0558,  0.0476,  0.0062, -0.0736,  0.1043,  0.0474,\n",
       "                       0.1162,  0.0484,  0.0450,  0.1204,  0.1099,  0.0316,  0.0625, -0.0737,\n",
       "                       0.0069,  0.0500, -0.0591,  0.0803,  0.0757,  0.1311,  0.0689,  0.0827,\n",
       "                       0.0374,  0.0179, -0.0124, -0.0143,  0.0491,  0.0986,  0.0945,  0.1035,\n",
       "                       0.0707,  0.0776,  0.0345,  0.0465, -0.0390,  0.0654,  0.0566,  0.1011])),\n",
       "             ('feed_forward.4.weight',\n",
       "              tensor([[ 0.4737, -0.0935,  0.0229,  0.3860, -0.2350, -0.0672,  0.4532,  0.5515,\n",
       "                        0.4910, -0.1944,  0.0890,  0.2176,  0.6890, -0.2735,  0.3998, -0.1120,\n",
       "                        0.4376, -0.2952, -0.0862,  0.4787,  0.1104, -0.1731,  0.5467, -0.3311,\n",
       "                       -0.3027,  0.4212,  0.2821, -0.2770, -0.1149,  0.1465,  0.5057, -0.1388,\n",
       "                        0.5010, -0.2147,  0.2765,  0.3841,  0.3387,  0.5340,  0.4226, -0.0813,\n",
       "                       -0.2412, -0.2338, -0.2823, -0.2154, -0.1289,  0.3681, -0.1169, -0.0959,\n",
       "                       -0.0521,  0.4166, -0.1238, -0.2089, -0.1941,  0.3383,  0.4679,  0.5581,\n",
       "                        0.6548,  0.5125, -0.2067,  0.6413, -0.1969, -0.2203, -0.1267,  0.3187],\n",
       "                      [-0.5191,  0.2288,  0.0026, -0.5377,  0.2064,  0.0352, -0.4203, -0.4949,\n",
       "                       -0.4397,  0.1535, -0.1153, -0.2087, -0.6860,  0.1830, -0.4216, -0.1156,\n",
       "                       -0.4886,  0.2969,  0.2301, -0.4920, -0.0173,  0.1389, -0.4976,  0.3609,\n",
       "                        0.0689, -0.4894, -0.3410,  0.2184,  0.3124, -0.0345, -0.3974,  0.2804,\n",
       "                       -0.4739,  0.1748, -0.2760, -0.4259, -0.4794, -0.4975, -0.6127, -0.0420,\n",
       "                        0.1777,  0.0654,  0.1017,  0.1730,  0.1349, -0.4292,  0.2234,  0.2613,\n",
       "                        0.2932, -0.3024,  0.2164,  0.1910,  0.1902, -0.4190, -0.4993, -0.3254,\n",
       "                       -0.4611, -0.4327,  0.2048, -0.6441,  0.1034,  0.1722,  0.2274, -0.5377]])),\n",
       "             ('feed_forward.4.bias', tensor([-0.0592, -0.0978]))])"
      ]
     },
     "execution_count": 55,
     "metadata": {},
     "output_type": "execute_result"
    }
   ],
   "source": []
  },
  {
   "cell_type": "code",
   "execution_count": null,
   "metadata": {},
   "outputs": [],
   "source": []
  }
 ],
 "metadata": {
  "kernelspec": {
   "display_name": "venv",
   "language": "python",
   "name": "python3"
  },
  "language_info": {
   "codemirror_mode": {
    "name": "ipython",
    "version": 3
   },
   "file_extension": ".py",
   "mimetype": "text/x-python",
   "name": "python",
   "nbconvert_exporter": "python",
   "pygments_lexer": "ipython3",
   "version": "3.8.10"
  },
  "orig_nbformat": 4,
  "vscode": {
   "interpreter": {
    "hash": "f859f1e6f927a99659bbed8c715d8b2e0ee62a381a7a8caee1b1f662fc1c2ad7"
   }
  }
 },
 "nbformat": 4,
 "nbformat_minor": 2
}
