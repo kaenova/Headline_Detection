{
  "cells": [
    {
      "cell_type": "code",
      "execution_count": 8,
      "metadata": {
        "colab": {
          "base_uri": "https://localhost:8080/"
        },
        "id": "ASPa3N22WtA9",
        "outputId": "4067e10b-2f8d-4ca4-e678-3c3afb9d7a32"
      },
      "outputs": [
        {
          "name": "stdout",
          "output_type": "stream",
          "text": [
            "--2023-02-04 08:47:27--  https://is3.cloudhost.id/s3.kaenova.my.id/IMDB%20Dataset.zip\n",
            "Resolving is3.cloudhost.id (is3.cloudhost.id)... 103.63.24.210, 103.63.24.211\n",
            "Connecting to is3.cloudhost.id (is3.cloudhost.id)|103.63.24.210|:443... connected.\n",
            "HTTP request sent, awaiting response... 200 OK\n",
            "Length: 26962657 (26M) [application/octet-stream]\n",
            "Saving to: ‘IMDB Dataset.zip’\n",
            "\n",
            "IMDB Dataset.zip     77%[==============>     ]  19.95M  55.8KB/s    in 4m 48s  \n",
            "\n",
            "2023-02-04 08:52:15 (71.0 KB/s) - Connection closed at byte 20920424. Retrying.\n",
            "\n",
            "--2023-02-04 08:52:16--  (try: 2)  https://is3.cloudhost.id/s3.kaenova.my.id/IMDB%20Dataset.zip\n",
            "Connecting to is3.cloudhost.id (is3.cloudhost.id)|103.63.24.210|:443... connected.\n",
            "HTTP request sent, awaiting response... 206 Partial Content\n",
            "Length: 26962657 (26M), 6042233 (5.8M) remaining [application/octet-stream]\n",
            "Saving to: ‘IMDB Dataset.zip’\n",
            "\n",
            "IMDB Dataset.zip    100%[+++++++++++++++====>]  25.71M  1.25MB/s    in 9.0s    \n",
            "\n",
            "2023-02-04 08:52:26 (655 KB/s) - ‘IMDB Dataset.zip’ saved [26962657/26962657]\n",
            "\n",
            "Archive:  /content/Headline_Detection/IMDB Dataset.zip\n",
            "  inflating: IMDB Dataset.csv        \n"
          ]
        }
      ],
      "source": [
        "# Prepare Google Colab Environement and build handmade library\n",
        "# !git clone https://github.com/kaenova/Headline_Detection.git\n",
        "# %cd \"/content/Headline_Detection\"\n",
        "\n",
        "# !make lib\n",
        "\n",
        "# !wget \"https://is3.cloudhost.id/s3.kaenova.my.id/IMDB%20Dataset.zip\"\n",
        "# !unzip \"/content/Headline_Detection/IMDB Dataset.zip\""
      ]
    },
    {
      "cell_type": "code",
      "execution_count": 9,
      "metadata": {
        "id": "U7Vx2nnplmg_"
      },
      "outputs": [],
      "source": [
        "# # Reset Google Colab Environment\n",
        "# %cd ..\n",
        "# !rm -fr Headline_Detection"
      ]
    },
    {
      "cell_type": "code",
      "execution_count": 10,
      "metadata": {
        "id": "8S6iUKj3WdHd"
      },
      "outputs": [],
      "source": [
        "import pickle\n",
        "import bz2\n",
        "import pandas as pd"
      ]
    },
    {
      "cell_type": "markdown",
      "metadata": {
        "id": "uknTeeE7WdHe"
      },
      "source": [
        "## Compressing RAW IMDB Dataset File (only used once)"
      ]
    },
    {
      "cell_type": "code",
      "execution_count": 11,
      "metadata": {
        "id": "LRB7l1VcWdHf"
      },
      "outputs": [],
      "source": [
        "def compressed_pickle(title, data):\n",
        "    with bz2.BZ2File(title + '.pbz2','w') as f: \n",
        "        pickle.dump(data, f)\n",
        "        \n",
        "def decompress_pickle(file):\n",
        "    data = bz2.BZ2File(file, 'rb')\n",
        "    data = pickle.load(data)\n",
        "    return data"
      ]
    },
    {
      "cell_type": "code",
      "execution_count": 13,
      "metadata": {
        "id": "c520ZBTUYC4I"
      },
      "outputs": [],
      "source": [
        "df_orig = pd.read_csv(\"/content/Headline_Detection/IMDB Dataset.csv\") # Uncomment this if you're running on colab\n",
        "# df_orig = decompress_pickle(\"../../data/0. External Data (not used in research)/IMDB Dataset Pandas DataFrame.pbz2\") # Comment this if you're using colab"
      ]
    },
    {
      "cell_type": "markdown",
      "metadata": {
        "id": "UvnyiXyUWdHh"
      },
      "source": [
        "# Testing training model"
      ]
    },
    {
      "cell_type": "code",
      "execution_count": 14,
      "metadata": {
        "id": "oP3M3ynTWdHh"
      },
      "outputs": [],
      "source": [
        "# Custom handmade library\n",
        "import kaelib.processor.preprocessing_func as prep_func\n",
        "from kaelib.processor import TextProcessingPipeline"
      ]
    },
    {
      "cell_type": "code",
      "execution_count": 44,
      "metadata": {
        "colab": {
          "base_uri": "https://localhost:8080/",
          "height": 206
        },
        "id": "uCgKg-4VWdHi",
        "outputId": "c095bf6c-f286-454d-ecc7-7363349c9698"
      },
      "outputs": [
        {
          "data": {
            "text/html": [
              "\n",
              "  <div id=\"df-12418526-6607-49f4-8436-98d689b8104e\">\n",
              "    <div class=\"colab-df-container\">\n",
              "      <div>\n",
              "<style scoped>\n",
              "    .dataframe tbody tr th:only-of-type {\n",
              "        vertical-align: middle;\n",
              "    }\n",
              "\n",
              "    .dataframe tbody tr th {\n",
              "        vertical-align: top;\n",
              "    }\n",
              "\n",
              "    .dataframe thead th {\n",
              "        text-align: right;\n",
              "    }\n",
              "</style>\n",
              "<table border=\"1\" class=\"dataframe\">\n",
              "  <thead>\n",
              "    <tr style=\"text-align: right;\">\n",
              "      <th></th>\n",
              "      <th>review</th>\n",
              "      <th>sentiment</th>\n",
              "    </tr>\n",
              "  </thead>\n",
              "  <tbody>\n",
              "    <tr>\n",
              "      <th>0</th>\n",
              "      <td>One of the other reviewers has mentioned that ...</td>\n",
              "      <td>positive</td>\n",
              "    </tr>\n",
              "    <tr>\n",
              "      <th>1</th>\n",
              "      <td>A wonderful little production. &lt;br /&gt;&lt;br /&gt;The...</td>\n",
              "      <td>positive</td>\n",
              "    </tr>\n",
              "    <tr>\n",
              "      <th>2</th>\n",
              "      <td>I thought this was a wonderful way to spend ti...</td>\n",
              "      <td>positive</td>\n",
              "    </tr>\n",
              "    <tr>\n",
              "      <th>3</th>\n",
              "      <td>Basically there's a family where a little boy ...</td>\n",
              "      <td>negative</td>\n",
              "    </tr>\n",
              "    <tr>\n",
              "      <th>4</th>\n",
              "      <td>Petter Mattei's \"Love in the Time of Money\" is...</td>\n",
              "      <td>positive</td>\n",
              "    </tr>\n",
              "  </tbody>\n",
              "</table>\n",
              "</div>\n",
              "      <button class=\"colab-df-convert\" onclick=\"convertToInteractive('df-12418526-6607-49f4-8436-98d689b8104e')\"\n",
              "              title=\"Convert this dataframe to an interactive table.\"\n",
              "              style=\"display:none;\">\n",
              "        \n",
              "  <svg xmlns=\"http://www.w3.org/2000/svg\" height=\"24px\"viewBox=\"0 0 24 24\"\n",
              "       width=\"24px\">\n",
              "    <path d=\"M0 0h24v24H0V0z\" fill=\"none\"/>\n",
              "    <path d=\"M18.56 5.44l.94 2.06.94-2.06 2.06-.94-2.06-.94-.94-2.06-.94 2.06-2.06.94zm-11 1L8.5 8.5l.94-2.06 2.06-.94-2.06-.94L8.5 2.5l-.94 2.06-2.06.94zm10 10l.94 2.06.94-2.06 2.06-.94-2.06-.94-.94-2.06-.94 2.06-2.06.94z\"/><path d=\"M17.41 7.96l-1.37-1.37c-.4-.4-.92-.59-1.43-.59-.52 0-1.04.2-1.43.59L10.3 9.45l-7.72 7.72c-.78.78-.78 2.05 0 2.83L4 21.41c.39.39.9.59 1.41.59.51 0 1.02-.2 1.41-.59l7.78-7.78 2.81-2.81c.8-.78.8-2.07 0-2.86zM5.41 20L4 18.59l7.72-7.72 1.47 1.35L5.41 20z\"/>\n",
              "  </svg>\n",
              "      </button>\n",
              "      \n",
              "  <style>\n",
              "    .colab-df-container {\n",
              "      display:flex;\n",
              "      flex-wrap:wrap;\n",
              "      gap: 12px;\n",
              "    }\n",
              "\n",
              "    .colab-df-convert {\n",
              "      background-color: #E8F0FE;\n",
              "      border: none;\n",
              "      border-radius: 50%;\n",
              "      cursor: pointer;\n",
              "      display: none;\n",
              "      fill: #1967D2;\n",
              "      height: 32px;\n",
              "      padding: 0 0 0 0;\n",
              "      width: 32px;\n",
              "    }\n",
              "\n",
              "    .colab-df-convert:hover {\n",
              "      background-color: #E2EBFA;\n",
              "      box-shadow: 0px 1px 2px rgba(60, 64, 67, 0.3), 0px 1px 3px 1px rgba(60, 64, 67, 0.15);\n",
              "      fill: #174EA6;\n",
              "    }\n",
              "\n",
              "    [theme=dark] .colab-df-convert {\n",
              "      background-color: #3B4455;\n",
              "      fill: #D2E3FC;\n",
              "    }\n",
              "\n",
              "    [theme=dark] .colab-df-convert:hover {\n",
              "      background-color: #434B5C;\n",
              "      box-shadow: 0px 1px 3px 1px rgba(0, 0, 0, 0.15);\n",
              "      filter: drop-shadow(0px 1px 2px rgba(0, 0, 0, 0.3));\n",
              "      fill: #FFFFFF;\n",
              "    }\n",
              "  </style>\n",
              "\n",
              "      <script>\n",
              "        const buttonEl =\n",
              "          document.querySelector('#df-12418526-6607-49f4-8436-98d689b8104e button.colab-df-convert');\n",
              "        buttonEl.style.display =\n",
              "          google.colab.kernel.accessAllowed ? 'block' : 'none';\n",
              "\n",
              "        async function convertToInteractive(key) {\n",
              "          const element = document.querySelector('#df-12418526-6607-49f4-8436-98d689b8104e');\n",
              "          const dataTable =\n",
              "            await google.colab.kernel.invokeFunction('convertToInteractive',\n",
              "                                                     [key], {});\n",
              "          if (!dataTable) return;\n",
              "\n",
              "          const docLinkHtml = 'Like what you see? Visit the ' +\n",
              "            '<a target=\"_blank\" href=https://colab.research.google.com/notebooks/data_table.ipynb>data table notebook</a>'\n",
              "            + ' to learn more about interactive tables.';\n",
              "          element.innerHTML = '';\n",
              "          dataTable['output_type'] = 'display_data';\n",
              "          await google.colab.output.renderOutput(dataTable, element);\n",
              "          const docLink = document.createElement('div');\n",
              "          docLink.innerHTML = docLinkHtml;\n",
              "          element.appendChild(docLink);\n",
              "        }\n",
              "      </script>\n",
              "    </div>\n",
              "  </div>\n",
              "  "
            ],
            "text/plain": [
              "                                              review sentiment\n",
              "0  One of the other reviewers has mentioned that ...  positive\n",
              "1  A wonderful little production. <br /><br />The...  positive\n",
              "2  I thought this was a wonderful way to spend ti...  positive\n",
              "3  Basically there's a family where a little boy ...  negative\n",
              "4  Petter Mattei's \"Love in the Time of Money\" is...  positive"
            ]
          },
          "execution_count": 44,
          "metadata": {},
          "output_type": "execute_result"
        }
      ],
      "source": [
        "df = df_orig.copy()\n",
        "df.head(5)"
      ]
    },
    {
      "cell_type": "code",
      "execution_count": 45,
      "metadata": {
        "id": "GtwRkxtCWdHi"
      },
      "outputs": [],
      "source": [
        "# Train test split\n",
        "\n",
        "test_ratio = 0.001\n",
        "train_size = int(len(df) // (1 / (1 - test_ratio)))\n",
        "\n",
        "text_train = df[\"review\"].to_list()[:train_size]\n",
        "text_test = df[\"review\"].to_list()[train_size:]\n",
        "\n",
        "label2id = {\"positive\": 1, \"negative\": 0}\n",
        "id2label = {v: k for k, v in label2id.items()}\n",
        "\n",
        "labels_train = df[\"sentiment\"].apply(lambda x: label2id[x]).to_list()[:train_size]\n",
        "labels_test = df[\"sentiment\"].apply(lambda x: label2id[x]).to_list()[train_size:]\n"
      ]
    },
    {
      "cell_type": "code",
      "execution_count": 46,
      "metadata": {
        "id": "7Vtae1NHlPLl"
      },
      "outputs": [],
      "source": [
        "# Prep text\n",
        "pipeline = TextProcessingPipeline([\n",
        "    prep_func.lowercasing,\n",
        "    prep_func.remove_html_tags,\n",
        "    prep_func.remove_url,\n",
        "    prep_func.remove_punctuation\n",
        "])\n",
        "\n",
        "X_train = pipeline.process_corpus(text_train)\n",
        "X_test = pipeline.process_corpus(text_test)\n",
        "\n",
        "y_train = labels_train[:]\n",
        "y_test = labels_test[:]"
      ]
    },
    {
      "cell_type": "code",
      "execution_count": 47,
      "metadata": {
        "id": "46fQ_VcXWdHi"
      },
      "outputs": [],
      "source": [
        "import typing\n",
        "import torch\n",
        "\n",
        "from tokenizers import Tokenizer, models, pre_tokenizers, trainers\n",
        "\n",
        "class WordTokenizer:\n",
        "    special_vocab2id = {\n",
        "        \"[PAD]\": 0,\n",
        "        \"[UNK]\": 1,\n",
        "    }\n",
        "    special_id2vocab = {v: k for k, v in special_vocab2id.items()}\n",
        "    special_token = list(special_vocab2id.keys())\n",
        "\n",
        "    def __init__(self, vocab_size=10000) -> None:\n",
        "        self.vocab_size = vocab_size\n",
        "\n",
        "        self.tokenizer = Tokenizer(\n",
        "            models.WordLevel(vocab=self.special_vocab2id, unk_token=\"[UNK]\")\n",
        "        )\n",
        "\n",
        "        self.tokenizer.pre_tokenizer = pre_tokenizers.Sequence(\n",
        "            [pre_tokenizers.WhitespaceSplit()]\n",
        "        )  # type: ignore\n",
        "\n",
        "    def train(self, corpus: \"typing.List[str]\", min_frequency=2):\n",
        "        trainer = trainers.WordLevelTrainer(\n",
        "            vocab_size=self.vocab_size,\n",
        "            min_frequency=min_frequency,\n",
        "            special_tokens=self.special_token,\n",
        "        )  # type: ignore\n",
        "\n",
        "        self.tokenizer.train_from_iterator(corpus, trainer=trainer)\n",
        "\n",
        "    def encode(self, text: \"typing.List[str]\", max_length=256) -> \"torch.Tensor\":\n",
        "        self.tokenizer.enable_padding(\n",
        "            direction=\"right\", pad_id=self.special_vocab2id[\"[PAD]\"], length=max_length\n",
        "        )\n",
        "        self.tokenizer.enable_truncation(max_length)\n",
        "\n",
        "        tokenized = self.tokenizer.encode_batch(text)\n",
        "\n",
        "        final_tokenized = []\n",
        "\n",
        "        for encode in tokenized:\n",
        "            final_tokenized.append(encode.ids)\n",
        "\n",
        "        final_tokenized = torch.tensor(final_tokenized)\n",
        "\n",
        "        self.tokenizer.no_padding()\n",
        "        self.tokenizer.no_truncation()\n",
        "\n",
        "        return final_tokenized\n",
        "\n",
        "    def save(self, path: \"str\"):\n",
        "        self.tokenizer.save(path)\n",
        "\n",
        "    def __init_from_path__(self, path):\n",
        "        self.tokenizer.from_file(path)\n",
        "\n",
        "    @classmethod\n",
        "    def load(cls, path):\n",
        "        obj = cls.__new__(cls)\n",
        "        obj.tokenizer = Tokenizer.from_file(path)\n",
        "        return obj"
      ]
    },
    {
      "cell_type": "code",
      "execution_count": null,
      "metadata": {},
      "outputs": [],
      "source": [
        "from torch.utils.data import Dataset\n",
        "import torch\n",
        "import typing\n",
        "\n",
        "class TextClassificationDataset(Dataset):\n",
        "    def __init__(\n",
        "        self,\n",
        "        x: \"list[str]\",\n",
        "        y: \"list[int]\",\n",
        "        preprocessor: \"typing.Optional[TextProcessingPipeline]\" = None,\n",
        "    ):\n",
        "        assert len(x) == len(y)\n",
        "        self.x = x\n",
        "        self.y = torch.tensor(y)\n",
        "        self.preprocessor = preprocessor\n",
        "\n",
        "    def __len__(self):\n",
        "        return len(self.x)\n",
        "\n",
        "    def _process_idx_text(self, idx):\n",
        "        data = self.x[idx]\n",
        "        if type(idx) is not slice:\n",
        "            data = [self.x[idx]]\n",
        "        if self.preprocessor is not None:\n",
        "            data = self.preprocessor.process_corpus(data)\n",
        "        return data\n",
        "\n",
        "    def __getitem__(self, idx):\n",
        "        processed_corpus = self._process_idx_text(idx)\n",
        "        return processed_corpus, self.y[idx]"
      ]
    },
    {
      "cell_type": "code",
      "execution_count": 330,
      "metadata": {},
      "outputs": [],
      "source": [
        "# https://ieeexplore.ieee.org/document/8577620\n",
        "# https://ieeexplore.ieee.org/abstract/document/8589431\n",
        "# https://ieeexplore.ieee.org/document/8691381\n",
        "\n",
        "import torch\n",
        "import torch.nn as nn\n",
        "import torch.nn.functional as F\n",
        "import lightning.pytorch as pl\n",
        "\n",
        "\n",
        "class LSTMCNNClassifier(pl.LightningModule):\n",
        "    def __init__(\n",
        "        self,\n",
        "        seq_length: \"int\",\n",
        "        out_feature: \"int\",\n",
        "        vocab_size: \"int\" = 10000,\n",
        "        text_embed_size: \"int\" = 128,\n",
        "        lstm_hidden_size: \"int\" = 256,\n",
        "        lstm_layers: \"int\" = 2,\n",
        "        lstm_dropout: \"float\" = 0.5,\n",
        "        conv_channels_out: \"int\" = 256,\n",
        "    ) -> None:\n",
        "        super().__init__()\n",
        "\n",
        "        # Config\n",
        "        self.seq_length = seq_length\n",
        "\n",
        "        # Layer\n",
        "        self.text_embeddings = nn.Embedding(\n",
        "            vocab_size, text_embed_size, device=self.device\n",
        "        )\n",
        "\n",
        "        self.lstm_layer = nn.LSTM(\n",
        "            input_size=text_embed_size,\n",
        "            hidden_size=lstm_hidden_size,\n",
        "            num_layers=lstm_layers,\n",
        "            dropout=lstm_dropout,\n",
        "            batch_first=True,\n",
        "        )\n",
        "\n",
        "        self.conv_layer = nn.Sequential(\n",
        "            nn.Conv1d(lstm_hidden_size, conv_channels_out, 3),\n",
        "            nn.MaxPool2d(2),\n",
        "            nn.Flatten(1),\n",
        "        )\n",
        "\n",
        "        self.classification_head = nn.Sequential(\n",
        "            nn.Linear(((seq_length - 2) // 2) * (conv_channels_out // 2), 1024),\n",
        "            nn.Linear(1024, 512),\n",
        "            nn.Linear(512, 256),\n",
        "            nn.Linear(256, 128),\n",
        "            nn.Linear(128, out_feature),\n",
        "        )\n",
        "\n",
        "    def forward(self, x: \"torch.Tensor\"):\n",
        "        sequence_length = x.shape[-1]\n",
        "        assert sequence_length == self.seq_length\n",
        "\n",
        "        batch_input = True\n",
        "        if len(x.shape) == 1:\n",
        "            batch_input = False\n",
        "            x = torch.stack([x])\n",
        "\n",
        "        x = self.text_embeddings(x)\n",
        "        x, _ = self.lstm_layer(x)  # (N, seq_length, lstm_hidden_size)\n",
        "        x = x.reshape([x.shape[0], x.shape[2], x.shape[1]])\n",
        "        # print(\"test\",x.shape)\n",
        "        x = self.conv_layer(x)\n",
        "        x = self.classification_head(x)\n",
        "\n",
        "        if not batch_input:\n",
        "            x = x[0]\n",
        "\n",
        "        return x\n",
        "\n",
        "    def training_step(self, batch, batch_idx):\n",
        "        # training_step defines the train loop.\n",
        "        x, y = batch\n",
        "        pred = self.forward(x[0])\n",
        "        loss = F.cross_entropy(pred, y)\n",
        "        self.log(\"training_loss\", loss)\n",
        "        return loss\n",
        "\n",
        "    def validation_step(self, batch, batch_idx):\n",
        "        # training_step defines the train loop.\n",
        "        x, y = batch\n",
        "        pred = self.forward(x[0])\n",
        "        loss = F.cross_entropy(pred, y)\n",
        "        self.log(\"validation_loss\", loss)\n",
        "\n",
        "    def test_step(self, batch, batch_idx):\n",
        "        # training_step defines the train loop.\n",
        "        x, y = batch\n",
        "        pred = self.forward(x[0])\n",
        "        loss = F.cross_entropy(pred, y)\n",
        "        self.log(\"test_loss\", loss)\n",
        "\n",
        "    def configure_optimizers(self):\n",
        "        optimizer = torch.optim.Adam(self.parameters(), lr=0.00001)\n",
        "        return optimizer\n"
      ]
    },
    {
      "cell_type": "code",
      "execution_count": 331,
      "metadata": {},
      "outputs": [
        {
          "data": {
            "text/plain": [
              "tensor([[-0.0372,  0.0808],\n",
              "        [-0.0353,  0.0816]], grad_fn=<AddmmBackward0>)"
            ]
          },
          "execution_count": 331,
          "metadata": {},
          "output_type": "execute_result"
        }
      ],
      "source": [
        "import torch\n",
        "# sample = torch.randint(9999, (0,128))\n",
        "\n",
        "model = LSTMCNNClassifier(128, 2)\n",
        "sample = torch.randint(999, (2, 128))\n",
        "model(sample)\n"
      ]
    },
    {
      "cell_type": "code",
      "execution_count": 51,
      "metadata": {
        "colab": {
          "base_uri": "https://localhost:8080/"
        },
        "id": "hGLAqEYGZlJ-",
        "outputId": "02734f1f-13a2-41e7-bb68-a9a8277e5072"
      },
      "outputs": [
        {
          "name": "stdout",
          "output_type": "stream",
          "text": [
            "'This movie suck' : negative\n",
            "'I love this movie so much' : negative\n",
            "'Meh' : negative\n",
            "'This movie kinda suck, but there's some part that i love' : negative\n"
          ]
        }
      ],
      "source": [
        "test_input = [\"This movie suck\", \"I love this movie so much\", \"Meh\", \"This movie kinda suck, but there's some part that i love\"]\n",
        "with torch.no_grad():\n",
        "    pred = model(test_input)\n",
        "    pred = F.softmax(pred, dim=1)\n",
        "    pred_np = pred.argmax(dim=1).cpu().detach().numpy()\n",
        "    for i in range(len(test_input)):\n",
        "        print(f\"'{test_input[i]}' : {id2label[pred_np[i]]}\")"
      ]
    }
  ],
  "metadata": {
    "accelerator": "GPU",
    "colab": {
      "provenance": []
    },
    "gpuClass": "standard",
    "kernelspec": {
      "display_name": "venv",
      "language": "python",
      "name": "python3"
    },
    "language_info": {
      "codemirror_mode": {
        "name": "ipython",
        "version": 3
      },
      "file_extension": ".py",
      "mimetype": "text/x-python",
      "name": "python",
      "nbconvert_exporter": "python",
      "pygments_lexer": "ipython3",
      "version": "3.8.10"
    },
    "orig_nbformat": 4,
    "vscode": {
      "interpreter": {
        "hash": "f859f1e6f927a99659bbed8c715d8b2e0ee62a381a7a8caee1b1f662fc1c2ad7"
      }
    }
  },
  "nbformat": 4,
  "nbformat_minor": 0
}
