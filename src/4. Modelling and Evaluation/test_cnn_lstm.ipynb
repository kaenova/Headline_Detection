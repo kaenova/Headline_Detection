{
  "cells": [
    {
      "cell_type": "code",
      "source": [
        "!pip install pytorch-nlp"
      ],
      "metadata": {
        "id": "ks0mkuY4YPBs",
        "outputId": "9992a627-ba3f-4088-d265-31c661f4218f",
        "colab": {
          "base_uri": "https://localhost:8080/"
        }
      },
      "execution_count": 1,
      "outputs": [
        {
          "output_type": "stream",
          "name": "stdout",
          "text": [
            "Looking in indexes: https://pypi.org/simple, https://us-python.pkg.dev/colab-wheels/public/simple/\n",
            "Collecting pytorch-nlp\n",
            "  Downloading pytorch_nlp-0.5.0-py3-none-any.whl (90 kB)\n",
            "\u001b[2K     \u001b[90m━━━━━━━━━━━━━━━━━━━━━━━━━━━━━━━━━━━━━━━━\u001b[0m \u001b[32m90.1/90.1 KB\u001b[0m \u001b[31m8.0 MB/s\u001b[0m eta \u001b[36m0:00:00\u001b[0m\n",
            "\u001b[?25hRequirement already satisfied: tqdm in /usr/local/lib/python3.8/dist-packages (from pytorch-nlp) (4.64.1)\n",
            "Requirement already satisfied: numpy in /usr/local/lib/python3.8/dist-packages (from pytorch-nlp) (1.21.6)\n",
            "Installing collected packages: pytorch-nlp\n",
            "Successfully installed pytorch-nlp-0.5.0\n"
          ]
        }
      ]
    },
    {
      "cell_type": "code",
      "source": [
        "!wget \"https://is3.cloudhost.id/s3.kaenova.my.id/IMDB%20Dataset.zip\"\n",
        "!unzip \"/content/IMDB Dataset.zip\""
      ],
      "metadata": {
        "id": "ASPa3N22WtA9",
        "outputId": "a24a03dd-839a-4e52-c92b-81d4b10d4deb",
        "colab": {
          "base_uri": "https://localhost:8080/"
        }
      },
      "execution_count": 2,
      "outputs": [
        {
          "output_type": "stream",
          "name": "stdout",
          "text": [
            "--2023-02-03 08:27:00--  https://is3.cloudhost.id/s3.kaenova.my.id/IMDB%20Dataset.zip\n",
            "Resolving is3.cloudhost.id (is3.cloudhost.id)... 103.63.24.211, 103.63.24.210\n",
            "Connecting to is3.cloudhost.id (is3.cloudhost.id)|103.63.24.211|:443... connected.\n",
            "HTTP request sent, awaiting response... 200 OK\n",
            "Length: 26962657 (26M) [application/octet-stream]\n",
            "Saving to: ‘IMDB Dataset.zip’\n",
            "\n",
            "IMDB Dataset.zip    100%[===================>]  25.71M  58.0MB/s    in 0.4s    \n",
            "\n",
            "2023-02-03 08:27:01 (58.0 MB/s) - ‘IMDB Dataset.zip’ saved [26962657/26962657]\n",
            "\n",
            "Archive:  /content/IMDB Dataset.zip\n",
            "  inflating: IMDB Dataset.csv        \n"
          ]
        }
      ]
    },
    {
      "cell_type": "code",
      "execution_count": 3,
      "metadata": {
        "id": "8S6iUKj3WdHd"
      },
      "outputs": [],
      "source": [
        "import pickle\n",
        "import bz2\n",
        "import pandas as pd"
      ]
    },
    {
      "cell_type": "markdown",
      "metadata": {
        "id": "uknTeeE7WdHe"
      },
      "source": [
        "## Compressing RAW IMDB Dataset File (only used once)"
      ]
    },
    {
      "cell_type": "code",
      "execution_count": 4,
      "metadata": {
        "id": "LRB7l1VcWdHf"
      },
      "outputs": [],
      "source": [
        "def compressed_pickle(title, data):\n",
        "    with bz2.BZ2File(title + '.pbz2','w') as f: \n",
        "        pickle.dump(data, f)\n",
        "        \n",
        "def decompress_pickle(file):\n",
        "    data = bz2.BZ2File(file, 'rb')\n",
        "    data = pickle.load(data)\n",
        "    return data"
      ]
    },
    {
      "cell_type": "code",
      "source": [
        "df_orig = pd.read_csv(\"/content/IMDB Dataset.csv\")"
      ],
      "metadata": {
        "id": "c520ZBTUYC4I"
      },
      "execution_count": 5,
      "outputs": []
    },
    {
      "cell_type": "markdown",
      "metadata": {
        "id": "UvnyiXyUWdHh"
      },
      "source": [
        "# Testing training model"
      ]
    },
    {
      "cell_type": "code",
      "execution_count": 19,
      "metadata": {
        "id": "oP3M3ynTWdHh"
      },
      "outputs": [],
      "source": [
        "import torch\n",
        "import math\n",
        "from tqdm import tqdm\n",
        "\n",
        "import numpy as np\n",
        "import torch.nn.functional as F\n",
        "import modules.lstm_cnn as mod"
      ]
    },
    {
      "cell_type": "code",
      "execution_count": 7,
      "metadata": {
        "id": "uCgKg-4VWdHi",
        "outputId": "e9e656ff-66c7-4822-84a9-1bf78764da8e",
        "colab": {
          "base_uri": "https://localhost:8080/",
          "height": 206
        }
      },
      "outputs": [
        {
          "output_type": "execute_result",
          "data": {
            "text/plain": [
              "                                              review sentiment\n",
              "0  One of the other reviewers has mentioned that ...  positive\n",
              "1  A wonderful little production. <br /><br />The...  positive\n",
              "2  I thought this was a wonderful way to spend ti...  positive\n",
              "3  Basically there's a family where a little boy ...  negative\n",
              "4  Petter Mattei's \"Love in the Time of Money\" is...  positive"
            ],
            "text/html": [
              "\n",
              "  <div id=\"df-ef936b27-b666-4551-85d6-98d34729ddfa\">\n",
              "    <div class=\"colab-df-container\">\n",
              "      <div>\n",
              "<style scoped>\n",
              "    .dataframe tbody tr th:only-of-type {\n",
              "        vertical-align: middle;\n",
              "    }\n",
              "\n",
              "    .dataframe tbody tr th {\n",
              "        vertical-align: top;\n",
              "    }\n",
              "\n",
              "    .dataframe thead th {\n",
              "        text-align: right;\n",
              "    }\n",
              "</style>\n",
              "<table border=\"1\" class=\"dataframe\">\n",
              "  <thead>\n",
              "    <tr style=\"text-align: right;\">\n",
              "      <th></th>\n",
              "      <th>review</th>\n",
              "      <th>sentiment</th>\n",
              "    </tr>\n",
              "  </thead>\n",
              "  <tbody>\n",
              "    <tr>\n",
              "      <th>0</th>\n",
              "      <td>One of the other reviewers has mentioned that ...</td>\n",
              "      <td>positive</td>\n",
              "    </tr>\n",
              "    <tr>\n",
              "      <th>1</th>\n",
              "      <td>A wonderful little production. &lt;br /&gt;&lt;br /&gt;The...</td>\n",
              "      <td>positive</td>\n",
              "    </tr>\n",
              "    <tr>\n",
              "      <th>2</th>\n",
              "      <td>I thought this was a wonderful way to spend ti...</td>\n",
              "      <td>positive</td>\n",
              "    </tr>\n",
              "    <tr>\n",
              "      <th>3</th>\n",
              "      <td>Basically there's a family where a little boy ...</td>\n",
              "      <td>negative</td>\n",
              "    </tr>\n",
              "    <tr>\n",
              "      <th>4</th>\n",
              "      <td>Petter Mattei's \"Love in the Time of Money\" is...</td>\n",
              "      <td>positive</td>\n",
              "    </tr>\n",
              "  </tbody>\n",
              "</table>\n",
              "</div>\n",
              "      <button class=\"colab-df-convert\" onclick=\"convertToInteractive('df-ef936b27-b666-4551-85d6-98d34729ddfa')\"\n",
              "              title=\"Convert this dataframe to an interactive table.\"\n",
              "              style=\"display:none;\">\n",
              "        \n",
              "  <svg xmlns=\"http://www.w3.org/2000/svg\" height=\"24px\"viewBox=\"0 0 24 24\"\n",
              "       width=\"24px\">\n",
              "    <path d=\"M0 0h24v24H0V0z\" fill=\"none\"/>\n",
              "    <path d=\"M18.56 5.44l.94 2.06.94-2.06 2.06-.94-2.06-.94-.94-2.06-.94 2.06-2.06.94zm-11 1L8.5 8.5l.94-2.06 2.06-.94-2.06-.94L8.5 2.5l-.94 2.06-2.06.94zm10 10l.94 2.06.94-2.06 2.06-.94-2.06-.94-.94-2.06-.94 2.06-2.06.94z\"/><path d=\"M17.41 7.96l-1.37-1.37c-.4-.4-.92-.59-1.43-.59-.52 0-1.04.2-1.43.59L10.3 9.45l-7.72 7.72c-.78.78-.78 2.05 0 2.83L4 21.41c.39.39.9.59 1.41.59.51 0 1.02-.2 1.41-.59l7.78-7.78 2.81-2.81c.8-.78.8-2.07 0-2.86zM5.41 20L4 18.59l7.72-7.72 1.47 1.35L5.41 20z\"/>\n",
              "  </svg>\n",
              "      </button>\n",
              "      \n",
              "  <style>\n",
              "    .colab-df-container {\n",
              "      display:flex;\n",
              "      flex-wrap:wrap;\n",
              "      gap: 12px;\n",
              "    }\n",
              "\n",
              "    .colab-df-convert {\n",
              "      background-color: #E8F0FE;\n",
              "      border: none;\n",
              "      border-radius: 50%;\n",
              "      cursor: pointer;\n",
              "      display: none;\n",
              "      fill: #1967D2;\n",
              "      height: 32px;\n",
              "      padding: 0 0 0 0;\n",
              "      width: 32px;\n",
              "    }\n",
              "\n",
              "    .colab-df-convert:hover {\n",
              "      background-color: #E2EBFA;\n",
              "      box-shadow: 0px 1px 2px rgba(60, 64, 67, 0.3), 0px 1px 3px 1px rgba(60, 64, 67, 0.15);\n",
              "      fill: #174EA6;\n",
              "    }\n",
              "\n",
              "    [theme=dark] .colab-df-convert {\n",
              "      background-color: #3B4455;\n",
              "      fill: #D2E3FC;\n",
              "    }\n",
              "\n",
              "    [theme=dark] .colab-df-convert:hover {\n",
              "      background-color: #434B5C;\n",
              "      box-shadow: 0px 1px 3px 1px rgba(0, 0, 0, 0.15);\n",
              "      filter: drop-shadow(0px 1px 2px rgba(0, 0, 0, 0.3));\n",
              "      fill: #FFFFFF;\n",
              "    }\n",
              "  </style>\n",
              "\n",
              "      <script>\n",
              "        const buttonEl =\n",
              "          document.querySelector('#df-ef936b27-b666-4551-85d6-98d34729ddfa button.colab-df-convert');\n",
              "        buttonEl.style.display =\n",
              "          google.colab.kernel.accessAllowed ? 'block' : 'none';\n",
              "\n",
              "        async function convertToInteractive(key) {\n",
              "          const element = document.querySelector('#df-ef936b27-b666-4551-85d6-98d34729ddfa');\n",
              "          const dataTable =\n",
              "            await google.colab.kernel.invokeFunction('convertToInteractive',\n",
              "                                                     [key], {});\n",
              "          if (!dataTable) return;\n",
              "\n",
              "          const docLinkHtml = 'Like what you see? Visit the ' +\n",
              "            '<a target=\"_blank\" href=https://colab.research.google.com/notebooks/data_table.ipynb>data table notebook</a>'\n",
              "            + ' to learn more about interactive tables.';\n",
              "          element.innerHTML = '';\n",
              "          dataTable['output_type'] = 'display_data';\n",
              "          await google.colab.output.renderOutput(dataTable, element);\n",
              "          const docLink = document.createElement('div');\n",
              "          docLink.innerHTML = docLinkHtml;\n",
              "          element.appendChild(docLink);\n",
              "        }\n",
              "      </script>\n",
              "    </div>\n",
              "  </div>\n",
              "  "
            ]
          },
          "metadata": {},
          "execution_count": 7
        }
      ],
      "source": [
        "df = df_orig.copy()\n",
        "df.head(5)"
      ]
    },
    {
      "cell_type": "code",
      "execution_count": 8,
      "metadata": {
        "id": "GtwRkxtCWdHi"
      },
      "outputs": [],
      "source": [
        "text = df['review'].values.tolist()\n",
        "\n",
        "label2id = {\n",
        "    \"positive\" : 1,\n",
        "    \"negative\" : 0\n",
        "}\n",
        "id2label = {v: k for k, v in label2id.items()}\n",
        "labels = df['sentiment'].apply(lambda x: label2id[x]).values.tolist()"
      ]
    },
    {
      "cell_type": "code",
      "execution_count": 9,
      "metadata": {
        "id": "46fQ_VcXWdHi"
      },
      "outputs": [],
      "source": [
        "tokenizer = mod.StaticTokenizerEncoderWraper(text, tokenize=lambda s: s.split())"
      ]
    },
    {
      "cell_type": "code",
      "execution_count": 10,
      "metadata": {
        "id": "6XHToAALWdHj"
      },
      "outputs": [],
      "source": [
        "# Batching function\n",
        "# https://stackoverflow.com/questions/8290397/how-to-split-an-iterable-in-constant-size-chunks\n",
        "from itertools import islice\n",
        "\n",
        "def batcher(iterable, batch_size):\n",
        "    iterator = iter(iterable)\n",
        "    while batch := list(islice(iterator, batch_size)):\n",
        "        yield batch\n"
      ]
    },
    {
      "cell_type": "code",
      "execution_count": 20,
      "metadata": {
        "id": "VImKEOrLWdHj",
        "outputId": "350a7d42-3d99-4f5f-edc5-d915f9ac9728",
        "colab": {
          "base_uri": "https://localhost:8080/"
        }
      },
      "outputs": [
        {
          "output_type": "stream",
          "name": "stdout",
          "text": [
            "EPOCH 1 / 10\n"
          ]
        },
        {
          "output_type": "stream",
          "name": "stderr",
          "text": [
            "Avg loss 0.6158621332475117: 100%|██████████| 98/98 [02:26<00:00,  1.49s/it]\n"
          ]
        },
        {
          "output_type": "stream",
          "name": "stdout",
          "text": [
            "EPOCH 2 / 10\n"
          ]
        },
        {
          "output_type": "stream",
          "name": "stderr",
          "text": [
            "Avg loss 0.38624478070711604: 100%|██████████| 98/98 [02:24<00:00,  1.48s/it]\n"
          ]
        },
        {
          "output_type": "stream",
          "name": "stdout",
          "text": [
            "EPOCH 3 / 10\n"
          ]
        },
        {
          "output_type": "stream",
          "name": "stderr",
          "text": [
            "Avg loss 0.25701883541686193: 100%|██████████| 98/98 [02:24<00:00,  1.47s/it]\n"
          ]
        },
        {
          "output_type": "stream",
          "name": "stdout",
          "text": [
            "EPOCH 4 / 10\n"
          ]
        },
        {
          "output_type": "stream",
          "name": "stderr",
          "text": [
            "Avg loss 0.18840720618561824: 100%|██████████| 98/98 [02:24<00:00,  1.48s/it]\n"
          ]
        },
        {
          "output_type": "stream",
          "name": "stdout",
          "text": [
            "EPOCH 5 / 10\n"
          ]
        },
        {
          "output_type": "stream",
          "name": "stderr",
          "text": [
            "Avg loss 0.13073319759295912: 100%|██████████| 98/98 [02:25<00:00,  1.48s/it]\n"
          ]
        },
        {
          "output_type": "stream",
          "name": "stdout",
          "text": [
            "EPOCH 6 / 10\n"
          ]
        },
        {
          "output_type": "stream",
          "name": "stderr",
          "text": [
            "Avg loss 0.07905368696974248: 100%|██████████| 98/98 [02:24<00:00,  1.48s/it]\n"
          ]
        },
        {
          "output_type": "stream",
          "name": "stdout",
          "text": [
            "EPOCH 7 / 10\n"
          ]
        },
        {
          "output_type": "stream",
          "name": "stderr",
          "text": [
            "Avg loss 0.05009155920991788: 100%|██████████| 98/98 [02:24<00:00,  1.48s/it]\n"
          ]
        },
        {
          "output_type": "stream",
          "name": "stdout",
          "text": [
            "EPOCH 8 / 10\n"
          ]
        },
        {
          "output_type": "stream",
          "name": "stderr",
          "text": [
            "Avg loss 0.024669784748432587: 100%|██████████| 98/98 [02:24<00:00,  1.48s/it]\n"
          ]
        },
        {
          "output_type": "stream",
          "name": "stdout",
          "text": [
            "EPOCH 9 / 10\n"
          ]
        },
        {
          "output_type": "stream",
          "name": "stderr",
          "text": [
            "Avg loss 0.01631760454560839: 100%|██████████| 98/98 [02:24<00:00,  1.48s/it]\n"
          ]
        },
        {
          "output_type": "stream",
          "name": "stdout",
          "text": [
            "EPOCH 10 / 10\n"
          ]
        },
        {
          "output_type": "stream",
          "name": "stderr",
          "text": [
            "Avg loss 0.004813332003731356: 100%|██████████| 98/98 [02:25<00:00,  1.48s/it]\n"
          ]
        }
      ],
      "source": [
        "batch_size = 512\n",
        "epochs = 10\n",
        "device='cuda'\n",
        "num_mini_batch = math.ceil(len(text) / batch_size)\n",
        "\n",
        "model = mod.LSTM_CNN(256, text_vectorizer=tokenizer, device=device).to(device)\n",
        "optim = torch.optim.Adam(model.parameters())\n",
        "\n",
        "for i in range(epochs):\n",
        "    print(f\"EPOCH {i + 1} / {epochs}\")\n",
        "    batch_generator_text = batcher(text, batch_size)\n",
        "    batch_generator_label = batcher(labels, batch_size)\n",
        "    epoch_loss = []\n",
        "    with tqdm(total=num_mini_batch) as pbar:\n",
        "        for j in range(num_mini_batch):\n",
        "            model.zero_grad()\n",
        "            mini_batch_text = next(batch_generator_text)\n",
        "            mini_batch_labels = next(batch_generator_label)\n",
        "            target = torch.tensor(mini_batch_labels, dtype=torch.int64, device=device)\n",
        "            \n",
        "            pred = model(mini_batch_text)\n",
        "            loss = F.cross_entropy(pred, target)\n",
        "            loss.backward()\n",
        "            optim.step()\n",
        "\n",
        "            epoch_loss.append(loss.item())\n",
        "            avg_loss = sum(epoch_loss) / len(epoch_loss)\n",
        "            pbar.set_description(f\"Avg loss {avg_loss}\")\n",
        "            pbar.update(1)\n"
      ]
    },
    {
      "cell_type": "code",
      "source": [
        "test_input = [\"This movie suck\", \"I love this movie so much\", \"Meh\", \"This movie kinda suck, but there's some part that i love\"]\n",
        "with torch.no_grad():\n",
        "    pred = model(test_input)\n",
        "    pred = F.softmax(pred, dim=1)\n",
        "    pred_np = pred.argmax(dim=1).cpu().detach().numpy()\n",
        "    for i in range(len(test_input)):\n",
        "        print(f\"'{test_input[i]}' : {id2label[pred_np[i]]}\")"
      ],
      "metadata": {
        "id": "hGLAqEYGZlJ-",
        "outputId": "0d699ea7-dbd4-4ded-9cc0-bd15227e7445",
        "colab": {
          "base_uri": "https://localhost:8080/"
        }
      },
      "execution_count": 41,
      "outputs": [
        {
          "output_type": "stream",
          "name": "stdout",
          "text": [
            "'This movie suck' : negative\n",
            "'I love this movie so much' : positive\n",
            "'Meh' : negative\n",
            "'This movie kinda suck, but there's some part that i love' : positive\n"
          ]
        }
      ]
    }
  ],
  "metadata": {
    "kernelspec": {
      "display_name": "venv",
      "language": "python",
      "name": "python3"
    },
    "language_info": {
      "codemirror_mode": {
        "name": "ipython",
        "version": 3
      },
      "file_extension": ".py",
      "mimetype": "text/x-python",
      "name": "python",
      "nbconvert_exporter": "python",
      "pygments_lexer": "ipython3",
      "version": "3.10.9"
    },
    "orig_nbformat": 4,
    "vscode": {
      "interpreter": {
        "hash": "f859f1e6f927a99659bbed8c715d8b2e0ee62a381a7a8caee1b1f662fc1c2ad7"
      }
    },
    "colab": {
      "provenance": []
    },
    "accelerator": "GPU",
    "gpuClass": "standard"
  },
  "nbformat": 4,
  "nbformat_minor": 0
}