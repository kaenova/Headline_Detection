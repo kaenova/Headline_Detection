{
  "cells": [
    {
      "cell_type": "code",
      "execution_count": 1,
      "metadata": {
        "colab": {
          "base_uri": "https://localhost:8080/"
        },
        "id": "ks0mkuY4YPBs",
        "outputId": "9992a627-ba3f-4088-d265-31c661f4218f"
      },
      "outputs": [
        {
          "name": "stdout",
          "output_type": "stream",
          "text": [
            "Looking in indexes: https://pypi.org/simple, https://us-python.pkg.dev/colab-wheels/public/simple/\n",
            "Collecting pytorch-nlp\n",
            "  Downloading pytorch_nlp-0.5.0-py3-none-any.whl (90 kB)\n",
            "\u001b[2K     \u001b[90m━━━━━━━━━━━━━━━━━━━━━━━━━━━━━━━━━━━━━━━━\u001b[0m \u001b[32m90.1/90.1 KB\u001b[0m \u001b[31m8.0 MB/s\u001b[0m eta \u001b[36m0:00:00\u001b[0m\n",
            "\u001b[?25hRequirement already satisfied: tqdm in /usr/local/lib/python3.8/dist-packages (from pytorch-nlp) (4.64.1)\n",
            "Requirement already satisfied: numpy in /usr/local/lib/python3.8/dist-packages (from pytorch-nlp) (1.21.6)\n",
            "Installing collected packages: pytorch-nlp\n",
            "Successfully installed pytorch-nlp-0.5.0\n"
          ]
        }
      ],
      "source": [
        "!pip install pytorch-nlp"
      ]
    },
    {
      "cell_type": "code",
      "execution_count": 2,
      "metadata": {
        "colab": {
          "base_uri": "https://localhost:8080/"
        },
        "id": "ASPa3N22WtA9",
        "outputId": "a24a03dd-839a-4e52-c92b-81d4b10d4deb"
      },
      "outputs": [
        {
          "name": "stdout",
          "output_type": "stream",
          "text": [
            "--2023-02-03 08:27:00--  https://is3.cloudhost.id/s3.kaenova.my.id/IMDB%20Dataset.zip\n",
            "Resolving is3.cloudhost.id (is3.cloudhost.id)... 103.63.24.211, 103.63.24.210\n",
            "Connecting to is3.cloudhost.id (is3.cloudhost.id)|103.63.24.211|:443... connected.\n",
            "HTTP request sent, awaiting response... 200 OK\n",
            "Length: 26962657 (26M) [application/octet-stream]\n",
            "Saving to: ‘IMDB Dataset.zip’\n",
            "\n",
            "IMDB Dataset.zip    100%[===================>]  25.71M  58.0MB/s    in 0.4s    \n",
            "\n",
            "2023-02-03 08:27:01 (58.0 MB/s) - ‘IMDB Dataset.zip’ saved [26962657/26962657]\n",
            "\n",
            "Archive:  /content/IMDB Dataset.zip\n",
            "  inflating: IMDB Dataset.csv        \n"
          ]
        }
      ],
      "source": [
        "!wget \"https://is3.cloudhost.id/s3.kaenova.my.id/IMDB%20Dataset.zip\"\n",
        "!unzip \"/content/IMDB Dataset.zip\""
      ]
    },
    {
      "cell_type": "code",
      "execution_count": 1,
      "metadata": {
        "id": "8S6iUKj3WdHd"
      },
      "outputs": [],
      "source": [
        "import pickle\n",
        "import bz2\n",
        "import pandas as pd"
      ]
    },
    {
      "cell_type": "markdown",
      "metadata": {
        "id": "uknTeeE7WdHe"
      },
      "source": [
        "## Compressing RAW IMDB Dataset File (only used once)"
      ]
    },
    {
      "cell_type": "code",
      "execution_count": 2,
      "metadata": {
        "id": "LRB7l1VcWdHf"
      },
      "outputs": [],
      "source": [
        "def compressed_pickle(title, data):\n",
        "    with bz2.BZ2File(title + '.pbz2','w') as f: \n",
        "        pickle.dump(data, f)\n",
        "        \n",
        "def decompress_pickle(file):\n",
        "    data = bz2.BZ2File(file, 'rb')\n",
        "    data = pickle.load(data)\n",
        "    return data"
      ]
    },
    {
      "cell_type": "code",
      "execution_count": 3,
      "metadata": {
        "id": "c520ZBTUYC4I"
      },
      "outputs": [],
      "source": [
        "# df_orig = pd.read_csv(\"/content/IMDB Dataset.csv\")\n",
        "df_orig = decompress_pickle(\"../../data/0. External Data (not used in research)/IMDB Dataset Pandas DataFrame.pbz2\")"
      ]
    },
    {
      "cell_type": "markdown",
      "metadata": {
        "id": "UvnyiXyUWdHh"
      },
      "source": [
        "# Testing training model"
      ]
    },
    {
      "cell_type": "code",
      "execution_count": 33,
      "metadata": {
        "id": "oP3M3ynTWdHh"
      },
      "outputs": [],
      "source": [
        "\n",
        "import torch\n",
        "import math\n",
        "from tqdm import tqdm\n",
        "\n",
        "import numpy as np\n",
        "import torch.nn.functional as F\n",
        "from torchmetrics.classification import MulticlassAccuracy\n",
        "\n",
        "# Custom handmade library\n",
        "import kaelib.processor.preprocessing_func as prep_func\n",
        "from kaelib.processor import TextProcessingPipeline,NDETCStemmerWraper\n",
        "from kaelib.model import StaticTokenizerEncoderWraper, LSTM_CNN"
      ]
    },
    {
      "cell_type": "code",
      "execution_count": 14,
      "metadata": {
        "colab": {
          "base_uri": "https://localhost:8080/",
          "height": 206
        },
        "id": "uCgKg-4VWdHi",
        "outputId": "e9e656ff-66c7-4822-84a9-1bf78764da8e"
      },
      "outputs": [
        {
          "data": {
            "text/html": [
              "<div>\n",
              "<style scoped>\n",
              "    .dataframe tbody tr th:only-of-type {\n",
              "        vertical-align: middle;\n",
              "    }\n",
              "\n",
              "    .dataframe tbody tr th {\n",
              "        vertical-align: top;\n",
              "    }\n",
              "\n",
              "    .dataframe thead th {\n",
              "        text-align: right;\n",
              "    }\n",
              "</style>\n",
              "<table border=\"1\" class=\"dataframe\">\n",
              "  <thead>\n",
              "    <tr style=\"text-align: right;\">\n",
              "      <th></th>\n",
              "      <th>review</th>\n",
              "      <th>sentiment</th>\n",
              "    </tr>\n",
              "  </thead>\n",
              "  <tbody>\n",
              "    <tr>\n",
              "      <th>0</th>\n",
              "      <td>One of the other reviewers has mentioned that ...</td>\n",
              "      <td>positive</td>\n",
              "    </tr>\n",
              "    <tr>\n",
              "      <th>1</th>\n",
              "      <td>A wonderful little production. &lt;br /&gt;&lt;br /&gt;The...</td>\n",
              "      <td>positive</td>\n",
              "    </tr>\n",
              "    <tr>\n",
              "      <th>2</th>\n",
              "      <td>I thought this was a wonderful way to spend ti...</td>\n",
              "      <td>positive</td>\n",
              "    </tr>\n",
              "    <tr>\n",
              "      <th>3</th>\n",
              "      <td>Basically there's a family where a little boy ...</td>\n",
              "      <td>negative</td>\n",
              "    </tr>\n",
              "    <tr>\n",
              "      <th>4</th>\n",
              "      <td>Petter Mattei's \"Love in the Time of Money\" is...</td>\n",
              "      <td>positive</td>\n",
              "    </tr>\n",
              "  </tbody>\n",
              "</table>\n",
              "</div>"
            ],
            "text/plain": [
              "                                              review sentiment\n",
              "0  One of the other reviewers has mentioned that ...  positive\n",
              "1  A wonderful little production. <br /><br />The...  positive\n",
              "2  I thought this was a wonderful way to spend ti...  positive\n",
              "3  Basically there's a family where a little boy ...  negative\n",
              "4  Petter Mattei's \"Love in the Time of Money\" is...  positive"
            ]
          },
          "execution_count": 14,
          "metadata": {},
          "output_type": "execute_result"
        }
      ],
      "source": [
        "df = df_orig.copy()\n",
        "df.head(5)\n"
      ]
    },
    {
      "cell_type": "code",
      "execution_count": 41,
      "metadata": {
        "id": "GtwRkxtCWdHi"
      },
      "outputs": [],
      "source": [
        "# Train test split\n",
        "\n",
        "test_ratio = 0.001\n",
        "train_size = int(len(df) // (1 / (1 - test_ratio)))\n",
        "\n",
        "text_train = df[\"review\"].values.tolist()[:train_size]\n",
        "text_test = df[\"review\"].values.tolist()[train_size:]\n",
        "\n",
        "label2id = {\"positive\": 1, \"negative\": 0}\n",
        "id2label = {v: k for k, v in label2id.items()}\n",
        "\n",
        "labels_train = df[\"sentiment\"].apply(lambda x: label2id[x]).values.tolist()[:train_size]\n",
        "labels_test = df[\"sentiment\"].apply(lambda x: label2id[x]).values.tolist()[train_size:]\n"
      ]
    },
    {
      "cell_type": "code",
      "execution_count": 42,
      "metadata": {},
      "outputs": [],
      "source": [
        "# Prep text\n",
        "pipeline = TextProcessingPipeline([\n",
        "    prep_func.lowercasing,\n",
        "    prep_func.remove_html_tags,\n",
        "    prep_func.remove_url,\n",
        "    prep_func.remove_punctuation\n",
        "])\n",
        "\n",
        "X_train = pipeline.process_corpus(text_train)\n",
        "X_test = pipeline.process_corpus(text_test)\n",
        "\n",
        "y_train = labels_train[:]\n",
        "y_test = labels_test[:]"
      ]
    },
    {
      "cell_type": "code",
      "execution_count": 43,
      "metadata": {
        "id": "46fQ_VcXWdHi"
      },
      "outputs": [],
      "source": [
        "tokenizer = StaticTokenizerEncoderWraper(X_train, tokenize=lambda s: s.split())"
      ]
    },
    {
      "cell_type": "code",
      "execution_count": 44,
      "metadata": {
        "id": "6XHToAALWdHj"
      },
      "outputs": [],
      "source": [
        "# Batching function\n",
        "# https://stackoverflow.com/questions/8290397/how-to-split-an-iterable-in-constant-size-chunks\n",
        "from itertools import islice\n",
        "\n",
        "def batcher(iterable, batch_size):\n",
        "    iterator = iter(iterable)\n",
        "    while batch := list(islice(iterator, batch_size)):\n",
        "        yield batch\n"
      ]
    },
    {
      "cell_type": "code",
      "execution_count": 46,
      "metadata": {
        "colab": {
          "base_uri": "https://localhost:8080/"
        },
        "id": "VImKEOrLWdHj",
        "outputId": "350a7d42-3d99-4f5f-edc5-d915f9ac9728"
      },
      "outputs": [
        {
          "name": "stderr",
          "output_type": "stream",
          "text": [
            "EPOCH 1 / 10:   0%|          | 1/400 [00:08<53:37,  8.06s/it, loss=0.6961, loss_test=0.6867, metric_test=0.3971]"
          ]
        }
      ],
      "source": [
        "batch_size = 125\n",
        "epochs = 10\n",
        "device = \"cpu\"\n",
        "num_mini_batch = math.ceil(len(X_train) / batch_size)\n",
        "\n",
        "model = LSTM_CNN(256, text_vectorizer=tokenizer, device=device).to(device)\n",
        "optim = torch.optim.Adam(model.parameters())\n",
        "\n",
        "metrics = MulticlassAccuracy(2)\n",
        "\n",
        "# Allocate some test tensor\n",
        "target_test = torch.tensor(y_test, dtype=torch.int64, device=device)\n",
        "\n",
        "for i in range(epochs):\n",
        "    batch_generator_text = batcher(X_train, batch_size)\n",
        "    batch_generator_label = batcher(y_train, batch_size)\n",
        "\n",
        "    epoch_loss = []\n",
        "    epoch_loss_test = []\n",
        "    epoch_metrics_test = []\n",
        "\n",
        "    with tqdm(total=num_mini_batch) as pbar:\n",
        "        pbar.set_description(f\"EPOCH {i + 1} / {epochs}\")\n",
        "        \n",
        "        for j in range(num_mini_batch):\n",
        "            model.zero_grad()\n",
        "            # Prepare data\n",
        "            mini_batch_text = next(batch_generator_text)\n",
        "            mini_batch_labels = next(batch_generator_label)\n",
        "            target = torch.tensor(mini_batch_labels, dtype=torch.int64, device=device)\n",
        "\n",
        "            # Forward\n",
        "            pred = model(mini_batch_text)\n",
        "            loss = F.cross_entropy(pred, target)\n",
        "            # Backprop\n",
        "            loss.backward()\n",
        "            optim.step()\n",
        "\n",
        "            # Forward test\n",
        "            with torch.no_grad():\n",
        "                pred_test = model(X_test)\n",
        "                loss_test = F.cross_entropy(pred_test, target_test)\n",
        "                metrics_test = metrics(pred_test, target_test)\n",
        "\n",
        "            # Metrics and logging\n",
        "            epoch_loss.append(loss.item())\n",
        "            avg_loss = sum(epoch_loss) / len(epoch_loss)\n",
        "\n",
        "            epoch_loss_test.append(loss_test.item())\n",
        "            avg_loss_test = sum(epoch_loss_test) / len(epoch_loss_test)\n",
        "            epoch_metrics_test.append(metrics_test.item())\n",
        "            avg_metric_test = sum(epoch_metrics_test) / len(epoch_metrics_test)\n",
        "\n",
        "            pbar.set_postfix(\n",
        "                {\n",
        "                    \"loss\": f\"{avg_loss:.4f}\",\n",
        "                    \"loss_test\": f\"{avg_loss_test:.4f}\",\n",
        "                    \"metric_test\": f\"{avg_metric_test:.4f}\",\n",
        "                }\n",
        "            )\n",
        "            pbar.update(1)\n"
      ]
    },
    {
      "cell_type": "code",
      "execution_count": 12,
      "metadata": {
        "colab": {
          "base_uri": "https://localhost:8080/"
        },
        "id": "hGLAqEYGZlJ-",
        "outputId": "0d699ea7-dbd4-4ded-9cc0-bd15227e7445"
      },
      "outputs": [
        {
          "name": "stdout",
          "output_type": "stream",
          "text": [
            "'This movie suck' : positive\n",
            "'I love this movie so much' : positive\n",
            "'Meh' : positive\n",
            "'This movie kinda suck, but there's some part that i love' : positive\n"
          ]
        }
      ],
      "source": [
        "test_input = [\"This movie suck\", \"I love this movie so much\", \"Meh\", \"This movie kinda suck, but there's some part that i love\"]\n",
        "with torch.no_grad():\n",
        "    pred = model(test_input)\n",
        "    pred = F.softmax(pred, dim=1)\n",
        "    pred_np = pred.argmax(dim=1).cpu().detach().numpy()\n",
        "    for i in range(len(test_input)):\n",
        "        print(f\"'{test_input[i]}' : {id2label[pred_np[i]]}\")"
      ]
    }
  ],
  "metadata": {
    "accelerator": "GPU",
    "colab": {
      "provenance": []
    },
    "gpuClass": "standard",
    "kernelspec": {
      "display_name": "venv",
      "language": "python",
      "name": "python3"
    },
    "language_info": {
      "codemirror_mode": {
        "name": "ipython",
        "version": 3
      },
      "file_extension": ".py",
      "mimetype": "text/x-python",
      "name": "python",
      "nbconvert_exporter": "python",
      "pygments_lexer": "ipython3",
      "version": "3.10.9"
    },
    "orig_nbformat": 4,
    "vscode": {
      "interpreter": {
        "hash": "f859f1e6f927a99659bbed8c715d8b2e0ee62a381a7a8caee1b1f662fc1c2ad7"
      }
    }
  },
  "nbformat": 4,
  "nbformat_minor": 0
}
