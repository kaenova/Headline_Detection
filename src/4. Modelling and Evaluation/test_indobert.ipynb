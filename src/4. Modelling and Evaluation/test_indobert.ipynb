{
  "cells": [
    {
      "cell_type": "code",
      "execution_count": 1,
      "metadata": {
        "id": "qBAn4qw6Rfnh",
        "outputId": "c2209107-0353-49f5-bc77-e166226c7e7c",
        "colab": {
          "base_uri": "https://localhost:8080/"
        }
      },
      "outputs": [
        {
          "output_type": "stream",
          "name": "stdout",
          "text": [
            "Cloning into 'Headline_Detection'...\n",
            "remote: Enumerating objects: 245, done.\u001b[K\n",
            "remote: Counting objects: 100% (245/245), done.\u001b[K\n",
            "remote: Compressing objects: 100% (181/181), done.\u001b[K\n",
            "remote: Total 245 (delta 106), reused 185 (delta 46), pack-reused 0\u001b[K\n",
            "Receiving objects: 100% (245/245), 20.87 MiB | 17.99 MiB/s, done.\n",
            "Resolving deltas: 100% (106/106), done.\n",
            "/content/Headline_Detection\n",
            "pip install -r requirements.txt\n",
            "Looking in indexes: https://pypi.org/simple, https://us-python.pkg.dev/colab-wheels/public/simple/\n",
            "Collecting git+https://github.com/kaenova/NDETCStemmer.git@master (from -r requirements.txt (line 8))\n",
            "  Cloning https://github.com/kaenova/NDETCStemmer.git (to revision master) to /tmp/pip-req-build-pvkdrgg_\n",
            "  Running command git clone --filter=blob:none --quiet https://github.com/kaenova/NDETCStemmer.git /tmp/pip-req-build-pvkdrgg_\n",
            "  Resolved https://github.com/kaenova/NDETCStemmer.git to commit c1c8063b0d0725e97c6318ad4472953d1b0566bb\n",
            "  Preparing metadata (setup.py) ... \u001b[?25l\u001b[?25hdone\n",
            "Requirement already satisfied: tweepy[async] in /usr/local/lib/python3.8/dist-packages (from -r requirements.txt (line 2)) (3.10.0)\n",
            "Collecting snscrape\n",
            "  Downloading snscrape-0.5.0.20230113-py3-none-any.whl (69 kB)\n",
            "\u001b[2K     \u001b[90m━━━━━━━━━━━━━━━━━━━━━━━━━━━━━━━━━━━━━━━━\u001b[0m \u001b[32m69.2/69.2 KB\u001b[0m \u001b[31m1.7 MB/s\u001b[0m eta \u001b[36m0:00:00\u001b[0m\n",
            "\u001b[?25hRequirement already satisfied: pandas in /usr/local/lib/python3.8/dist-packages (from -r requirements.txt (line 4)) (1.3.5)\n",
            "Requirement already satisfied: numpy in /usr/local/lib/python3.8/dist-packages (from -r requirements.txt (line 5)) (1.21.6)\n",
            "Collecting python-dotenv\n",
            "  Downloading python_dotenv-0.21.1-py3-none-any.whl (19 kB)\n",
            "Collecting emoji\n",
            "  Downloading emoji-2.2.0.tar.gz (240 kB)\n",
            "\u001b[2K     \u001b[90m━━━━━━━━━━━━━━━━━━━━━━━━━━━━━━━━━━━━━━\u001b[0m \u001b[32m240.9/240.9 KB\u001b[0m \u001b[31m10.7 MB/s\u001b[0m eta \u001b[36m0:00:00\u001b[0m\n",
            "\u001b[?25h  Preparing metadata (setup.py) ... \u001b[?25l\u001b[?25hdone\n",
            "Requirement already satisfied: torch in /usr/local/lib/python3.8/dist-packages (from -r requirements.txt (line 9)) (1.13.1+cu116)\n",
            "Collecting pytorch-nlp\n",
            "  Downloading pytorch_nlp-0.5.0-py3-none-any.whl (90 kB)\n",
            "\u001b[2K     \u001b[90m━━━━━━━━━━━━━━━━━━━━━━━━━━━━━━━━━━━━━━━━\u001b[0m \u001b[32m90.1/90.1 KB\u001b[0m \u001b[31m4.5 MB/s\u001b[0m eta \u001b[36m0:00:00\u001b[0m\n",
            "\u001b[?25hRequirement already satisfied: tqdm in /usr/local/lib/python3.8/dist-packages (from -r requirements.txt (line 11)) (4.64.1)\n",
            "Collecting transformers\n",
            "  Downloading transformers-4.26.0-py3-none-any.whl (6.3 MB)\n",
            "\u001b[2K     \u001b[90m━━━━━━━━━━━━━━━━━━━━━━━━━━━━━━━━━━━━━━━━\u001b[0m \u001b[32m6.3/6.3 MB\u001b[0m \u001b[31m46.7 MB/s\u001b[0m eta \u001b[36m0:00:00\u001b[0m\n",
            "\u001b[?25hCollecting torchmetrics\n",
            "  Downloading torchmetrics-0.11.1-py3-none-any.whl (517 kB)\n",
            "\u001b[2K     \u001b[90m━━━━━━━━━━━━━━━━━━━━━━━━━━━━━━━━━━━━━━\u001b[0m \u001b[32m517.2/517.2 KB\u001b[0m \u001b[31m26.2 MB/s\u001b[0m eta \u001b[36m0:00:00\u001b[0m\n",
            "\u001b[?25hCollecting datasets\n",
            "  Downloading datasets-2.9.0-py3-none-any.whl (462 kB)\n",
            "\u001b[2K     \u001b[90m━━━━━━━━━━━━━━━━━━━━━━━━━━━━━━━━━━━━━━\u001b[0m \u001b[32m462.8/462.8 KB\u001b[0m \u001b[31m14.6 MB/s\u001b[0m eta \u001b[36m0:00:00\u001b[0m\n",
            "\u001b[?25hRequirement already satisfied: ipywidgets in /usr/local/lib/python3.8/dist-packages (from -r requirements.txt (line 15)) (7.7.1)\n",
            "\u001b[33mWARNING: tweepy 3.10.0 does not provide the extra 'async'\u001b[0m\u001b[33m\n",
            "\u001b[0mRequirement already satisfied: six>=1.10.0 in /usr/local/lib/python3.8/dist-packages (from tweepy[async]->-r requirements.txt (line 2)) (1.15.0)\n",
            "Requirement already satisfied: requests[socks]>=2.11.1 in /usr/local/lib/python3.8/dist-packages (from tweepy[async]->-r requirements.txt (line 2)) (2.25.1)\n",
            "Requirement already satisfied: requests-oauthlib>=0.7.0 in /usr/local/lib/python3.8/dist-packages (from tweepy[async]->-r requirements.txt (line 2)) (1.3.1)\n",
            "Requirement already satisfied: beautifulsoup4 in /usr/local/lib/python3.8/dist-packages (from snscrape->-r requirements.txt (line 3)) (4.6.3)\n",
            "Requirement already satisfied: lxml in /usr/local/lib/python3.8/dist-packages (from snscrape->-r requirements.txt (line 3)) (4.9.2)\n",
            "Requirement already satisfied: pytz in /usr/local/lib/python3.8/dist-packages (from snscrape->-r requirements.txt (line 3)) (2022.7.1)\n",
            "Requirement already satisfied: filelock in /usr/local/lib/python3.8/dist-packages (from snscrape->-r requirements.txt (line 3)) (3.9.0)\n",
            "Requirement already satisfied: python-dateutil>=2.7.3 in /usr/local/lib/python3.8/dist-packages (from pandas->-r requirements.txt (line 4)) (2.8.2)\n",
            "Requirement already satisfied: nltk in /usr/local/lib/python3.8/dist-packages (from NDETCStemmer==1.3.0->-r requirements.txt (line 8)) (3.7)\n",
            "Requirement already satisfied: gensim in /usr/local/lib/python3.8/dist-packages (from NDETCStemmer==1.3.0->-r requirements.txt (line 8)) (3.6.0)\n",
            "Requirement already satisfied: gdown in /usr/local/lib/python3.8/dist-packages (from NDETCStemmer==1.3.0->-r requirements.txt (line 8)) (4.4.0)\n",
            "Collecting checksumdir\n",
            "  Downloading checksumdir-1.2.0-py3-none-any.whl (5.3 kB)\n",
            "Requirement already satisfied: typing-extensions in /usr/local/lib/python3.8/dist-packages (from torch->-r requirements.txt (line 9)) (4.4.0)\n",
            "Collecting tokenizers!=0.11.3,<0.14,>=0.11.1\n",
            "  Downloading tokenizers-0.13.2-cp38-cp38-manylinux_2_17_x86_64.manylinux2014_x86_64.whl (7.6 MB)\n",
            "\u001b[2K     \u001b[90m━━━━━━━━━━━━━━━━━━━━━━━━━━━━━━━━━━━━━━━━\u001b[0m \u001b[32m7.6/7.6 MB\u001b[0m \u001b[31m40.8 MB/s\u001b[0m eta \u001b[36m0:00:00\u001b[0m\n",
            "\u001b[?25hRequirement already satisfied: pyyaml>=5.1 in /usr/local/lib/python3.8/dist-packages (from transformers->-r requirements.txt (line 12)) (6.0)\n",
            "Collecting huggingface-hub<1.0,>=0.11.0\n",
            "  Downloading huggingface_hub-0.12.0-py3-none-any.whl (190 kB)\n",
            "\u001b[2K     \u001b[90m━━━━━━━━━━━━━━━━━━━━━━━━━━━━━━━━━━━━━━\u001b[0m \u001b[32m190.3/190.3 KB\u001b[0m \u001b[31m26.1 MB/s\u001b[0m eta \u001b[36m0:00:00\u001b[0m\n",
            "\u001b[?25hRequirement already satisfied: regex!=2019.12.17 in /usr/local/lib/python3.8/dist-packages (from transformers->-r requirements.txt (line 12)) (2022.6.2)\n",
            "Requirement already satisfied: packaging>=20.0 in /usr/local/lib/python3.8/dist-packages (from transformers->-r requirements.txt (line 12)) (23.0)\n",
            "Requirement already satisfied: aiohttp in /usr/local/lib/python3.8/dist-packages (from datasets->-r requirements.txt (line 14)) (3.8.3)\n",
            "Collecting responses<0.19\n",
            "  Downloading responses-0.18.0-py3-none-any.whl (38 kB)\n",
            "Requirement already satisfied: pyarrow>=6.0.0 in /usr/local/lib/python3.8/dist-packages (from datasets->-r requirements.txt (line 14)) (9.0.0)\n",
            "Requirement already satisfied: dill<0.3.7 in /usr/local/lib/python3.8/dist-packages (from datasets->-r requirements.txt (line 14)) (0.3.6)\n",
            "Collecting xxhash\n",
            "  Downloading xxhash-3.2.0-cp38-cp38-manylinux_2_17_x86_64.manylinux2014_x86_64.whl (213 kB)\n",
            "\u001b[2K     \u001b[90m━━━━━━━━━━━━━━━━━━━━━━━━━━━━━━━━━━━━━━\u001b[0m \u001b[32m213.0/213.0 KB\u001b[0m \u001b[31m30.9 MB/s\u001b[0m eta \u001b[36m0:00:00\u001b[0m\n",
            "\u001b[?25hRequirement already satisfied: fsspec[http]>=2021.11.1 in /usr/local/lib/python3.8/dist-packages (from datasets->-r requirements.txt (line 14)) (2023.1.0)\n",
            "Collecting multiprocess\n",
            "  Downloading multiprocess-0.70.14-py38-none-any.whl (132 kB)\n",
            "\u001b[2K     \u001b[90m━━━━━━━━━━━━━━━━━━━━━━━━━━━━━━━━━━━━━━\u001b[0m \u001b[32m132.0/132.0 KB\u001b[0m \u001b[31m20.3 MB/s\u001b[0m eta \u001b[36m0:00:00\u001b[0m\n",
            "\u001b[?25hRequirement already satisfied: ipython-genutils~=0.2.0 in /usr/local/lib/python3.8/dist-packages (from ipywidgets->-r requirements.txt (line 15)) (0.2.0)\n",
            "Requirement already satisfied: traitlets>=4.3.1 in /usr/local/lib/python3.8/dist-packages (from ipywidgets->-r requirements.txt (line 15)) (5.7.1)\n",
            "Requirement already satisfied: ipykernel>=4.5.1 in /usr/local/lib/python3.8/dist-packages (from ipywidgets->-r requirements.txt (line 15)) (5.3.4)\n",
            "Requirement already satisfied: widgetsnbextension~=3.6.0 in /usr/local/lib/python3.8/dist-packages (from ipywidgets->-r requirements.txt (line 15)) (3.6.1)\n",
            "Requirement already satisfied: jupyterlab-widgets>=1.0.0 in /usr/local/lib/python3.8/dist-packages (from ipywidgets->-r requirements.txt (line 15)) (3.0.5)\n",
            "Requirement already satisfied: ipython>=4.0.0 in /usr/local/lib/python3.8/dist-packages (from ipywidgets->-r requirements.txt (line 15)) (7.9.0)\n",
            "Requirement already satisfied: yarl<2.0,>=1.0 in /usr/local/lib/python3.8/dist-packages (from aiohttp->datasets->-r requirements.txt (line 14)) (1.8.2)\n",
            "Requirement already satisfied: attrs>=17.3.0 in /usr/local/lib/python3.8/dist-packages (from aiohttp->datasets->-r requirements.txt (line 14)) (22.2.0)\n",
            "Requirement already satisfied: charset-normalizer<3.0,>=2.0 in /usr/local/lib/python3.8/dist-packages (from aiohttp->datasets->-r requirements.txt (line 14)) (2.1.1)\n",
            "Requirement already satisfied: frozenlist>=1.1.1 in /usr/local/lib/python3.8/dist-packages (from aiohttp->datasets->-r requirements.txt (line 14)) (1.3.3)\n",
            "Requirement already satisfied: aiosignal>=1.1.2 in /usr/local/lib/python3.8/dist-packages (from aiohttp->datasets->-r requirements.txt (line 14)) (1.3.1)\n",
            "Requirement already satisfied: multidict<7.0,>=4.5 in /usr/local/lib/python3.8/dist-packages (from aiohttp->datasets->-r requirements.txt (line 14)) (6.0.4)\n",
            "Requirement already satisfied: async-timeout<5.0,>=4.0.0a3 in /usr/local/lib/python3.8/dist-packages (from aiohttp->datasets->-r requirements.txt (line 14)) (4.0.2)\n",
            "Requirement already satisfied: jupyter-client in /usr/local/lib/python3.8/dist-packages (from ipykernel>=4.5.1->ipywidgets->-r requirements.txt (line 15)) (6.1.12)\n",
            "Requirement already satisfied: tornado>=4.2 in /usr/local/lib/python3.8/dist-packages (from ipykernel>=4.5.1->ipywidgets->-r requirements.txt (line 15)) (6.0.4)\n",
            "Collecting jedi>=0.10\n",
            "  Downloading jedi-0.18.2-py2.py3-none-any.whl (1.6 MB)\n",
            "\u001b[2K     \u001b[90m━━━━━━━━━━━━━━━━━━━━━━━━━━━━━━━━━━━━━━━━\u001b[0m \u001b[32m1.6/1.6 MB\u001b[0m \u001b[31m63.5 MB/s\u001b[0m eta \u001b[36m0:00:00\u001b[0m\n",
            "\u001b[?25hRequirement already satisfied: setuptools>=18.5 in /usr/local/lib/python3.8/dist-packages (from ipython>=4.0.0->ipywidgets->-r requirements.txt (line 15)) (57.4.0)\n",
            "Requirement already satisfied: pickleshare in /usr/local/lib/python3.8/dist-packages (from ipython>=4.0.0->ipywidgets->-r requirements.txt (line 15)) (0.7.5)\n",
            "Requirement already satisfied: pygments in /usr/local/lib/python3.8/dist-packages (from ipython>=4.0.0->ipywidgets->-r requirements.txt (line 15)) (2.6.1)\n",
            "Requirement already satisfied: backcall in /usr/local/lib/python3.8/dist-packages (from ipython>=4.0.0->ipywidgets->-r requirements.txt (line 15)) (0.2.0)\n",
            "Requirement already satisfied: pexpect in /usr/local/lib/python3.8/dist-packages (from ipython>=4.0.0->ipywidgets->-r requirements.txt (line 15)) (4.8.0)\n",
            "Requirement already satisfied: decorator in /usr/local/lib/python3.8/dist-packages (from ipython>=4.0.0->ipywidgets->-r requirements.txt (line 15)) (4.4.2)\n",
            "Requirement already satisfied: prompt-toolkit<2.1.0,>=2.0.0 in /usr/local/lib/python3.8/dist-packages (from ipython>=4.0.0->ipywidgets->-r requirements.txt (line 15)) (2.0.10)\n",
            "Requirement already satisfied: idna<3,>=2.5 in /usr/local/lib/python3.8/dist-packages (from requests[socks]>=2.11.1->tweepy[async]->-r requirements.txt (line 2)) (2.10)\n",
            "Requirement already satisfied: certifi>=2017.4.17 in /usr/local/lib/python3.8/dist-packages (from requests[socks]>=2.11.1->tweepy[async]->-r requirements.txt (line 2)) (2022.12.7)\n",
            "Requirement already satisfied: chardet<5,>=3.0.2 in /usr/local/lib/python3.8/dist-packages (from requests[socks]>=2.11.1->tweepy[async]->-r requirements.txt (line 2)) (4.0.0)\n",
            "Requirement already satisfied: urllib3<1.27,>=1.21.1 in /usr/local/lib/python3.8/dist-packages (from requests[socks]>=2.11.1->tweepy[async]->-r requirements.txt (line 2)) (1.24.3)\n",
            "Requirement already satisfied: oauthlib>=3.0.0 in /usr/local/lib/python3.8/dist-packages (from requests-oauthlib>=0.7.0->tweepy[async]->-r requirements.txt (line 2)) (3.2.2)\n",
            "Requirement already satisfied: PySocks!=1.5.7,>=1.5.6 in /usr/local/lib/python3.8/dist-packages (from requests[socks]>=2.11.1->tweepy[async]->-r requirements.txt (line 2)) (1.7.1)\n",
            "Collecting urllib3<1.27,>=1.21.1\n",
            "  Downloading urllib3-1.26.14-py2.py3-none-any.whl (140 kB)\n",
            "\u001b[2K     \u001b[90m━━━━━━━━━━━━━━━━━━━━━━━━━━━━━━━━━━━━━━\u001b[0m \u001b[32m140.6/140.6 KB\u001b[0m \u001b[31m16.8 MB/s\u001b[0m eta \u001b[36m0:00:00\u001b[0m\n",
            "\u001b[?25hRequirement already satisfied: notebook>=4.4.1 in /usr/local/lib/python3.8/dist-packages (from widgetsnbextension~=3.6.0->ipywidgets->-r requirements.txt (line 15)) (5.7.16)\n",
            "Requirement already satisfied: scipy>=0.18.1 in /usr/local/lib/python3.8/dist-packages (from gensim->NDETCStemmer==1.3.0->-r requirements.txt (line 8)) (1.7.3)\n",
            "Requirement already satisfied: smart-open>=1.2.1 in /usr/local/lib/python3.8/dist-packages (from gensim->NDETCStemmer==1.3.0->-r requirements.txt (line 8)) (6.3.0)\n",
            "Requirement already satisfied: click in /usr/local/lib/python3.8/dist-packages (from nltk->NDETCStemmer==1.3.0->-r requirements.txt (line 8)) (7.1.2)\n",
            "Requirement already satisfied: joblib in /usr/local/lib/python3.8/dist-packages (from nltk->NDETCStemmer==1.3.0->-r requirements.txt (line 8)) (1.2.0)\n",
            "Requirement already satisfied: parso<0.9.0,>=0.8.0 in /usr/local/lib/python3.8/dist-packages (from jedi>=0.10->ipython>=4.0.0->ipywidgets->-r requirements.txt (line 15)) (0.8.3)\n",
            "Requirement already satisfied: prometheus-client in /usr/local/lib/python3.8/dist-packages (from notebook>=4.4.1->widgetsnbextension~=3.6.0->ipywidgets->-r requirements.txt (line 15)) (0.16.0)\n",
            "Requirement already satisfied: nbconvert<6.0 in /usr/local/lib/python3.8/dist-packages (from notebook>=4.4.1->widgetsnbextension~=3.6.0->ipywidgets->-r requirements.txt (line 15)) (5.6.1)\n",
            "Requirement already satisfied: Send2Trash in /usr/local/lib/python3.8/dist-packages (from notebook>=4.4.1->widgetsnbextension~=3.6.0->ipywidgets->-r requirements.txt (line 15)) (1.8.0)\n",
            "Requirement already satisfied: jinja2<=3.0.0 in /usr/local/lib/python3.8/dist-packages (from notebook>=4.4.1->widgetsnbextension~=3.6.0->ipywidgets->-r requirements.txt (line 15)) (2.11.3)\n",
            "Requirement already satisfied: terminado>=0.8.1 in /usr/local/lib/python3.8/dist-packages (from notebook>=4.4.1->widgetsnbextension~=3.6.0->ipywidgets->-r requirements.txt (line 15)) (0.13.3)\n",
            "Requirement already satisfied: jupyter-core>=4.4.0 in /usr/local/lib/python3.8/dist-packages (from notebook>=4.4.1->widgetsnbextension~=3.6.0->ipywidgets->-r requirements.txt (line 15)) (5.2.0)\n",
            "Requirement already satisfied: pyzmq>=17 in /usr/local/lib/python3.8/dist-packages (from notebook>=4.4.1->widgetsnbextension~=3.6.0->ipywidgets->-r requirements.txt (line 15)) (23.2.1)\n",
            "Requirement already satisfied: nbformat in /usr/local/lib/python3.8/dist-packages (from notebook>=4.4.1->widgetsnbextension~=3.6.0->ipywidgets->-r requirements.txt (line 15)) (5.7.3)\n",
            "Requirement already satisfied: wcwidth in /usr/local/lib/python3.8/dist-packages (from prompt-toolkit<2.1.0,>=2.0.0->ipython>=4.0.0->ipywidgets->-r requirements.txt (line 15)) (0.2.6)\n",
            "Requirement already satisfied: ptyprocess>=0.5 in /usr/local/lib/python3.8/dist-packages (from pexpect->ipython>=4.0.0->ipywidgets->-r requirements.txt (line 15)) (0.7.0)\n",
            "Requirement already satisfied: MarkupSafe>=0.23 in /usr/local/lib/python3.8/dist-packages (from jinja2<=3.0.0->notebook>=4.4.1->widgetsnbextension~=3.6.0->ipywidgets->-r requirements.txt (line 15)) (2.0.1)\n",
            "Requirement already satisfied: platformdirs>=2.5 in /usr/local/lib/python3.8/dist-packages (from jupyter-core>=4.4.0->notebook>=4.4.1->widgetsnbextension~=3.6.0->ipywidgets->-r requirements.txt (line 15)) (2.6.2)\n",
            "Requirement already satisfied: bleach in /usr/local/lib/python3.8/dist-packages (from nbconvert<6.0->notebook>=4.4.1->widgetsnbextension~=3.6.0->ipywidgets->-r requirements.txt (line 15)) (6.0.0)\n",
            "Requirement already satisfied: pandocfilters>=1.4.1 in /usr/local/lib/python3.8/dist-packages (from nbconvert<6.0->notebook>=4.4.1->widgetsnbextension~=3.6.0->ipywidgets->-r requirements.txt (line 15)) (1.5.0)\n",
            "Requirement already satisfied: entrypoints>=0.2.2 in /usr/local/lib/python3.8/dist-packages (from nbconvert<6.0->notebook>=4.4.1->widgetsnbextension~=3.6.0->ipywidgets->-r requirements.txt (line 15)) (0.4)\n",
            "Requirement already satisfied: testpath in /usr/local/lib/python3.8/dist-packages (from nbconvert<6.0->notebook>=4.4.1->widgetsnbextension~=3.6.0->ipywidgets->-r requirements.txt (line 15)) (0.6.0)\n",
            "Requirement already satisfied: defusedxml in /usr/local/lib/python3.8/dist-packages (from nbconvert<6.0->notebook>=4.4.1->widgetsnbextension~=3.6.0->ipywidgets->-r requirements.txt (line 15)) (0.7.1)\n",
            "Requirement already satisfied: mistune<2,>=0.8.1 in /usr/local/lib/python3.8/dist-packages (from nbconvert<6.0->notebook>=4.4.1->widgetsnbextension~=3.6.0->ipywidgets->-r requirements.txt (line 15)) (0.8.4)\n",
            "Requirement already satisfied: jsonschema>=2.6 in /usr/local/lib/python3.8/dist-packages (from nbformat->notebook>=4.4.1->widgetsnbextension~=3.6.0->ipywidgets->-r requirements.txt (line 15)) (4.3.3)\n",
            "Requirement already satisfied: fastjsonschema in /usr/local/lib/python3.8/dist-packages (from nbformat->notebook>=4.4.1->widgetsnbextension~=3.6.0->ipywidgets->-r requirements.txt (line 15)) (2.16.2)\n",
            "Requirement already satisfied: importlib-resources>=1.4.0 in /usr/local/lib/python3.8/dist-packages (from jsonschema>=2.6->nbformat->notebook>=4.4.1->widgetsnbextension~=3.6.0->ipywidgets->-r requirements.txt (line 15)) (5.10.2)\n",
            "Requirement already satisfied: pyrsistent!=0.17.0,!=0.17.1,!=0.17.2,>=0.14.0 in /usr/local/lib/python3.8/dist-packages (from jsonschema>=2.6->nbformat->notebook>=4.4.1->widgetsnbextension~=3.6.0->ipywidgets->-r requirements.txt (line 15)) (0.19.3)\n",
            "Requirement already satisfied: webencodings in /usr/local/lib/python3.8/dist-packages (from bleach->nbconvert<6.0->notebook>=4.4.1->widgetsnbextension~=3.6.0->ipywidgets->-r requirements.txt (line 15)) (0.5.1)\n",
            "Requirement already satisfied: zipp>=3.1.0 in /usr/local/lib/python3.8/dist-packages (from importlib-resources>=1.4.0->jsonschema>=2.6->nbformat->notebook>=4.4.1->widgetsnbextension~=3.6.0->ipywidgets->-r requirements.txt (line 15)) (3.12.0)\n",
            "Building wheels for collected packages: emoji, NDETCStemmer\n",
            "  Building wheel for emoji (setup.py) ... \u001b[?25l\u001b[?25hdone\n",
            "  Created wheel for emoji: filename=emoji-2.2.0-py3-none-any.whl size=234926 sha256=57f12cb488ed3009372d08160dff36cd4dd34788115a1ab2bb5bf206788a24d7\n",
            "  Stored in directory: /root/.cache/pip/wheels/86/62/9e/a6b27a681abcde69970dbc0326ff51955f3beac72f15696984\n",
            "  Building wheel for NDETCStemmer (setup.py) ... \u001b[?25l\u001b[?25hdone\n",
            "  Created wheel for NDETCStemmer: filename=NDETCStemmer-1.3.0-py3-none-any.whl size=112700 sha256=6d982b62f468efa7cb955c6ac1eca2860874e3afd46c27830f0f2a6dda9daa67\n",
            "  Stored in directory: /tmp/pip-ephem-wheel-cache-_l6mya5h/wheels/6b/c3/2f/ab70429268c683fc3d22f955f3f8dabafb26e557640db541e6\n",
            "Successfully built emoji NDETCStemmer\n",
            "Installing collected packages: tokenizers, xxhash, urllib3, pytorch-nlp, python-dotenv, multiprocess, jedi, emoji, checksumdir, torchmetrics, responses, huggingface-hub, transformers, snscrape, datasets, NDETCStemmer\n",
            "  Attempting uninstall: urllib3\n",
            "    Found existing installation: urllib3 1.24.3\n",
            "    Uninstalling urllib3-1.24.3:\n",
            "      Successfully uninstalled urllib3-1.24.3\n",
            "Successfully installed NDETCStemmer-1.3.0 checksumdir-1.2.0 datasets-2.9.0 emoji-2.2.0 huggingface-hub-0.12.0 jedi-0.18.2 multiprocess-0.70.14 python-dotenv-0.21.1 pytorch-nlp-0.5.0 responses-0.18.0 snscrape-0.5.0.20230113 tokenizers-0.13.2 torchmetrics-0.11.1 transformers-4.26.0 urllib3-1.26.14 xxhash-3.2.0\n",
            "pip install ./src/lib/\n",
            "Looking in indexes: https://pypi.org/simple, https://us-python.pkg.dev/colab-wheels/public/simple/\n",
            "Processing ./src/lib\n",
            "  Installing build dependencies ... \u001b[?25l\u001b[?25hdone\n",
            "  Getting requirements to build wheel ... \u001b[?25l\u001b[?25hdone\n",
            "  Preparing metadata (pyproject.toml) ... \u001b[?25l\u001b[?25hdone\n",
            "Building wheels for collected packages: kaelib\n",
            "  Building wheel for kaelib (pyproject.toml) ... \u001b[?25l\u001b[?25hdone\n",
            "  Created wheel for kaelib: filename=kaelib-0.1a0-py3-none-any.whl size=9873 sha256=cddd4935772167e24ee74641b630c5e96d08bf71cf77da4f012e990bb6b222c5\n",
            "  Stored in directory: /tmp/pip-ephem-wheel-cache-ezhv_03_/wheels/e8/fa/d1/07e915a90cd7ad9360404de33bb7f9264a8bc55572733f9f40\n",
            "Successfully built kaelib\n",
            "Installing collected packages: kaelib\n",
            "Successfully installed kaelib-0.1a0\n"
          ]
        }
      ],
      "source": [
        "# Prepare Google Colab Environement and build handmade library\n",
        "!git clone https://github.com/kaenova/Headline_Detection.git\n",
        "%cd \"/content/Headline_Detection\"\n",
        "\n",
        "!make lib-install"
      ]
    },
    {
      "cell_type": "code",
      "execution_count": 2,
      "metadata": {
        "id": "Eu5xb6_dRfnj"
      },
      "outputs": [],
      "source": [
        "# # Reset Google Colab Environment\n",
        "# %cd ..\n",
        "# !rm -fr Headline_Detection"
      ]
    },
    {
      "cell_type": "code",
      "execution_count": 1,
      "metadata": {
        "id": "En7KWxslRfnk"
      },
      "outputs": [],
      "source": [
        "import torch\n",
        "import math\n",
        "import torch.nn as nn\n",
        "import torch.nn.functional as F\n",
        "\n",
        "from tqdm import tqdm\n",
        "from transformers import BertForSequenceClassification, BertTokenizerFast\n",
        "from datasets import load_dataset\n",
        "from torchmetrics.classification import MulticlassAccuracy\n",
        "from torch.utils.data import Dataset, DataLoader\n",
        "\n",
        "\n",
        "# Custom handmade library\n",
        "import kaelib.processor.preprocessing_func as prep_func\n",
        "from kaelib.processor import TextProcessingPipeline,NDETCStemmerWraper"
      ]
    },
    {
      "cell_type": "markdown",
      "metadata": {
        "id": "sxb3x0LkRfnl"
      },
      "source": [
        "# Load Dataset"
      ]
    },
    {
      "cell_type": "code",
      "execution_count": 2,
      "metadata": {
        "id": "vamFjsyWRfnm",
        "outputId": "7b080c12-e0b1-4f48-c6a2-b362ef0905c9",
        "colab": {
          "base_uri": "https://localhost:8080/",
          "height": 86,
          "referenced_widgets": [
            "55ad27f83416490a90204a916f6580ed",
            "dae4bd6e724b4808b5745acf2c363205",
            "f02d42adf0334d39a7617bb7e4b4186c",
            "7115e82eceba4008aa5d0a43894d1f4e",
            "712b86c9661b4ecfb994d32f9c99a590",
            "6d25dbae2c45467d83d18b01644e95b7",
            "df1502fd39214fc2947657a69572b89f",
            "56959c5de6bb4167a70641d1048de7ac",
            "1e399fea155c46a6a361dcc69d79d2e6",
            "41890e2b6e7f4fad82218f5c4760b01a",
            "041374483e114ac4affe5488610ca95e"
          ]
        }
      },
      "outputs": [
        {
          "output_type": "stream",
          "name": "stderr",
          "text": [
            "WARNING:datasets.builder:Found cached dataset google-play-review (/root/.cache/huggingface/datasets/jakartaresearch___google-play-review/default/1.0.0/df84e67f495cc6639ab0bbf74ff0190498a0b22294fdaca26a5b25e090671c29)\n"
          ]
        },
        {
          "output_type": "display_data",
          "data": {
            "text/plain": [
              "  0%|          | 0/2 [00:00<?, ?it/s]"
            ],
            "application/vnd.jupyter.widget-view+json": {
              "version_major": 2,
              "version_minor": 0,
              "model_id": "55ad27f83416490a90204a916f6580ed"
            }
          },
          "metadata": {}
        }
      ],
      "source": [
        "data = load_dataset(\"jakartaresearch/google-play-review\")\n",
        "data_train = data.get('train').to_pandas()[['text', 'label']]\n",
        "data_test = data.get('validation').to_pandas()[['text', 'label']]"
      ]
    },
    {
      "cell_type": "code",
      "execution_count": 3,
      "metadata": {
        "id": "n9wB66LuRfnm"
      },
      "outputs": [],
      "source": [
        "# Train test split\n",
        "\n",
        "text_train = data_train[\"text\"].values.tolist()\n",
        "text_test = data_test[\"text\"].values.tolist()\n",
        "\n",
        "label2id = {\"pos\": 1, \"neg\": 0}\n",
        "id2label = {v: k for k, v in label2id.items()}\n",
        "\n",
        "labels_train = data_train[\"label\"].apply(lambda x: label2id[x]).values.tolist()\n",
        "labels_test = data_test[\"label\"].apply(lambda x: label2id[x]).values.tolist()\n",
        "\n",
        "# Prep text\n",
        "pipeline = TextProcessingPipeline([\n",
        "    prep_func.lowercasing,\n",
        "    prep_func.remove_html_tags,\n",
        "    prep_func.remove_url,\n",
        "    prep_func.remove_punctuation\n",
        "])\n",
        "\n",
        "X_train = pipeline.process_corpus(text_train)\n",
        "X_test = pipeline.process_corpus(text_test)\n",
        "\n",
        "y_train = labels_train[:]\n",
        "y_test = labels_test[:]"
      ]
    },
    {
      "cell_type": "code",
      "execution_count": 4,
      "metadata": {
        "id": "GDPpfIkNRfnn"
      },
      "outputs": [],
      "source": [
        "class IndoBERTDataset(Dataset):\n",
        "    def __init__(self, texts: 'lst[str]', targets: 'lst[str]'):\n",
        "        assert len(texts) == len(targets)\n",
        "        self.tokenizer = BertTokenizerFast.from_pretrained(\"indobenchmark/indobert-base-p2\")\n",
        "        self.texts = texts\n",
        "        self.targets = targets\n",
        "\n",
        "    def __len__(self):\n",
        "        return len(self.texts)\n",
        "\n",
        "    def __getitem__(self, idx):\n",
        "        bert_tokens = self.tokenizer(self.texts[idx], max_length=256, \n",
        "                                     padding='max_length', truncation=True, \n",
        "                                     return_tensors='pt' )\n",
        "        targets = torch.tensor(self.targets[idx], dtype=torch.int64)\n",
        "        return bert_tokens, targets\n",
        "    \n",
        "    @staticmethod\n",
        "    def squeeze_unwanted_batch(x, device):\n",
        "        \"\"\"\n",
        "        This function handles an unexpected output of DataLoader that creates extra dimension on dim=1\n",
        "        \"\"\"\n",
        "        new_x = {}\n",
        "        for keys in x:\n",
        "            new_x[keys] = x[keys].squeeze().to(device)\n",
        "        return new_x"
      ]
    },
    {
      "cell_type": "code",
      "execution_count": 5,
      "metadata": {
        "id": "uWjKnmOgRfno"
      },
      "outputs": [],
      "source": [
        "train_dataset = IndoBERTDataset(X_train, y_train)\n",
        "test_dataset = IndoBERTDataset(X_test, y_test)"
      ]
    },
    {
      "cell_type": "markdown",
      "source": [
        "# Prepare Train"
      ],
      "metadata": {
        "id": "9WEI5Tk8Uggf"
      }
    },
    {
      "cell_type": "code",
      "execution_count": 6,
      "metadata": {
        "id": "wtkOrVZ5Rfno",
        "outputId": "4fa8a6f5-d03a-40c1-cf57-215a30acb1f5",
        "colab": {
          "base_uri": "https://localhost:8080/"
        }
      },
      "outputs": [
        {
          "output_type": "stream",
          "name": "stderr",
          "text": [
            "Some weights of BertForSequenceClassification were not initialized from the model checkpoint at indobenchmark/indobert-base-p2 and are newly initialized: ['classifier.weight', 'classifier.bias']\n",
            "You should probably TRAIN this model on a down-stream task to be able to use it for predictions and inference.\n"
          ]
        }
      ],
      "source": [
        "\"\"\"\n",
        "https://arxiv.org/pdf/1810.04805.pdf\n",
        "\n",
        "We use a batch size of 32 and fine-tune for 3\n",
        "epochs over the data for all GLUE tasks. For each\n",
        "task, we selected the best fine-tuning learning rate\n",
        "(among 5e-5, 4e-5, 3e-5, and 2e-5)\n",
        "\"\"\"\n",
        "\n",
        "batch_size = 32\n",
        "epochs = 3\n",
        "device = \"cuda\"\n",
        "lr = 5e-5 \n",
        "\n",
        "train_loader = DataLoader(train_dataset, batch_size=batch_size, shuffle=True)\n",
        "test_loader = DataLoader(test_dataset, batch_size=batch_size, shuffle=False)\n",
        "\n",
        "num_mini_batch = math.ceil(len(X_train) / batch_size)\n",
        "\n",
        "model = BertForSequenceClassification.from_pretrained(\n",
        "    \"indobenchmark/indobert-base-p2\",\n",
        "    num_labels=2,\n",
        "    id2label=id2label,\n",
        "    label2id=label2id,\n",
        "    problem_type=\"multi_label_classification\",\n",
        ").to(device)"
      ]
    },
    {
      "cell_type": "markdown",
      "source": [
        "# Train Loop"
      ],
      "metadata": {
        "id": "yePIEQXzUh71"
      }
    },
    {
      "cell_type": "code",
      "execution_count": 7,
      "metadata": {
        "id": "vvykn5QxRfnp",
        "outputId": "970386f4-2b20-4d0b-f1ca-de5bd3202e41",
        "colab": {
          "base_uri": "https://localhost:8080/"
        }
      },
      "outputs": [
        {
          "output_type": "stream",
          "name": "stderr",
          "text": [
            "EPOCH 1 / 3: Infering on Testing Data: 100%|██████████| 220/220 [02:26<00:00,  1.51it/s, loss=0.2240, loss_test=0.2013, metric_test=0.7821]\n",
            "EPOCH 2 / 3: Infering on Testing Data: 100%|██████████| 220/220 [02:22<00:00,  1.54it/s, loss=0.1434, loss_test=0.2006, metric_test=0.8488]\n",
            "EPOCH 3 / 3: Infering on Testing Data: 100%|██████████| 220/220 [02:25<00:00,  1.51it/s, loss=0.1051, loss_test=0.2548, metric_test=0.8019]\n"
          ]
        }
      ],
      "source": [
        "optim = torch.optim.Adam(model.parameters(), lr=lr)\n",
        "\n",
        "metrics = MulticlassAccuracy(2).to(device)\n",
        "\n",
        "# Half precision\n",
        "scaler = torch.cuda.amp.GradScaler()\n",
        "\n",
        "for i in range(epochs):\n",
        "    # Progress bar\n",
        "    pbar = tqdm(total=num_mini_batch)\n",
        "    pbar.set_description(f\"EPOCH {i + 1} / {epochs}: Training\")\n",
        "    \n",
        "    epoch_loss = []\n",
        "    avg_loss = 0\n",
        "    epoch_loss_test = []\n",
        "    avg_loss_test = 0\n",
        "    epoch_metrics_test = []\n",
        "    avg_metric_test = 0\n",
        "\n",
        "    for train_tokens, train_target in train_loader:\n",
        "        model.zero_grad()\n",
        "        train_target = train_target.to(device)\n",
        "        # Forward\n",
        "        with torch.cuda.amp.autocast():\n",
        "            train_tokens = IndoBERTDataset.squeeze_unwanted_batch(train_tokens, device)\n",
        "            pred = model(**train_tokens).logits\n",
        "            loss = F.cross_entropy(pred, train_target)\n",
        "\n",
        "        # Backprop\n",
        "        scaler.scale(loss).backward()\n",
        "        scaler.step(optim)\n",
        "        scaler.update()\n",
        "\n",
        "        # Metrics and logging\n",
        "        epoch_loss.append(loss.item())\n",
        "        avg_loss = sum(epoch_loss) / len(epoch_loss)\n",
        "        pbar.set_postfix(\n",
        "            {\n",
        "                \"loss\": f\"{avg_loss:.4f}\",\n",
        "                \"loss_test\": f\"{avg_loss_test:.4f}\",\n",
        "                \"metric_test\": f\"{avg_metric_test:.4f}\",\n",
        "            }\n",
        "        )\n",
        "        pbar.update(1)\n",
        "\n",
        "    for test_tokens, test_target in test_loader:\n",
        "        test_tokens = IndoBERTDataset.squeeze_unwanted_batch(test_tokens, device)\n",
        "        test_target = test_target.to(device)\n",
        "        # Forward test\n",
        "        with torch.no_grad():\n",
        "            pred_test = model(**test_tokens).logits\n",
        "            loss_test = F.cross_entropy(pred_test, test_target)\n",
        "            metrics_test = metrics(pred_test, test_target)\n",
        "\n",
        "        epoch_loss_test.append(loss_test.item())\n",
        "        avg_loss_test = sum(epoch_loss_test) / len(epoch_loss_test)\n",
        "        epoch_metrics_test.append(metrics_test.item())\n",
        "        avg_metric_test = sum(epoch_metrics_test) / len(epoch_metrics_test)\n",
        "\n",
        "        pbar.set_description(f\"EPOCH {i + 1} / {epochs}: Infering on Testing Data\")\n",
        "        pbar.set_postfix(\n",
        "            {\n",
        "                \"loss\": f\"{avg_loss:.4f}\",\n",
        "                \"loss_test\": f\"{avg_loss_test:.4f}\",\n",
        "                \"metric_test\": f\"{avg_metric_test:.4f}\",\n",
        "            }\n",
        "        )\n",
        "    \n",
        "    pbar.close()\n"
      ]
    },
    {
      "cell_type": "code",
      "source": [],
      "metadata": {
        "id": "cFb0G6PwSscF"
      },
      "execution_count": null,
      "outputs": []
    }
  ],
  "metadata": {
    "kernelspec": {
      "display_name": "venv",
      "language": "python",
      "name": "python3"
    },
    "language_info": {
      "codemirror_mode": {
        "name": "ipython",
        "version": 3
      },
      "file_extension": ".py",
      "mimetype": "text/x-python",
      "name": "python",
      "nbconvert_exporter": "python",
      "pygments_lexer": "ipython3",
      "version": "3.10.9"
    },
    "orig_nbformat": 4,
    "vscode": {
      "interpreter": {
        "hash": "f859f1e6f927a99659bbed8c715d8b2e0ee62a381a7a8caee1b1f662fc1c2ad7"
      }
    },
    "colab": {
      "provenance": []
    },
    "accelerator": "GPU",
    "gpuClass": "standard",
    "widgets": {
      "application/vnd.jupyter.widget-state+json": {
        "55ad27f83416490a90204a916f6580ed": {
          "model_module": "@jupyter-widgets/controls",
          "model_name": "HBoxModel",
          "model_module_version": "1.5.0",
          "state": {
            "_dom_classes": [],
            "_model_module": "@jupyter-widgets/controls",
            "_model_module_version": "1.5.0",
            "_model_name": "HBoxModel",
            "_view_count": null,
            "_view_module": "@jupyter-widgets/controls",
            "_view_module_version": "1.5.0",
            "_view_name": "HBoxView",
            "box_style": "",
            "children": [
              "IPY_MODEL_dae4bd6e724b4808b5745acf2c363205",
              "IPY_MODEL_f02d42adf0334d39a7617bb7e4b4186c",
              "IPY_MODEL_7115e82eceba4008aa5d0a43894d1f4e"
            ],
            "layout": "IPY_MODEL_712b86c9661b4ecfb994d32f9c99a590"
          }
        },
        "dae4bd6e724b4808b5745acf2c363205": {
          "model_module": "@jupyter-widgets/controls",
          "model_name": "HTMLModel",
          "model_module_version": "1.5.0",
          "state": {
            "_dom_classes": [],
            "_model_module": "@jupyter-widgets/controls",
            "_model_module_version": "1.5.0",
            "_model_name": "HTMLModel",
            "_view_count": null,
            "_view_module": "@jupyter-widgets/controls",
            "_view_module_version": "1.5.0",
            "_view_name": "HTMLView",
            "description": "",
            "description_tooltip": null,
            "layout": "IPY_MODEL_6d25dbae2c45467d83d18b01644e95b7",
            "placeholder": "​",
            "style": "IPY_MODEL_df1502fd39214fc2947657a69572b89f",
            "value": "100%"
          }
        },
        "f02d42adf0334d39a7617bb7e4b4186c": {
          "model_module": "@jupyter-widgets/controls",
          "model_name": "FloatProgressModel",
          "model_module_version": "1.5.0",
          "state": {
            "_dom_classes": [],
            "_model_module": "@jupyter-widgets/controls",
            "_model_module_version": "1.5.0",
            "_model_name": "FloatProgressModel",
            "_view_count": null,
            "_view_module": "@jupyter-widgets/controls",
            "_view_module_version": "1.5.0",
            "_view_name": "ProgressView",
            "bar_style": "success",
            "description": "",
            "description_tooltip": null,
            "layout": "IPY_MODEL_56959c5de6bb4167a70641d1048de7ac",
            "max": 2,
            "min": 0,
            "orientation": "horizontal",
            "style": "IPY_MODEL_1e399fea155c46a6a361dcc69d79d2e6",
            "value": 2
          }
        },
        "7115e82eceba4008aa5d0a43894d1f4e": {
          "model_module": "@jupyter-widgets/controls",
          "model_name": "HTMLModel",
          "model_module_version": "1.5.0",
          "state": {
            "_dom_classes": [],
            "_model_module": "@jupyter-widgets/controls",
            "_model_module_version": "1.5.0",
            "_model_name": "HTMLModel",
            "_view_count": null,
            "_view_module": "@jupyter-widgets/controls",
            "_view_module_version": "1.5.0",
            "_view_name": "HTMLView",
            "description": "",
            "description_tooltip": null,
            "layout": "IPY_MODEL_41890e2b6e7f4fad82218f5c4760b01a",
            "placeholder": "​",
            "style": "IPY_MODEL_041374483e114ac4affe5488610ca95e",
            "value": " 2/2 [00:00&lt;00:00, 43.22it/s]"
          }
        },
        "712b86c9661b4ecfb994d32f9c99a590": {
          "model_module": "@jupyter-widgets/base",
          "model_name": "LayoutModel",
          "model_module_version": "1.2.0",
          "state": {
            "_model_module": "@jupyter-widgets/base",
            "_model_module_version": "1.2.0",
            "_model_name": "LayoutModel",
            "_view_count": null,
            "_view_module": "@jupyter-widgets/base",
            "_view_module_version": "1.2.0",
            "_view_name": "LayoutView",
            "align_content": null,
            "align_items": null,
            "align_self": null,
            "border": null,
            "bottom": null,
            "display": null,
            "flex": null,
            "flex_flow": null,
            "grid_area": null,
            "grid_auto_columns": null,
            "grid_auto_flow": null,
            "grid_auto_rows": null,
            "grid_column": null,
            "grid_gap": null,
            "grid_row": null,
            "grid_template_areas": null,
            "grid_template_columns": null,
            "grid_template_rows": null,
            "height": null,
            "justify_content": null,
            "justify_items": null,
            "left": null,
            "margin": null,
            "max_height": null,
            "max_width": null,
            "min_height": null,
            "min_width": null,
            "object_fit": null,
            "object_position": null,
            "order": null,
            "overflow": null,
            "overflow_x": null,
            "overflow_y": null,
            "padding": null,
            "right": null,
            "top": null,
            "visibility": null,
            "width": null
          }
        },
        "6d25dbae2c45467d83d18b01644e95b7": {
          "model_module": "@jupyter-widgets/base",
          "model_name": "LayoutModel",
          "model_module_version": "1.2.0",
          "state": {
            "_model_module": "@jupyter-widgets/base",
            "_model_module_version": "1.2.0",
            "_model_name": "LayoutModel",
            "_view_count": null,
            "_view_module": "@jupyter-widgets/base",
            "_view_module_version": "1.2.0",
            "_view_name": "LayoutView",
            "align_content": null,
            "align_items": null,
            "align_self": null,
            "border": null,
            "bottom": null,
            "display": null,
            "flex": null,
            "flex_flow": null,
            "grid_area": null,
            "grid_auto_columns": null,
            "grid_auto_flow": null,
            "grid_auto_rows": null,
            "grid_column": null,
            "grid_gap": null,
            "grid_row": null,
            "grid_template_areas": null,
            "grid_template_columns": null,
            "grid_template_rows": null,
            "height": null,
            "justify_content": null,
            "justify_items": null,
            "left": null,
            "margin": null,
            "max_height": null,
            "max_width": null,
            "min_height": null,
            "min_width": null,
            "object_fit": null,
            "object_position": null,
            "order": null,
            "overflow": null,
            "overflow_x": null,
            "overflow_y": null,
            "padding": null,
            "right": null,
            "top": null,
            "visibility": null,
            "width": null
          }
        },
        "df1502fd39214fc2947657a69572b89f": {
          "model_module": "@jupyter-widgets/controls",
          "model_name": "DescriptionStyleModel",
          "model_module_version": "1.5.0",
          "state": {
            "_model_module": "@jupyter-widgets/controls",
            "_model_module_version": "1.5.0",
            "_model_name": "DescriptionStyleModel",
            "_view_count": null,
            "_view_module": "@jupyter-widgets/base",
            "_view_module_version": "1.2.0",
            "_view_name": "StyleView",
            "description_width": ""
          }
        },
        "56959c5de6bb4167a70641d1048de7ac": {
          "model_module": "@jupyter-widgets/base",
          "model_name": "LayoutModel",
          "model_module_version": "1.2.0",
          "state": {
            "_model_module": "@jupyter-widgets/base",
            "_model_module_version": "1.2.0",
            "_model_name": "LayoutModel",
            "_view_count": null,
            "_view_module": "@jupyter-widgets/base",
            "_view_module_version": "1.2.0",
            "_view_name": "LayoutView",
            "align_content": null,
            "align_items": null,
            "align_self": null,
            "border": null,
            "bottom": null,
            "display": null,
            "flex": null,
            "flex_flow": null,
            "grid_area": null,
            "grid_auto_columns": null,
            "grid_auto_flow": null,
            "grid_auto_rows": null,
            "grid_column": null,
            "grid_gap": null,
            "grid_row": null,
            "grid_template_areas": null,
            "grid_template_columns": null,
            "grid_template_rows": null,
            "height": null,
            "justify_content": null,
            "justify_items": null,
            "left": null,
            "margin": null,
            "max_height": null,
            "max_width": null,
            "min_height": null,
            "min_width": null,
            "object_fit": null,
            "object_position": null,
            "order": null,
            "overflow": null,
            "overflow_x": null,
            "overflow_y": null,
            "padding": null,
            "right": null,
            "top": null,
            "visibility": null,
            "width": null
          }
        },
        "1e399fea155c46a6a361dcc69d79d2e6": {
          "model_module": "@jupyter-widgets/controls",
          "model_name": "ProgressStyleModel",
          "model_module_version": "1.5.0",
          "state": {
            "_model_module": "@jupyter-widgets/controls",
            "_model_module_version": "1.5.0",
            "_model_name": "ProgressStyleModel",
            "_view_count": null,
            "_view_module": "@jupyter-widgets/base",
            "_view_module_version": "1.2.0",
            "_view_name": "StyleView",
            "bar_color": null,
            "description_width": ""
          }
        },
        "41890e2b6e7f4fad82218f5c4760b01a": {
          "model_module": "@jupyter-widgets/base",
          "model_name": "LayoutModel",
          "model_module_version": "1.2.0",
          "state": {
            "_model_module": "@jupyter-widgets/base",
            "_model_module_version": "1.2.0",
            "_model_name": "LayoutModel",
            "_view_count": null,
            "_view_module": "@jupyter-widgets/base",
            "_view_module_version": "1.2.0",
            "_view_name": "LayoutView",
            "align_content": null,
            "align_items": null,
            "align_self": null,
            "border": null,
            "bottom": null,
            "display": null,
            "flex": null,
            "flex_flow": null,
            "grid_area": null,
            "grid_auto_columns": null,
            "grid_auto_flow": null,
            "grid_auto_rows": null,
            "grid_column": null,
            "grid_gap": null,
            "grid_row": null,
            "grid_template_areas": null,
            "grid_template_columns": null,
            "grid_template_rows": null,
            "height": null,
            "justify_content": null,
            "justify_items": null,
            "left": null,
            "margin": null,
            "max_height": null,
            "max_width": null,
            "min_height": null,
            "min_width": null,
            "object_fit": null,
            "object_position": null,
            "order": null,
            "overflow": null,
            "overflow_x": null,
            "overflow_y": null,
            "padding": null,
            "right": null,
            "top": null,
            "visibility": null,
            "width": null
          }
        },
        "041374483e114ac4affe5488610ca95e": {
          "model_module": "@jupyter-widgets/controls",
          "model_name": "DescriptionStyleModel",
          "model_module_version": "1.5.0",
          "state": {
            "_model_module": "@jupyter-widgets/controls",
            "_model_module_version": "1.5.0",
            "_model_name": "DescriptionStyleModel",
            "_view_count": null,
            "_view_module": "@jupyter-widgets/base",
            "_view_module_version": "1.2.0",
            "_view_name": "StyleView",
            "description_width": ""
          }
        }
      }
    }
  },
  "nbformat": 4,
  "nbformat_minor": 0
}