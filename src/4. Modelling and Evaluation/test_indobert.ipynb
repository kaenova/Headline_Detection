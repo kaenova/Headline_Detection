{
  "cells": [
    {
      "cell_type": "code",
      "execution_count": 1,
      "metadata": {
        "id": "qBAn4qw6Rfnh"
      },
      "outputs": [],
      "source": [
        "# # Prepare Google Colab Environement and build handmade library\n",
        "# !git clone https://github.com/kaenova/Headline_Detection.git\n",
        "# %cd \"/content/Headline_Detection\"\n",
        "\n",
        "# !make lib"
      ]
    },
    {
      "cell_type": "code",
      "execution_count": 2,
      "metadata": {
        "id": "Eu5xb6_dRfnj"
      },
      "outputs": [],
      "source": [
        "# # Reset Google Colab Environment\n",
        "# %cd ..\n",
        "# !rm -fr Headline_Detection"
      ]
    },
    {
      "cell_type": "code",
      "execution_count": 3,
      "metadata": {
        "id": "En7KWxslRfnk"
      },
      "outputs": [],
      "source": [
        "\n",
        "import torch\n",
        "import math\n",
        "import torch.nn as nn\n",
        "import torch.nn.functional as F\n",
        "\n",
        "from tqdm import tqdm\n",
        "from transformers import BertForSequenceClassification, BertTokenizerFast\n",
        "from datasets import load_dataset\n",
        "from torchmetrics.classification import MulticlassAccuracy, MulticlassF1Score\n",
        "from torch.utils.data import Dataset, DataLoader\n",
        "\n",
        "\n",
        "# Custom handmade library\n",
        "import kaelib.processor.preprocessing_func as prep_func\n",
        "import kaelib.processor.custom_metrics as custom_metric\n",
        "from kaelib.processor import TextProcessingPipeline,NDETCStemmerWraper, MetricsContainer"
      ]
    },
    {
      "cell_type": "markdown",
      "metadata": {
        "id": "sxb3x0LkRfnl"
      },
      "source": [
        "# Load Dataset"
      ]
    },
    {
      "cell_type": "code",
      "execution_count": 4,
      "metadata": {
        "colab": {
          "base_uri": "https://localhost:8080/",
          "height": 86,
          "referenced_widgets": [
            "8e4c881eb0304798801315755e95a543",
            "1ba96fdab74042119dbecbe99cbae3df",
            "2d3f829a5b624ba99d6f1aaee3be3bcc",
            "d7b8c11a39e84326a868de79556bed16",
            "625df3ade3be475e8083c8dc589cb55f",
            "0b2cee3aa2694b3bbfed0e34b845748e",
            "6c50f4e961814898891877db9e4bbc7b",
            "6bee5e5f2c8a4de9820801c2eb11e71b",
            "a88c21d5a52b4fe4bb29989a4b9f868f",
            "8b94ccecb3fa407493a8116bbba070af",
            "3ca208024faa4d4b89f278400f0f298e"
          ]
        },
        "id": "vamFjsyWRfnm",
        "outputId": "0f0f3f13-bc27-4bc1-92ba-e993559203f8"
      },
      "outputs": [
        {
          "name": "stderr",
          "output_type": "stream",
          "text": [
            "WARNING:datasets.builder:Found cached dataset google-play-review (/root/.cache/huggingface/datasets/jakartaresearch___google-play-review/default/1.0.0/df84e67f495cc6639ab0bbf74ff0190498a0b22294fdaca26a5b25e090671c29)\n"
          ]
        },
        {
          "data": {
            "application/vnd.jupyter.widget-view+json": {
              "model_id": "8e4c881eb0304798801315755e95a543",
              "version_major": 2,
              "version_minor": 0
            },
            "text/plain": [
              "  0%|          | 0/2 [00:00<?, ?it/s]"
            ]
          },
          "metadata": {},
          "output_type": "display_data"
        }
      ],
      "source": [
        "data = load_dataset(\"jakartaresearch/google-play-review\")\n",
        "data_train = data.get('train').to_pandas()[['text', 'label']]\n",
        "data_test = data.get('validation').to_pandas()[['text', 'label']]"
      ]
    },
    {
      "cell_type": "code",
      "execution_count": 5,
      "metadata": {
        "id": "n9wB66LuRfnm"
      },
      "outputs": [],
      "source": [
        "# Train test split\n",
        "\n",
        "text_train = data_train[\"text\"].values.tolist()\n",
        "text_test = data_test[\"text\"].values.tolist()\n",
        "\n",
        "label2id = {\"pos\": 1, \"neg\": 0}\n",
        "id2label = {v: k for k, v in label2id.items()}\n",
        "\n",
        "labels_train = data_train[\"label\"].apply(lambda x: label2id[x]).values.tolist()\n",
        "labels_test = data_test[\"label\"].apply(lambda x: label2id[x]).values.tolist()\n",
        "\n",
        "# Prep text\n",
        "pipeline = TextProcessingPipeline([\n",
        "    prep_func.lowercasing,\n",
        "    prep_func.remove_html_tags,\n",
        "    prep_func.remove_url,\n",
        "    prep_func.remove_punctuation\n",
        "])\n",
        "\n",
        "X_train = pipeline.process_corpus(text_train)\n",
        "X_test = pipeline.process_corpus(text_test)\n",
        "\n",
        "y_train = labels_train[:]\n",
        "y_test = labels_test[:]"
      ]
    },
    {
      "cell_type": "code",
      "execution_count": 6,
      "metadata": {
        "id": "GDPpfIkNRfnn"
      },
      "outputs": [],
      "source": [
        "class IndoBERTDataset(Dataset):\n",
        "    def __init__(self, texts: 'list[str]', targets: 'list[str]'):\n",
        "        assert len(texts) == len(targets)\n",
        "        self.tokenizer = BertTokenizerFast.from_pretrained(\"indobenchmark/indobert-base-p2\")\n",
        "        self.texts = texts\n",
        "        self.targets = targets\n",
        "\n",
        "    def __len__(self):\n",
        "        return len(self.texts)\n",
        "\n",
        "    def __getitem__(self, idx):\n",
        "        bert_tokens = self.tokenizer(self.texts[idx], max_length=256, \n",
        "                                     padding='max_length', truncation=True, \n",
        "                                     return_tensors='pt' )\n",
        "        targets = torch.tensor(self.targets[idx], dtype=torch.int64)\n",
        "        return bert_tokens, targets\n",
        "    \n",
        "    @staticmethod\n",
        "    def squeeze_unwanted_batch(x, device):\n",
        "        \"\"\"\n",
        "        This function handles an unexpected output of DataLoader that creates extra dimension on dim=1\n",
        "        \"\"\"\n",
        "        new_x = {}\n",
        "        for keys in x:\n",
        "            new_x[keys] = x[keys].squeeze().to(device)\n",
        "        return new_x"
      ]
    },
    {
      "cell_type": "code",
      "execution_count": 7,
      "metadata": {
        "id": "uWjKnmOgRfno"
      },
      "outputs": [],
      "source": [
        "train_dataset = IndoBERTDataset(X_train, y_train)\n",
        "test_dataset = IndoBERTDataset(X_test, y_test)"
      ]
    },
    {
      "cell_type": "markdown",
      "metadata": {
        "id": "9WEI5Tk8Uggf"
      },
      "source": [
        "# Prepare Train"
      ]
    },
    {
      "cell_type": "code",
      "execution_count": 8,
      "metadata": {
        "colab": {
          "base_uri": "https://localhost:8080/"
        },
        "id": "wtkOrVZ5Rfno",
        "outputId": "234be94c-cebd-4667-af6b-6fbd099d42b5"
      },
      "outputs": [
        {
          "name": "stderr",
          "output_type": "stream",
          "text": [
            "Some weights of BertForSequenceClassification were not initialized from the model checkpoint at indobenchmark/indobert-base-p2 and are newly initialized: ['classifier.weight', 'classifier.bias']\n",
            "You should probably TRAIN this model on a down-stream task to be able to use it for predictions and inference.\n"
          ]
        }
      ],
      "source": [
        "\n",
        "\"\"\"\n",
        "https://arxiv.org/pdf/1810.04805.pdf\n",
        "\n",
        "We use a batch size of 32 and fine-tune for 3\n",
        "epochs over the data for all GLUE tasks. For each\n",
        "task, we selected the best fine-tuning learning rate\n",
        "(among 5e-5, 4e-5, 3e-5, and 2e-5)\n",
        "\"\"\"\n",
        "\n",
        "batch_size = 32\n",
        "epochs = 3\n",
        "device = \"cuda\"\n",
        "lr = 2e-5\n",
        "\n",
        "train_loader = DataLoader(train_dataset, batch_size=batch_size, shuffle=True)\n",
        "test_loader = DataLoader(test_dataset, batch_size=batch_size, shuffle=False)\n",
        "\n",
        "num_mini_batch = math.ceil(len(X_train) / batch_size)\n",
        "\n",
        "model = BertForSequenceClassification.from_pretrained(\n",
        "    \"indobenchmark/indobert-base-p2\",\n",
        "    num_labels=2,\n",
        "    id2label=id2label,\n",
        "    label2id=label2id,\n",
        "    problem_type=\"multi_label_classification\",\n",
        ").to(device)\n",
        "\n",
        "optim = torch.optim.Adam(model.parameters(), lr=lr)\n",
        "\n",
        "metrics = MetricsContainer({\n",
        "    \"acc_train\" : MulticlassAccuracy(num_classes=2).to(device),\n",
        "    \"acc_test\" : MulticlassAccuracy(num_classes=2).to(device),\n",
        "    \"f1_train\" : MulticlassF1Score(num_classes=2).to(device),\n",
        "    \"f1_test\" : MulticlassF1Score(num_classes=2).to(device),\n",
        "    \"loss_train\" : custom_metric.loss_metrics,\n",
        "    \"loss_test\" : custom_metric.loss_metrics,\n",
        "})"
      ]
    },
    {
      "cell_type": "markdown",
      "metadata": {
        "id": "yePIEQXzUh71"
      },
      "source": [
        "# Train Loop"
      ]
    },
    {
      "cell_type": "code",
      "execution_count": 9,
      "metadata": {
        "colab": {
          "base_uri": "https://localhost:8080/"
        },
        "id": "vvykn5QxRfnp",
        "outputId": "8b396f64-e8ca-42c6-94e1-03ce980a8fad"
      },
      "outputs": [
        {
          "name": "stderr",
          "output_type": "stream",
          "text": [
            "EPOCH 1 / 3: Infering on Testing Data: 100%|██████████| 220/220 [02:30<00:00,  1.46it/s, acc_train=0.843, acc_test=0.859, f1_train=0.839, f1_test=0.859, loss_train=0.205, loss_test=0.182]\n",
            "EPOCH 2 / 3: Infering on Testing Data: 100%|██████████| 220/220 [02:26<00:00,  1.50it/s, acc_train=0.907, acc_test=0.846, f1_train=0.906, f1_test=0.849, loss_train=0.133, loss_test=0.186]\n",
            "EPOCH 3 / 3: Infering on Testing Data: 100%|██████████| 220/220 [02:26<00:00,  1.50it/s, acc_train=0.947, acc_test=0.837, f1_train=0.948, f1_test=0.851, loss_train=0.0885, loss_test=0.236]\n"
          ]
        }
      ],
      "source": [
        "# Half precision\n",
        "scaler = torch.cuda.amp.GradScaler()\n",
        "\n",
        "for i in range(epochs):\n",
        "    # Progress bar\n",
        "    pbar = tqdm(total=num_mini_batch)\n",
        "    pbar.set_description(f\"EPOCH {i + 1} / {epochs}: Training\")\n",
        "    \n",
        "    # Metrics initialize new batch\n",
        "    metrics.new_batch()\n",
        "\n",
        "    # Train\n",
        "    model.train()\n",
        "    for train_tokens, train_target in train_loader:\n",
        "        model.zero_grad()\n",
        "        train_target = train_target.to(device)\n",
        "        # Forward\n",
        "        with torch.cuda.amp.autocast():\n",
        "            train_tokens = IndoBERTDataset.squeeze_unwanted_batch(train_tokens, device)\n",
        "            pred = model(**train_tokens).logits\n",
        "            loss = F.cross_entropy(pred, train_target)\n",
        "\n",
        "        # Backprop\n",
        "        scaler.scale(loss).backward()\n",
        "        scaler.step(optim)\n",
        "        scaler.update()\n",
        "\n",
        "        # Metrics and logging\n",
        "        metrics(\"loss_train\", loss)\n",
        "        metrics(\"f1_train\", pred, train_target)\n",
        "        metrics(\"acc_train\", pred, train_target)\n",
        "        pbar.set_postfix(metrics.mean_metrics_batch())\n",
        "        pbar.update(1)\n",
        "\n",
        "    # Eval\n",
        "    model.eval()\n",
        "    pbar.set_description(f\"EPOCH {i + 1} / {epochs}: Infering on Testing Data\")\n",
        "    \n",
        "    for test_tokens, test_target in test_loader:\n",
        "        test_tokens = IndoBERTDataset.squeeze_unwanted_batch(test_tokens, device)\n",
        "        test_target = test_target.to(device)\n",
        "        # Forward test\n",
        "        with torch.no_grad():\n",
        "            pred_test = model(**test_tokens).logits\n",
        "            loss_test = F.cross_entropy(pred_test, test_target)\n",
        "\n",
        "        # Metrics and logging\n",
        "        metrics(\"loss_test\", loss_test)\n",
        "        metrics(\"f1_test\", pred_test, test_target)\n",
        "        metrics(\"acc_test\", pred_test, test_target)\n",
        "        pbar.set_postfix(metrics.mean_metrics_batch())\n",
        "\n",
        "    pbar.close()\n",
        "    metrics.process_batch()\n"
      ]
    },
    {
      "cell_type": "code",
      "execution_count": 9,
      "metadata": {
        "id": "0zF9KGWTrFw2"
      },
      "outputs": [],
      "source": []
    }
  ],
  "metadata": {
    "accelerator": "GPU",
    "colab": {
      "provenance": []
    },
    "gpuClass": "standard",
    "kernelspec": {
      "display_name": "venv",
      "language": "python",
      "name": "python3"
    },
    "language_info": {
      "codemirror_mode": {
        "name": "ipython",
        "version": 3
      },
      "file_extension": ".py",
      "mimetype": "text/x-python",
      "name": "python",
      "nbconvert_exporter": "python",
      "pygments_lexer": "ipython3",
      "version": "3.8.10"
    },
    "orig_nbformat": 4,
    "vscode": {
      "interpreter": {
        "hash": "f859f1e6f927a99659bbed8c715d8b2e0ee62a381a7a8caee1b1f662fc1c2ad7"
      }
    },
    "widgets": {
      "application/vnd.jupyter.widget-state+json": {
        "0b2cee3aa2694b3bbfed0e34b845748e": {
          "model_module": "@jupyter-widgets/base",
          "model_module_version": "1.2.0",
          "model_name": "LayoutModel",
          "state": {
            "_model_module": "@jupyter-widgets/base",
            "_model_module_version": "1.2.0",
            "_model_name": "LayoutModel",
            "_view_count": null,
            "_view_module": "@jupyter-widgets/base",
            "_view_module_version": "1.2.0",
            "_view_name": "LayoutView",
            "align_content": null,
            "align_items": null,
            "align_self": null,
            "border": null,
            "bottom": null,
            "display": null,
            "flex": null,
            "flex_flow": null,
            "grid_area": null,
            "grid_auto_columns": null,
            "grid_auto_flow": null,
            "grid_auto_rows": null,
            "grid_column": null,
            "grid_gap": null,
            "grid_row": null,
            "grid_template_areas": null,
            "grid_template_columns": null,
            "grid_template_rows": null,
            "height": null,
            "justify_content": null,
            "justify_items": null,
            "left": null,
            "margin": null,
            "max_height": null,
            "max_width": null,
            "min_height": null,
            "min_width": null,
            "object_fit": null,
            "object_position": null,
            "order": null,
            "overflow": null,
            "overflow_x": null,
            "overflow_y": null,
            "padding": null,
            "right": null,
            "top": null,
            "visibility": null,
            "width": null
          }
        },
        "1ba96fdab74042119dbecbe99cbae3df": {
          "model_module": "@jupyter-widgets/controls",
          "model_module_version": "1.5.0",
          "model_name": "HTMLModel",
          "state": {
            "_dom_classes": [],
            "_model_module": "@jupyter-widgets/controls",
            "_model_module_version": "1.5.0",
            "_model_name": "HTMLModel",
            "_view_count": null,
            "_view_module": "@jupyter-widgets/controls",
            "_view_module_version": "1.5.0",
            "_view_name": "HTMLView",
            "description": "",
            "description_tooltip": null,
            "layout": "IPY_MODEL_0b2cee3aa2694b3bbfed0e34b845748e",
            "placeholder": "​",
            "style": "IPY_MODEL_6c50f4e961814898891877db9e4bbc7b",
            "value": "100%"
          }
        },
        "2d3f829a5b624ba99d6f1aaee3be3bcc": {
          "model_module": "@jupyter-widgets/controls",
          "model_module_version": "1.5.0",
          "model_name": "FloatProgressModel",
          "state": {
            "_dom_classes": [],
            "_model_module": "@jupyter-widgets/controls",
            "_model_module_version": "1.5.0",
            "_model_name": "FloatProgressModel",
            "_view_count": null,
            "_view_module": "@jupyter-widgets/controls",
            "_view_module_version": "1.5.0",
            "_view_name": "ProgressView",
            "bar_style": "success",
            "description": "",
            "description_tooltip": null,
            "layout": "IPY_MODEL_6bee5e5f2c8a4de9820801c2eb11e71b",
            "max": 2,
            "min": 0,
            "orientation": "horizontal",
            "style": "IPY_MODEL_a88c21d5a52b4fe4bb29989a4b9f868f",
            "value": 2
          }
        },
        "3ca208024faa4d4b89f278400f0f298e": {
          "model_module": "@jupyter-widgets/controls",
          "model_module_version": "1.5.0",
          "model_name": "DescriptionStyleModel",
          "state": {
            "_model_module": "@jupyter-widgets/controls",
            "_model_module_version": "1.5.0",
            "_model_name": "DescriptionStyleModel",
            "_view_count": null,
            "_view_module": "@jupyter-widgets/base",
            "_view_module_version": "1.2.0",
            "_view_name": "StyleView",
            "description_width": ""
          }
        },
        "625df3ade3be475e8083c8dc589cb55f": {
          "model_module": "@jupyter-widgets/base",
          "model_module_version": "1.2.0",
          "model_name": "LayoutModel",
          "state": {
            "_model_module": "@jupyter-widgets/base",
            "_model_module_version": "1.2.0",
            "_model_name": "LayoutModel",
            "_view_count": null,
            "_view_module": "@jupyter-widgets/base",
            "_view_module_version": "1.2.0",
            "_view_name": "LayoutView",
            "align_content": null,
            "align_items": null,
            "align_self": null,
            "border": null,
            "bottom": null,
            "display": null,
            "flex": null,
            "flex_flow": null,
            "grid_area": null,
            "grid_auto_columns": null,
            "grid_auto_flow": null,
            "grid_auto_rows": null,
            "grid_column": null,
            "grid_gap": null,
            "grid_row": null,
            "grid_template_areas": null,
            "grid_template_columns": null,
            "grid_template_rows": null,
            "height": null,
            "justify_content": null,
            "justify_items": null,
            "left": null,
            "margin": null,
            "max_height": null,
            "max_width": null,
            "min_height": null,
            "min_width": null,
            "object_fit": null,
            "object_position": null,
            "order": null,
            "overflow": null,
            "overflow_x": null,
            "overflow_y": null,
            "padding": null,
            "right": null,
            "top": null,
            "visibility": null,
            "width": null
          }
        },
        "6bee5e5f2c8a4de9820801c2eb11e71b": {
          "model_module": "@jupyter-widgets/base",
          "model_module_version": "1.2.0",
          "model_name": "LayoutModel",
          "state": {
            "_model_module": "@jupyter-widgets/base",
            "_model_module_version": "1.2.0",
            "_model_name": "LayoutModel",
            "_view_count": null,
            "_view_module": "@jupyter-widgets/base",
            "_view_module_version": "1.2.0",
            "_view_name": "LayoutView",
            "align_content": null,
            "align_items": null,
            "align_self": null,
            "border": null,
            "bottom": null,
            "display": null,
            "flex": null,
            "flex_flow": null,
            "grid_area": null,
            "grid_auto_columns": null,
            "grid_auto_flow": null,
            "grid_auto_rows": null,
            "grid_column": null,
            "grid_gap": null,
            "grid_row": null,
            "grid_template_areas": null,
            "grid_template_columns": null,
            "grid_template_rows": null,
            "height": null,
            "justify_content": null,
            "justify_items": null,
            "left": null,
            "margin": null,
            "max_height": null,
            "max_width": null,
            "min_height": null,
            "min_width": null,
            "object_fit": null,
            "object_position": null,
            "order": null,
            "overflow": null,
            "overflow_x": null,
            "overflow_y": null,
            "padding": null,
            "right": null,
            "top": null,
            "visibility": null,
            "width": null
          }
        },
        "6c50f4e961814898891877db9e4bbc7b": {
          "model_module": "@jupyter-widgets/controls",
          "model_module_version": "1.5.0",
          "model_name": "DescriptionStyleModel",
          "state": {
            "_model_module": "@jupyter-widgets/controls",
            "_model_module_version": "1.5.0",
            "_model_name": "DescriptionStyleModel",
            "_view_count": null,
            "_view_module": "@jupyter-widgets/base",
            "_view_module_version": "1.2.0",
            "_view_name": "StyleView",
            "description_width": ""
          }
        },
        "8b94ccecb3fa407493a8116bbba070af": {
          "model_module": "@jupyter-widgets/base",
          "model_module_version": "1.2.0",
          "model_name": "LayoutModel",
          "state": {
            "_model_module": "@jupyter-widgets/base",
            "_model_module_version": "1.2.0",
            "_model_name": "LayoutModel",
            "_view_count": null,
            "_view_module": "@jupyter-widgets/base",
            "_view_module_version": "1.2.0",
            "_view_name": "LayoutView",
            "align_content": null,
            "align_items": null,
            "align_self": null,
            "border": null,
            "bottom": null,
            "display": null,
            "flex": null,
            "flex_flow": null,
            "grid_area": null,
            "grid_auto_columns": null,
            "grid_auto_flow": null,
            "grid_auto_rows": null,
            "grid_column": null,
            "grid_gap": null,
            "grid_row": null,
            "grid_template_areas": null,
            "grid_template_columns": null,
            "grid_template_rows": null,
            "height": null,
            "justify_content": null,
            "justify_items": null,
            "left": null,
            "margin": null,
            "max_height": null,
            "max_width": null,
            "min_height": null,
            "min_width": null,
            "object_fit": null,
            "object_position": null,
            "order": null,
            "overflow": null,
            "overflow_x": null,
            "overflow_y": null,
            "padding": null,
            "right": null,
            "top": null,
            "visibility": null,
            "width": null
          }
        },
        "8e4c881eb0304798801315755e95a543": {
          "model_module": "@jupyter-widgets/controls",
          "model_module_version": "1.5.0",
          "model_name": "HBoxModel",
          "state": {
            "_dom_classes": [],
            "_model_module": "@jupyter-widgets/controls",
            "_model_module_version": "1.5.0",
            "_model_name": "HBoxModel",
            "_view_count": null,
            "_view_module": "@jupyter-widgets/controls",
            "_view_module_version": "1.5.0",
            "_view_name": "HBoxView",
            "box_style": "",
            "children": [
              "IPY_MODEL_1ba96fdab74042119dbecbe99cbae3df",
              "IPY_MODEL_2d3f829a5b624ba99d6f1aaee3be3bcc",
              "IPY_MODEL_d7b8c11a39e84326a868de79556bed16"
            ],
            "layout": "IPY_MODEL_625df3ade3be475e8083c8dc589cb55f"
          }
        },
        "a88c21d5a52b4fe4bb29989a4b9f868f": {
          "model_module": "@jupyter-widgets/controls",
          "model_module_version": "1.5.0",
          "model_name": "ProgressStyleModel",
          "state": {
            "_model_module": "@jupyter-widgets/controls",
            "_model_module_version": "1.5.0",
            "_model_name": "ProgressStyleModel",
            "_view_count": null,
            "_view_module": "@jupyter-widgets/base",
            "_view_module_version": "1.2.0",
            "_view_name": "StyleView",
            "bar_color": null,
            "description_width": ""
          }
        },
        "d7b8c11a39e84326a868de79556bed16": {
          "model_module": "@jupyter-widgets/controls",
          "model_module_version": "1.5.0",
          "model_name": "HTMLModel",
          "state": {
            "_dom_classes": [],
            "_model_module": "@jupyter-widgets/controls",
            "_model_module_version": "1.5.0",
            "_model_name": "HTMLModel",
            "_view_count": null,
            "_view_module": "@jupyter-widgets/controls",
            "_view_module_version": "1.5.0",
            "_view_name": "HTMLView",
            "description": "",
            "description_tooltip": null,
            "layout": "IPY_MODEL_8b94ccecb3fa407493a8116bbba070af",
            "placeholder": "​",
            "style": "IPY_MODEL_3ca208024faa4d4b89f278400f0f298e",
            "value": " 2/2 [00:00&lt;00:00, 72.16it/s]"
          }
        }
      }
    }
  },
  "nbformat": 4,
  "nbformat_minor": 0
}
