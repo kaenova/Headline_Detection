{
  "cells": [
    {
      "cell_type": "code",
      "execution_count": 1,
      "metadata": {
        "colab": {
          "base_uri": "https://localhost:8080/"
        },
        "id": "qBAn4qw6Rfnh",
        "outputId": "ddbf96d6-7d3e-4527-bd1b-27956921c6bd"
      },
      "outputs": [
        {
          "name": "stdout",
          "output_type": "stream",
          "text": [
            "Cloning into 'Headline_Detection'...\n",
            "remote: Enumerating objects: 383, done.\u001b[K\n",
            "remote: Counting objects: 100% (383/383), done.\u001b[K\n",
            "remote: Compressing objects: 100% (275/275), done.\u001b[K\n",
            "remote: Total 383 (delta 187), reused 286 (delta 90), pack-reused 0\u001b[K\n",
            "Receiving objects: 100% (383/383), 22.45 MiB | 19.57 MiB/s, done.\n",
            "Resolving deltas: 100% (187/187), done.\n",
            "/content/Headline_Detection\n",
            "pip install -r requirements.txt\n",
            "Looking in indexes: https://pypi.org/simple, https://us-python.pkg.dev/colab-wheels/public/simple/\n",
            "Collecting git+https://github.com/kaenova/NDETCStemmer.git@master (from -r requirements.txt (line 18))\n",
            "  Cloning https://github.com/kaenova/NDETCStemmer.git (to revision master) to /tmp/pip-req-build-on689hii\n",
            "  Running command git clone --filter=blob:none --quiet https://github.com/kaenova/NDETCStemmer.git /tmp/pip-req-build-on689hii\n",
            "  Resolved https://github.com/kaenova/NDETCStemmer.git to commit c1c8063b0d0725e97c6318ad4472953d1b0566bb\n",
            "  Preparing metadata (setup.py) ... \u001b[?25l\u001b[?25hdone\n",
            "Requirement already satisfied: tweepy[async] in /usr/local/lib/python3.8/dist-packages (from -r requirements.txt (line 2)) (3.10.0)\n",
            "Collecting snscrape\n",
            "  Downloading snscrape-0.5.0.20230113-py3-none-any.whl (69 kB)\n",
            "\u001b[2K     \u001b[90m━━━━━━━━━━━━━━━━━━━━━━━━━━━━━━━━━━━━━━━━\u001b[0m \u001b[32m69.2/69.2 KB\u001b[0m \u001b[31m1.5 MB/s\u001b[0m eta \u001b[36m0:00:00\u001b[0m\n",
            "\u001b[?25hRequirement already satisfied: pandas in /usr/local/lib/python3.8/dist-packages (from -r requirements.txt (line 4)) (1.3.5)\n",
            "Requirement already satisfied: numpy in /usr/local/lib/python3.8/dist-packages (from -r requirements.txt (line 5)) (1.22.4)\n",
            "Collecting python-dotenv\n",
            "  Downloading python_dotenv-1.0.0-py3-none-any.whl (19 kB)\n",
            "Collecting emoji\n",
            "  Downloading emoji-2.2.0.tar.gz (240 kB)\n",
            "\u001b[2K     \u001b[90m━━━━━━━━━━━━━━━━━━━━━━━━━━━━━━━━━━━━━━\u001b[0m \u001b[32m240.9/240.9 KB\u001b[0m \u001b[31m14.4 MB/s\u001b[0m eta \u001b[36m0:00:00\u001b[0m\n",
            "\u001b[?25h  Preparing metadata (setup.py) ... \u001b[?25l\u001b[?25hdone\n",
            "Requirement already satisfied: torch in /usr/local/lib/python3.8/dist-packages (from -r requirements.txt (line 8)) (1.13.1+cu116)\n",
            "Collecting pytorch-nlp\n",
            "  Downloading pytorch_nlp-0.5.0-py3-none-any.whl (90 kB)\n",
            "\u001b[2K     \u001b[90m━━━━━━━━━━━━━━━━━━━━━━━━━━━━━━━━━━━━━━━━\u001b[0m \u001b[32m90.1/90.1 KB\u001b[0m \u001b[31m11.9 MB/s\u001b[0m eta \u001b[36m0:00:00\u001b[0m\n",
            "\u001b[?25hRequirement already satisfied: tqdm in /usr/local/lib/python3.8/dist-packages (from -r requirements.txt (line 10)) (4.64.1)\n",
            "Collecting transformers\n",
            "  Downloading transformers-4.26.1-py3-none-any.whl (6.3 MB)\n",
            "\u001b[2K     \u001b[90m━━━━━━━━━━━━━━━━━━━━━━━━━━━━━━━━━━━━━━━━\u001b[0m \u001b[32m6.3/6.3 MB\u001b[0m \u001b[31m89.3 MB/s\u001b[0m eta \u001b[36m0:00:00\u001b[0m\n",
            "\u001b[?25hCollecting torchmetrics\n",
            "  Downloading torchmetrics-0.11.1-py3-none-any.whl (517 kB)\n",
            "\u001b[2K     \u001b[90m━━━━━━━━━━━━━━━━━━━━━━━━━━━━━━━━━━━━━━\u001b[0m \u001b[32m517.2/517.2 KB\u001b[0m \u001b[31m46.4 MB/s\u001b[0m eta \u001b[36m0:00:00\u001b[0m\n",
            "\u001b[?25hCollecting datasets\n",
            "  Downloading datasets-2.10.0-py3-none-any.whl (469 kB)\n",
            "\u001b[2K     \u001b[90m━━━━━━━━━━━━━━━━━━━━━━━━━━━━━━━━━━━━━━\u001b[0m \u001b[32m469.0/469.0 KB\u001b[0m \u001b[31m26.5 MB/s\u001b[0m eta \u001b[36m0:00:00\u001b[0m\n",
            "\u001b[?25hRequirement already satisfied: ipywidgets in /usr/local/lib/python3.8/dist-packages (from -r requirements.txt (line 14)) (7.7.1)\n",
            "Requirement already satisfied: openpyxl in /usr/local/lib/python3.8/dist-packages (from -r requirements.txt (line 15)) (3.0.10)\n",
            "Requirement already satisfied: matplotlib in /usr/local/lib/python3.8/dist-packages (from -r requirements.txt (line 16)) (3.5.3)\n",
            "Requirement already satisfied: scikit-learn in /usr/local/lib/python3.8/dist-packages (from -r requirements.txt (line 17)) (1.0.2)\n",
            "\u001b[33mWARNING: tweepy 3.10.0 does not provide the extra 'async'\u001b[0m\u001b[33m\n",
            "\u001b[0mRequirement already satisfied: six>=1.10.0 in /usr/local/lib/python3.8/dist-packages (from tweepy[async]->-r requirements.txt (line 2)) (1.15.0)\n",
            "Requirement already satisfied: requests-oauthlib>=0.7.0 in /usr/local/lib/python3.8/dist-packages (from tweepy[async]->-r requirements.txt (line 2)) (1.3.1)\n",
            "Requirement already satisfied: requests[socks]>=2.11.1 in /usr/local/lib/python3.8/dist-packages (from tweepy[async]->-r requirements.txt (line 2)) (2.25.1)\n",
            "Requirement already satisfied: pytz in /usr/local/lib/python3.8/dist-packages (from snscrape->-r requirements.txt (line 3)) (2022.7.1)\n",
            "Requirement already satisfied: lxml in /usr/local/lib/python3.8/dist-packages (from snscrape->-r requirements.txt (line 3)) (4.9.2)\n",
            "Requirement already satisfied: filelock in /usr/local/lib/python3.8/dist-packages (from snscrape->-r requirements.txt (line 3)) (3.9.0)\n",
            "Requirement already satisfied: beautifulsoup4 in /usr/local/lib/python3.8/dist-packages (from snscrape->-r requirements.txt (line 3)) (4.6.3)\n",
            "Requirement already satisfied: python-dateutil>=2.7.3 in /usr/local/lib/python3.8/dist-packages (from pandas->-r requirements.txt (line 4)) (2.8.2)\n",
            "Requirement already satisfied: typing-extensions in /usr/local/lib/python3.8/dist-packages (from torch->-r requirements.txt (line 8)) (4.5.0)\n",
            "Requirement already satisfied: packaging>=20.0 in /usr/local/lib/python3.8/dist-packages (from transformers->-r requirements.txt (line 11)) (23.0)\n",
            "Requirement already satisfied: regex!=2019.12.17 in /usr/local/lib/python3.8/dist-packages (from transformers->-r requirements.txt (line 11)) (2022.6.2)\n",
            "Collecting tokenizers!=0.11.3,<0.14,>=0.11.1\n",
            "  Downloading tokenizers-0.13.2-cp38-cp38-manylinux_2_17_x86_64.manylinux2014_x86_64.whl (7.6 MB)\n",
            "\u001b[2K     \u001b[90m━━━━━━━━━━━━━━━━━━━━━━━━━━━━━━━━━━━━━━━━\u001b[0m \u001b[32m7.6/7.6 MB\u001b[0m \u001b[31m54.0 MB/s\u001b[0m eta \u001b[36m0:00:00\u001b[0m\n",
            "\u001b[?25hRequirement already satisfied: pyyaml>=5.1 in /usr/local/lib/python3.8/dist-packages (from transformers->-r requirements.txt (line 11)) (6.0)\n",
            "Collecting huggingface-hub<1.0,>=0.11.0\n",
            "  Downloading huggingface_hub-0.12.1-py3-none-any.whl (190 kB)\n",
            "\u001b[2K     \u001b[90m━━━━━━━━━━━━━━━━━━━━━━━━━━━━━━━━━━━━━━\u001b[0m \u001b[32m190.3/190.3 KB\u001b[0m \u001b[31m19.7 MB/s\u001b[0m eta \u001b[36m0:00:00\u001b[0m\n",
            "\u001b[?25hRequirement already satisfied: aiohttp in /usr/local/lib/python3.8/dist-packages (from datasets->-r requirements.txt (line 13)) (3.8.4)\n",
            "Requirement already satisfied: dill<0.3.7,>=0.3.0 in /usr/local/lib/python3.8/dist-packages (from datasets->-r requirements.txt (line 13)) (0.3.6)\n",
            "Collecting xxhash\n",
            "  Downloading xxhash-3.2.0-cp38-cp38-manylinux_2_17_x86_64.manylinux2014_x86_64.whl (213 kB)\n",
            "\u001b[2K     \u001b[90m━━━━━━━━━━━━━━━━━━━━━━━━━━━━━━━━━━━━━━\u001b[0m \u001b[32m213.0/213.0 KB\u001b[0m \u001b[31m17.1 MB/s\u001b[0m eta \u001b[36m0:00:00\u001b[0m\n",
            "\u001b[?25hCollecting multiprocess\n",
            "  Downloading multiprocess-0.70.14-py38-none-any.whl (132 kB)\n",
            "\u001b[2K     \u001b[90m━━━━━━━━━━━━━━━━━━━━━━━━━━━━━━━━━━━━━━\u001b[0m \u001b[32m132.0/132.0 KB\u001b[0m \u001b[31m13.0 MB/s\u001b[0m eta \u001b[36m0:00:00\u001b[0m\n",
            "\u001b[?25hRequirement already satisfied: fsspec[http]>=2021.11.1 in /usr/local/lib/python3.8/dist-packages (from datasets->-r requirements.txt (line 13)) (2023.1.0)\n",
            "Collecting responses<0.19\n",
            "  Downloading responses-0.18.0-py3-none-any.whl (38 kB)\n",
            "Requirement already satisfied: pyarrow>=6.0.0 in /usr/local/lib/python3.8/dist-packages (from datasets->-r requirements.txt (line 13)) (9.0.0)\n",
            "Requirement already satisfied: jupyterlab-widgets>=1.0.0 in /usr/local/lib/python3.8/dist-packages (from ipywidgets->-r requirements.txt (line 14)) (3.0.5)\n",
            "Requirement already satisfied: traitlets>=4.3.1 in /usr/local/lib/python3.8/dist-packages (from ipywidgets->-r requirements.txt (line 14)) (5.7.1)\n",
            "Requirement already satisfied: ipython-genutils~=0.2.0 in /usr/local/lib/python3.8/dist-packages (from ipywidgets->-r requirements.txt (line 14)) (0.2.0)\n",
            "Requirement already satisfied: ipykernel>=4.5.1 in /usr/local/lib/python3.8/dist-packages (from ipywidgets->-r requirements.txt (line 14)) (5.3.4)\n",
            "Requirement already satisfied: ipython>=4.0.0 in /usr/local/lib/python3.8/dist-packages (from ipywidgets->-r requirements.txt (line 14)) (7.9.0)\n",
            "Requirement already satisfied: widgetsnbextension~=3.6.0 in /usr/local/lib/python3.8/dist-packages (from ipywidgets->-r requirements.txt (line 14)) (3.6.2)\n",
            "Requirement already satisfied: et-xmlfile in /usr/local/lib/python3.8/dist-packages (from openpyxl->-r requirements.txt (line 15)) (1.1.0)\n",
            "Requirement already satisfied: kiwisolver>=1.0.1 in /usr/local/lib/python3.8/dist-packages (from matplotlib->-r requirements.txt (line 16)) (1.4.4)\n",
            "Requirement already satisfied: fonttools>=4.22.0 in /usr/local/lib/python3.8/dist-packages (from matplotlib->-r requirements.txt (line 16)) (4.38.0)\n",
            "Requirement already satisfied: cycler>=0.10 in /usr/local/lib/python3.8/dist-packages (from matplotlib->-r requirements.txt (line 16)) (0.11.0)\n",
            "Requirement already satisfied: pillow>=6.2.0 in /usr/local/lib/python3.8/dist-packages (from matplotlib->-r requirements.txt (line 16)) (7.1.2)\n",
            "Requirement already satisfied: pyparsing>=2.2.1 in /usr/local/lib/python3.8/dist-packages (from matplotlib->-r requirements.txt (line 16)) (3.0.9)\n",
            "Requirement already satisfied: scipy>=1.1.0 in /usr/local/lib/python3.8/dist-packages (from scikit-learn->-r requirements.txt (line 17)) (1.7.3)\n",
            "Requirement already satisfied: threadpoolctl>=2.0.0 in /usr/local/lib/python3.8/dist-packages (from scikit-learn->-r requirements.txt (line 17)) (3.1.0)\n",
            "Requirement already satisfied: joblib>=0.11 in /usr/local/lib/python3.8/dist-packages (from scikit-learn->-r requirements.txt (line 17)) (1.2.0)\n",
            "Requirement already satisfied: nltk in /usr/local/lib/python3.8/dist-packages (from NDETCStemmer==1.3.0->-r requirements.txt (line 18)) (3.7)\n",
            "Requirement already satisfied: gensim in /usr/local/lib/python3.8/dist-packages (from NDETCStemmer==1.3.0->-r requirements.txt (line 18)) (3.6.0)\n",
            "Requirement already satisfied: gdown in /usr/local/lib/python3.8/dist-packages (from NDETCStemmer==1.3.0->-r requirements.txt (line 18)) (4.4.0)\n",
            "Collecting checksumdir\n",
            "  Downloading checksumdir-1.2.0-py3-none-any.whl (5.3 kB)\n",
            "Requirement already satisfied: multidict<7.0,>=4.5 in /usr/local/lib/python3.8/dist-packages (from aiohttp->datasets->-r requirements.txt (line 13)) (6.0.4)\n",
            "Requirement already satisfied: frozenlist>=1.1.1 in /usr/local/lib/python3.8/dist-packages (from aiohttp->datasets->-r requirements.txt (line 13)) (1.3.3)\n",
            "Requirement already satisfied: async-timeout<5.0,>=4.0.0a3 in /usr/local/lib/python3.8/dist-packages (from aiohttp->datasets->-r requirements.txt (line 13)) (4.0.2)\n",
            "Requirement already satisfied: aiosignal>=1.1.2 in /usr/local/lib/python3.8/dist-packages (from aiohttp->datasets->-r requirements.txt (line 13)) (1.3.1)\n",
            "Requirement already satisfied: attrs>=17.3.0 in /usr/local/lib/python3.8/dist-packages (from aiohttp->datasets->-r requirements.txt (line 13)) (22.2.0)\n",
            "Requirement already satisfied: yarl<2.0,>=1.0 in /usr/local/lib/python3.8/dist-packages (from aiohttp->datasets->-r requirements.txt (line 13)) (1.8.2)\n",
            "Requirement already satisfied: charset-normalizer<4.0,>=2.0 in /usr/local/lib/python3.8/dist-packages (from aiohttp->datasets->-r requirements.txt (line 13)) (3.0.1)\n",
            "Requirement already satisfied: tornado>=4.2 in /usr/local/lib/python3.8/dist-packages (from ipykernel>=4.5.1->ipywidgets->-r requirements.txt (line 14)) (6.2)\n",
            "Requirement already satisfied: jupyter-client in /usr/local/lib/python3.8/dist-packages (from ipykernel>=4.5.1->ipywidgets->-r requirements.txt (line 14)) (6.1.12)\n",
            "Requirement already satisfied: backcall in /usr/local/lib/python3.8/dist-packages (from ipython>=4.0.0->ipywidgets->-r requirements.txt (line 14)) (0.2.0)\n",
            "Requirement already satisfied: prompt-toolkit<2.1.0,>=2.0.0 in /usr/local/lib/python3.8/dist-packages (from ipython>=4.0.0->ipywidgets->-r requirements.txt (line 14)) (2.0.10)\n",
            "Requirement already satisfied: pygments in /usr/local/lib/python3.8/dist-packages (from ipython>=4.0.0->ipywidgets->-r requirements.txt (line 14)) (2.6.1)\n",
            "Requirement already satisfied: pexpect in /usr/local/lib/python3.8/dist-packages (from ipython>=4.0.0->ipywidgets->-r requirements.txt (line 14)) (4.8.0)\n",
            "Collecting jedi>=0.10\n",
            "  Downloading jedi-0.18.2-py2.py3-none-any.whl (1.6 MB)\n",
            "\u001b[2K     \u001b[90m━━━━━━━━━━━━━━━━━━━━━━━━━━━━━━━━━━━━━━━━\u001b[0m \u001b[32m1.6/1.6 MB\u001b[0m \u001b[31m66.3 MB/s\u001b[0m eta \u001b[36m0:00:00\u001b[0m\n",
            "\u001b[?25hRequirement already satisfied: pickleshare in /usr/local/lib/python3.8/dist-packages (from ipython>=4.0.0->ipywidgets->-r requirements.txt (line 14)) (0.7.5)\n",
            "Requirement already satisfied: decorator in /usr/local/lib/python3.8/dist-packages (from ipython>=4.0.0->ipywidgets->-r requirements.txt (line 14)) (4.4.2)\n",
            "Requirement already satisfied: setuptools>=18.5 in /usr/local/lib/python3.8/dist-packages (from ipython>=4.0.0->ipywidgets->-r requirements.txt (line 14)) (57.4.0)\n",
            "Requirement already satisfied: idna<3,>=2.5 in /usr/local/lib/python3.8/dist-packages (from requests[socks]>=2.11.1->tweepy[async]->-r requirements.txt (line 2)) (2.10)\n",
            "Requirement already satisfied: urllib3<1.27,>=1.21.1 in /usr/local/lib/python3.8/dist-packages (from requests[socks]>=2.11.1->tweepy[async]->-r requirements.txt (line 2)) (1.24.3)\n",
            "Requirement already satisfied: chardet<5,>=3.0.2 in /usr/local/lib/python3.8/dist-packages (from requests[socks]>=2.11.1->tweepy[async]->-r requirements.txt (line 2)) (4.0.0)\n",
            "Requirement already satisfied: certifi>=2017.4.17 in /usr/local/lib/python3.8/dist-packages (from requests[socks]>=2.11.1->tweepy[async]->-r requirements.txt (line 2)) (2022.12.7)\n",
            "Requirement already satisfied: oauthlib>=3.0.0 in /usr/local/lib/python3.8/dist-packages (from requests-oauthlib>=0.7.0->tweepy[async]->-r requirements.txt (line 2)) (3.2.2)\n",
            "Requirement already satisfied: PySocks!=1.5.7,>=1.5.6 in /usr/local/lib/python3.8/dist-packages (from requests[socks]>=2.11.1->tweepy[async]->-r requirements.txt (line 2)) (1.7.1)\n",
            "Collecting urllib3<1.27,>=1.21.1\n",
            "  Downloading urllib3-1.26.14-py2.py3-none-any.whl (140 kB)\n",
            "\u001b[2K     \u001b[90m━━━━━━━━━━━━━━━━━━━━━━━━━━━━━━━━━━━━━━\u001b[0m \u001b[32m140.6/140.6 KB\u001b[0m \u001b[31m19.2 MB/s\u001b[0m eta \u001b[36m0:00:00\u001b[0m\n",
            "\u001b[?25hRequirement already satisfied: notebook>=4.4.1 in /usr/local/lib/python3.8/dist-packages (from widgetsnbextension~=3.6.0->ipywidgets->-r requirements.txt (line 14)) (6.3.0)\n",
            "Requirement already satisfied: smart-open>=1.2.1 in /usr/local/lib/python3.8/dist-packages (from gensim->NDETCStemmer==1.3.0->-r requirements.txt (line 18)) (6.3.0)\n",
            "Requirement already satisfied: click in /usr/local/lib/python3.8/dist-packages (from nltk->NDETCStemmer==1.3.0->-r requirements.txt (line 18)) (7.1.2)\n",
            "Requirement already satisfied: parso<0.9.0,>=0.8.0 in /usr/local/lib/python3.8/dist-packages (from jedi>=0.10->ipython>=4.0.0->ipywidgets->-r requirements.txt (line 14)) (0.8.3)\n",
            "Requirement already satisfied: nbformat in /usr/local/lib/python3.8/dist-packages (from notebook>=4.4.1->widgetsnbextension~=3.6.0->ipywidgets->-r requirements.txt (line 14)) (5.7.3)\n",
            "Requirement already satisfied: Send2Trash>=1.5.0 in /usr/local/lib/python3.8/dist-packages (from notebook>=4.4.1->widgetsnbextension~=3.6.0->ipywidgets->-r requirements.txt (line 14)) (1.8.0)\n",
            "Requirement already satisfied: argon2-cffi in /usr/local/lib/python3.8/dist-packages (from notebook>=4.4.1->widgetsnbextension~=3.6.0->ipywidgets->-r requirements.txt (line 14)) (21.3.0)\n",
            "Requirement already satisfied: terminado>=0.8.3 in /usr/local/lib/python3.8/dist-packages (from notebook>=4.4.1->widgetsnbextension~=3.6.0->ipywidgets->-r requirements.txt (line 14)) (0.13.3)\n",
            "Requirement already satisfied: nbconvert in /usr/local/lib/python3.8/dist-packages (from notebook>=4.4.1->widgetsnbextension~=3.6.0->ipywidgets->-r requirements.txt (line 14)) (5.6.1)\n",
            "Requirement already satisfied: jinja2 in /usr/local/lib/python3.8/dist-packages (from notebook>=4.4.1->widgetsnbextension~=3.6.0->ipywidgets->-r requirements.txt (line 14)) (2.11.3)\n",
            "Requirement already satisfied: prometheus-client in /usr/local/lib/python3.8/dist-packages (from notebook>=4.4.1->widgetsnbextension~=3.6.0->ipywidgets->-r requirements.txt (line 14)) (0.16.0)\n",
            "Requirement already satisfied: pyzmq>=17 in /usr/local/lib/python3.8/dist-packages (from notebook>=4.4.1->widgetsnbextension~=3.6.0->ipywidgets->-r requirements.txt (line 14)) (23.2.1)\n",
            "Requirement already satisfied: jupyter-core>=4.6.1 in /usr/local/lib/python3.8/dist-packages (from notebook>=4.4.1->widgetsnbextension~=3.6.0->ipywidgets->-r requirements.txt (line 14)) (5.2.0)\n",
            "Requirement already satisfied: wcwidth in /usr/local/lib/python3.8/dist-packages (from prompt-toolkit<2.1.0,>=2.0.0->ipython>=4.0.0->ipywidgets->-r requirements.txt (line 14)) (0.2.6)\n",
            "Requirement already satisfied: ptyprocess>=0.5 in /usr/local/lib/python3.8/dist-packages (from pexpect->ipython>=4.0.0->ipywidgets->-r requirements.txt (line 14)) (0.7.0)\n",
            "Requirement already satisfied: platformdirs>=2.5 in /usr/local/lib/python3.8/dist-packages (from jupyter-core>=4.6.1->notebook>=4.4.1->widgetsnbextension~=3.6.0->ipywidgets->-r requirements.txt (line 14)) (3.0.0)\n",
            "Requirement already satisfied: argon2-cffi-bindings in /usr/local/lib/python3.8/dist-packages (from argon2-cffi->notebook>=4.4.1->widgetsnbextension~=3.6.0->ipywidgets->-r requirements.txt (line 14)) (21.2.0)\n",
            "Requirement already satisfied: MarkupSafe>=0.23 in /usr/local/lib/python3.8/dist-packages (from jinja2->notebook>=4.4.1->widgetsnbextension~=3.6.0->ipywidgets->-r requirements.txt (line 14)) (2.0.1)\n",
            "Requirement already satisfied: mistune<2,>=0.8.1 in /usr/local/lib/python3.8/dist-packages (from nbconvert->notebook>=4.4.1->widgetsnbextension~=3.6.0->ipywidgets->-r requirements.txt (line 14)) (0.8.4)\n",
            "Requirement already satisfied: testpath in /usr/local/lib/python3.8/dist-packages (from nbconvert->notebook>=4.4.1->widgetsnbextension~=3.6.0->ipywidgets->-r requirements.txt (line 14)) (0.6.0)\n",
            "Requirement already satisfied: defusedxml in /usr/local/lib/python3.8/dist-packages (from nbconvert->notebook>=4.4.1->widgetsnbextension~=3.6.0->ipywidgets->-r requirements.txt (line 14)) (0.7.1)\n",
            "Requirement already satisfied: bleach in /usr/local/lib/python3.8/dist-packages (from nbconvert->notebook>=4.4.1->widgetsnbextension~=3.6.0->ipywidgets->-r requirements.txt (line 14)) (6.0.0)\n",
            "Requirement already satisfied: pandocfilters>=1.4.1 in /usr/local/lib/python3.8/dist-packages (from nbconvert->notebook>=4.4.1->widgetsnbextension~=3.6.0->ipywidgets->-r requirements.txt (line 14)) (1.5.0)\n",
            "Requirement already satisfied: entrypoints>=0.2.2 in /usr/local/lib/python3.8/dist-packages (from nbconvert->notebook>=4.4.1->widgetsnbextension~=3.6.0->ipywidgets->-r requirements.txt (line 14)) (0.4)\n",
            "Requirement already satisfied: fastjsonschema in /usr/local/lib/python3.8/dist-packages (from nbformat->notebook>=4.4.1->widgetsnbextension~=3.6.0->ipywidgets->-r requirements.txt (line 14)) (2.16.2)\n",
            "Requirement already satisfied: jsonschema>=2.6 in /usr/local/lib/python3.8/dist-packages (from nbformat->notebook>=4.4.1->widgetsnbextension~=3.6.0->ipywidgets->-r requirements.txt (line 14)) (4.3.3)\n",
            "Requirement already satisfied: pyrsistent!=0.17.0,!=0.17.1,!=0.17.2,>=0.14.0 in /usr/local/lib/python3.8/dist-packages (from jsonschema>=2.6->nbformat->notebook>=4.4.1->widgetsnbextension~=3.6.0->ipywidgets->-r requirements.txt (line 14)) (0.19.3)\n",
            "Requirement already satisfied: importlib-resources>=1.4.0 in /usr/local/lib/python3.8/dist-packages (from jsonschema>=2.6->nbformat->notebook>=4.4.1->widgetsnbextension~=3.6.0->ipywidgets->-r requirements.txt (line 14)) (5.12.0)\n",
            "Requirement already satisfied: cffi>=1.0.1 in /usr/local/lib/python3.8/dist-packages (from argon2-cffi-bindings->argon2-cffi->notebook>=4.4.1->widgetsnbextension~=3.6.0->ipywidgets->-r requirements.txt (line 14)) (1.15.1)\n",
            "Requirement already satisfied: webencodings in /usr/local/lib/python3.8/dist-packages (from bleach->nbconvert->notebook>=4.4.1->widgetsnbextension~=3.6.0->ipywidgets->-r requirements.txt (line 14)) (0.5.1)\n",
            "Requirement already satisfied: pycparser in /usr/local/lib/python3.8/dist-packages (from cffi>=1.0.1->argon2-cffi-bindings->argon2-cffi->notebook>=4.4.1->widgetsnbextension~=3.6.0->ipywidgets->-r requirements.txt (line 14)) (2.21)\n",
            "Requirement already satisfied: zipp>=3.1.0 in /usr/local/lib/python3.8/dist-packages (from importlib-resources>=1.4.0->jsonschema>=2.6->nbformat->notebook>=4.4.1->widgetsnbextension~=3.6.0->ipywidgets->-r requirements.txt (line 14)) (3.14.0)\n",
            "Building wheels for collected packages: emoji, NDETCStemmer\n",
            "  Building wheel for emoji (setup.py) ... \u001b[?25l\u001b[?25hdone\n",
            "  Created wheel for emoji: filename=emoji-2.2.0-py3-none-any.whl size=234926 sha256=fc0571a37c04c8380406a1824cfdbd2558bcc21cc64f13b0bd460c5300520d85\n",
            "  Stored in directory: /root/.cache/pip/wheels/86/62/9e/a6b27a681abcde69970dbc0326ff51955f3beac72f15696984\n",
            "  Building wheel for NDETCStemmer (setup.py) ... \u001b[?25l\u001b[?25hdone\n",
            "  Created wheel for NDETCStemmer: filename=NDETCStemmer-1.3.0-py3-none-any.whl size=112700 sha256=06b0c42c2dcd5b5b1275d0142b8559497821a58361bc6b2637a4ef04ff3a8c34\n",
            "  Stored in directory: /tmp/pip-ephem-wheel-cache-ohv5a22i/wheels/6b/c3/2f/ab70429268c683fc3d22f955f3f8dabafb26e557640db541e6\n",
            "Successfully built emoji NDETCStemmer\n",
            "Installing collected packages: tokenizers, xxhash, urllib3, pytorch-nlp, python-dotenv, multiprocess, jedi, emoji, checksumdir, torchmetrics, responses, huggingface-hub, transformers, snscrape, datasets, NDETCStemmer\n",
            "  Attempting uninstall: urllib3\n",
            "    Found existing installation: urllib3 1.24.3\n",
            "    Uninstalling urllib3-1.24.3:\n",
            "      Successfully uninstalled urllib3-1.24.3\n",
            "Successfully installed NDETCStemmer-1.3.0 checksumdir-1.2.0 datasets-2.10.0 emoji-2.2.0 huggingface-hub-0.12.1 jedi-0.18.2 multiprocess-0.70.14 python-dotenv-1.0.0 pytorch-nlp-0.5.0 responses-0.18.0 snscrape-0.5.0.20230113 tokenizers-0.13.2 torchmetrics-0.11.1 transformers-4.26.1 urllib3-1.26.14 xxhash-3.2.0\n",
            "pip install ./src/lib/\n",
            "Looking in indexes: https://pypi.org/simple, https://us-python.pkg.dev/colab-wheels/public/simple/\n",
            "Processing ./src/lib\n",
            "  Installing build dependencies ... \u001b[?25l\u001b[?25hdone\n",
            "  Getting requirements to build wheel ... \u001b[?25l\u001b[?25hdone\n",
            "  Preparing metadata (pyproject.toml) ... \u001b[?25l\u001b[?25hdone\n",
            "Building wheels for collected packages: kaelib\n",
            "  Building wheel for kaelib (pyproject.toml) ... \u001b[?25l\u001b[?25hdone\n",
            "  Created wheel for kaelib: filename=kaelib-0.0.1-py3-none-any.whl size=12796 sha256=e45c4d96c9d4aa2bf6112884b9f37fb0fea4bcd4bbb60f3d73a0362ed31b923b\n",
            "  Stored in directory: /tmp/pip-ephem-wheel-cache-j63aw_3y/wheels/e8/fa/d1/07e915a90cd7ad9360404de33bb7f9264a8bc55572733f9f40\n",
            "Successfully built kaelib\n",
            "Installing collected packages: kaelib\n",
            "Successfully installed kaelib-0.0.1\n"
          ]
        }
      ],
      "source": [
        "# Prepare Google Colab Environement and build handmade library\n",
        "!git clone https://github.com/kaenova/Headline_Detection.git\n",
        "%cd \"/content/Headline_Detection\"\n",
        "\n",
        "!make lib"
      ]
    },
    {
      "cell_type": "code",
      "execution_count": null,
      "metadata": {
        "id": "Eu5xb6_dRfnj"
      },
      "outputs": [],
      "source": [
        "# # Reset Google Colab Environment\n",
        "# %cd ..\n",
        "# !rm -fr Headline_Detection"
      ]
    },
    {
      "cell_type": "code",
      "execution_count": 1,
      "metadata": {
        "id": "En7KWxslRfnk"
      },
      "outputs": [],
      "source": [
        "import torch\n",
        "import math\n",
        "import torch.nn as nn\n",
        "import torch.nn.functional as F\n",
        "\n",
        "from tqdm import tqdm\n",
        "from transformers import BertForSequenceClassification, BertTokenizerFast\n",
        "from datasets import load_dataset\n",
        "from torchmetrics.classification import MulticlassAccuracy, MulticlassF1Score\n",
        "from torch.utils.data import Dataset, DataLoader\n",
        "\n",
        "\n",
        "# Custom handmade library\n",
        "import kaelib.processor.preprocessing_func as prep_func\n",
        "import kaelib.processor.custom_metrics as custom_metric\n",
        "from kaelib.processor import TextProcessingPipeline,NDETCStemmerWraper, MetricsContainer, HeadlineDataset"
      ]
    },
    {
      "cell_type": "markdown",
      "metadata": {
        "id": "sxb3x0LkRfnl"
      },
      "source": [
        "# Load Dataset"
      ]
    },
    {
      "cell_type": "code",
      "execution_count": 2,
      "metadata": {
        "id": "vamFjsyWRfnm"
      },
      "outputs": [],
      "source": [
        "# data = load_dataset(\"jakartaresearch/google-play-review\")\n",
        "# data_train = data.get('train').to_pandas()[['text', 'label']]\n",
        "# data_test = data.get('validation').to_pandas()[['text', 'label']]"
      ]
    },
    {
      "cell_type": "code",
      "execution_count": 4,
      "metadata": {
        "id": "n9wB66LuRfnm"
      },
      "outputs": [],
      "source": [
        "# # Train test split\n",
        "\n",
        "# text_train = data_train[\"text\"].values.tolist()\n",
        "# text_test = data_test[\"text\"].values.tolist()\n",
        "\n",
        "# label2id = {\"pos\": 1, \"neg\": 0}\n",
        "# id2label = {v: k for k, v in label2id.items()}\n",
        "\n",
        "# labels_train = data_train[\"label\"].apply(lambda x: label2id[x]).values.tolist()\n",
        "# labels_test = data_test[\"label\"].apply(lambda x: label2id[x]).values.tolist()\n",
        "\n",
        "# # Prep text\n",
        "# pipeline = TextProcessingPipeline([\n",
        "#     prep_func.lowercasing,\n",
        "#     prep_func.remove_html_tags,\n",
        "#     prep_func.remove_url,\n",
        "#     prep_func.remove_punctuation\n",
        "# ])\n",
        "\n",
        "# X_train = pipeline.process_corpus(text_train)\n",
        "# X_test = pipeline.process_corpus(text_test)\n",
        "\n",
        "# y_train = labels_train[:]\n",
        "# y_test = labels_test[:]"
      ]
    },
    {
      "cell_type": "code",
      "execution_count": 5,
      "metadata": {
        "id": "GDPpfIkNRfnn"
      },
      "outputs": [],
      "source": [
        "# class IndoBERTDataset(Dataset):\n",
        "#     def __init__(self, texts: 'list[str]', targets: 'list[str]'):\n",
        "#         assert len(texts) == len(targets)\n",
        "#         self.tokenizer = BertTokenizerFast.from_pretrained(\"indobenchmark/indobert-base-p2\")\n",
        "#         self.texts = texts\n",
        "#         self.targets = targets\n",
        "\n",
        "#     def __len__(self):\n",
        "#         return len(self.texts)\n",
        "\n",
        "#     def __getitem__(self, idx):\n",
        "#         bert_tokens = self.tokenizer(self.texts[idx], max_length=256, \n",
        "#                                      padding='max_length', truncation=True, \n",
        "#                                      return_tensors='pt' )\n",
        "#         targets = torch.tensor(self.targets[idx], dtype=torch.int64)\n",
        "#         return bert_tokens, targets\n",
        "    \n",
        "#     @staticmethod\n",
        "#     def squeeze_unwanted_batch(x, device):\n",
        "#         \"\"\"\n",
        "#         This function handles an unexpected output of DataLoader that creates extra dimension on dim=1\n",
        "#         \"\"\"\n",
        "#         new_x = {}\n",
        "#         for keys in x:\n",
        "#             new_x[keys] = x[keys].squeeze().to(device)\n",
        "#         return new_x"
      ]
    },
    {
      "cell_type": "code",
      "execution_count": 6,
      "metadata": {
        "id": "uWjKnmOgRfno"
      },
      "outputs": [],
      "source": [
        "# train_dataset = IndoBERTDataset(X_train, y_train)\n",
        "# test_dataset = IndoBERTDataset(X_test, y_test)"
      ]
    },
    {
      "cell_type": "markdown",
      "metadata": {
        "id": "5y4DWHldGiim"
      },
      "source": [
        "# Load Dataset v2"
      ]
    },
    {
      "cell_type": "code",
      "execution_count": 2,
      "metadata": {
        "id": "IFecaddAGlFJ"
      },
      "outputs": [],
      "source": [
        "train_path = \"/content/train.csv\"\n",
        "test_path = \"/content/test.csv\"\n",
        "\n",
        "tokenizer = BertTokenizerFast.from_pretrained(\"indobenchmark/indobert-base-p2\")\n",
        "train_dataset = HeadlineDataset(train_path, tokenizer,\n",
        "                                max_length=256,\n",
        "                                padding=\"max_length\",\n",
        "                                truncation=True,\n",
        "                                return_tensors=\"pt\",\n",
        "                                )\n",
        "test_dataset = HeadlineDataset(test_path, tokenizer,\n",
        "                                max_length=256,\n",
        "                                padding=\"max_length\",\n",
        "                                truncation=True,\n",
        "                                return_tensors=\"pt\",\n",
        "                                )\n",
        "\n",
        "label2id = {\"headline\": 1, \"non-headline\": 0}\n",
        "id2label = {v: k for k, v in label2id.items()}"
      ]
    },
    {
      "cell_type": "markdown",
      "metadata": {
        "id": "9WEI5Tk8Uggf"
      },
      "source": [
        "# Prepare Train"
      ]
    },
    {
      "cell_type": "code",
      "execution_count": 5,
      "metadata": {
        "colab": {
          "base_uri": "https://localhost:8080/"
        },
        "id": "wtkOrVZ5Rfno",
        "outputId": "5a659974-039f-4434-ed2b-531cf006975d"
      },
      "outputs": [
        {
          "name": "stderr",
          "output_type": "stream",
          "text": [
            "Some weights of BertForSequenceClassification were not initialized from the model checkpoint at indobenchmark/indobert-base-p2 and are newly initialized: ['classifier.weight', 'classifier.bias']\n",
            "You should probably TRAIN this model on a down-stream task to be able to use it for predictions and inference.\n"
          ]
        }
      ],
      "source": [
        "\n",
        "\"\"\"\n",
        "https://arxiv.org/pdf/1810.04805.pdf\n",
        "\n",
        "We use a batch size of 32 and fine-tune for 3\n",
        "epochs over the data for all GLUE tasks. For each\n",
        "task, we selected the best fine-tuning learning rate\n",
        "(among 5e-5, 4e-5, 3e-5, and 2e-5)\n",
        "\"\"\"\n",
        "\n",
        "batch_size = 32\n",
        "epochs = 3\n",
        "device = \"cuda\"\n",
        "lr = 2e-6\n",
        "\n",
        "train_loader = DataLoader(train_dataset, batch_size=batch_size, shuffle=True)\n",
        "test_loader = DataLoader(test_dataset, batch_size=batch_size, shuffle=False)\n",
        "\n",
        "num_mini_batch = math.ceil(len(train_dataset) / batch_size)\n",
        "\n",
        "model = BertForSequenceClassification.from_pretrained(\n",
        "    \"indobenchmark/indobert-base-p2\",\n",
        "    num_labels=2,\n",
        "    id2label=id2label,\n",
        "    label2id=label2id,\n",
        "    problem_type=\"multi_label_classification\",\n",
        ").to(device)\n",
        "\n",
        "optim = torch.optim.Adam(model.parameters(), lr=lr)\n",
        "\n",
        "metrics = MetricsContainer({\n",
        "    \"acc_train\" : MulticlassAccuracy(num_classes=2).to(device),\n",
        "    \"acc_test\" : MulticlassAccuracy(num_classes=2).to(device),\n",
        "    \"f1_train\" : MulticlassF1Score(num_classes=2).to(device),\n",
        "    \"f1_test\" : MulticlassF1Score(num_classes=2).to(device),\n",
        "    \"loss_train\" : custom_metric.loss_metrics,\n",
        "    \"loss_test\" : custom_metric.loss_metrics,\n",
        "})"
      ]
    },
    {
      "cell_type": "markdown",
      "metadata": {
        "id": "yePIEQXzUh71"
      },
      "source": [
        "# Train Loop"
      ]
    },
    {
      "cell_type": "code",
      "execution_count": 6,
      "metadata": {
        "colab": {
          "base_uri": "https://localhost:8080/"
        },
        "id": "vvykn5QxRfnp",
        "outputId": "6b3dd346-caac-49bf-f06a-7779025738f4"
      },
      "outputs": [
        {
          "name": "stderr",
          "output_type": "stream",
          "text": [
            "EPOCH 1 / 3: Infering on Testing Data: 100%|██████████| 59/59 [00:35<00:00,  1.67it/s, acc_train=0.85, acc_test=0.956, f1_train=0.844, f1_test=0.953, loss_train=0.448, loss_test=0.194]\n",
            "EPOCH 2 / 3: Infering on Testing Data: 100%|██████████| 59/59 [00:34<00:00,  1.71it/s, acc_train=0.959, acc_test=0.967, f1_train=0.957, f1_test=0.964, loss_train=0.151, loss_test=0.105]\n",
            "EPOCH 3 / 3: Infering on Testing Data: 100%|██████████| 59/59 [00:34<00:00,  1.71it/s, acc_train=0.978, acc_test=0.968, f1_train=0.978, f1_test=0.966, loss_train=0.0841, loss_test=0.0996]\n"
          ]
        }
      ],
      "source": [
        "# Half precision\n",
        "scaler = torch.cuda.amp.GradScaler()\n",
        "\n",
        "for i in range(epochs):\n",
        "    # Progress bar\n",
        "    pbar = tqdm(total=num_mini_batch)\n",
        "    pbar.set_description(f\"EPOCH {i + 1} / {epochs}: Training\")\n",
        "    \n",
        "    # Metrics initialize new batch\n",
        "    metrics.new_batch()\n",
        "\n",
        "    # Train\n",
        "    model.train()\n",
        "    for train_tokens, train_target in train_loader:\n",
        "        model.zero_grad()\n",
        "        train_target = train_target.to(device)\n",
        "        # Forward\n",
        "        with torch.cuda.amp.autocast():\n",
        "            # train_tokens = IndoBERTDataset.squeeze_unwanted_batch(train_tokens, device)\n",
        "            train_tokens['input_ids'] = train_tokens['input_ids'].to(device)\n",
        "            train_tokens['attention_mask'] = train_tokens['attention_mask'].to(device)\n",
        "            pred = model(**train_tokens).logits\n",
        "            loss = F.cross_entropy(pred, train_target)\n",
        "\n",
        "        # Backprop\n",
        "        scaler.scale(loss).backward()\n",
        "        scaler.step(optim)\n",
        "        scaler.update()\n",
        "\n",
        "        # Metrics and logging\n",
        "        metrics(\"loss_train\", loss)\n",
        "        metrics(\"f1_train\", pred, train_target)\n",
        "        metrics(\"acc_train\", pred, train_target)\n",
        "        pbar.set_postfix(metrics.mean_metrics_batch())\n",
        "        pbar.update(1)\n",
        "\n",
        "    # Eval\n",
        "    model.eval()\n",
        "    pbar.set_description(f\"EPOCH {i + 1} / {epochs}: Infering on Testing Data\")\n",
        "    \n",
        "    for test_tokens, test_target in test_loader:\n",
        "        test_target = test_target.to(device)\n",
        "        # Forward test\n",
        "        with torch.no_grad():\n",
        "            test_tokens['input_ids'] = test_tokens['input_ids'].to(device)\n",
        "            test_tokens['attention_mask'] = test_tokens['attention_mask'].to(device)\n",
        "            pred_test = model(**test_tokens).logits\n",
        "            loss_test = F.cross_entropy(pred_test, test_target)\n",
        "\n",
        "        # Metrics and logging\n",
        "        metrics(\"loss_test\", loss_test)\n",
        "        metrics(\"f1_test\", pred_test, test_target)\n",
        "        metrics(\"acc_test\", pred_test, test_target)\n",
        "        pbar.set_postfix(metrics.mean_metrics_batch())\n",
        "\n",
        "    pbar.close()\n",
        "    metrics.process_batch()\n"
      ]
    }
  ],
  "metadata": {
    "accelerator": "GPU",
    "colab": {
      "provenance": []
    },
    "gpuClass": "standard",
    "kernelspec": {
      "display_name": "venv",
      "language": "python",
      "name": "python3"
    },
    "language_info": {
      "codemirror_mode": {
        "name": "ipython",
        "version": 3
      },
      "file_extension": ".py",
      "mimetype": "text/x-python",
      "name": "python",
      "nbconvert_exporter": "python",
      "pygments_lexer": "ipython3",
      "version": "3.8.10"
    },
    "orig_nbformat": 4,
    "vscode": {
      "interpreter": {
        "hash": "f859f1e6f927a99659bbed8c715d8b2e0ee62a381a7a8caee1b1f662fc1c2ad7"
      }
    }
  },
  "nbformat": 4,
  "nbformat_minor": 0
}
