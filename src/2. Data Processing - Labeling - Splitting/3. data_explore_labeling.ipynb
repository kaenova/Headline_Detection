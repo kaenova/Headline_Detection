{
 "cells": [
  {
   "cell_type": "markdown",
   "metadata": {},
   "source": [
    "## Combining Organization and Replies from batch"
   ]
  },
  {
   "cell_type": "code",
   "execution_count": 3,
   "metadata": {
    "tags": []
   },
   "outputs": [],
   "source": [
    "import pandas as pd\n",
    "\n",
    "path = \"../../data/3.1. Annotated\"\n",
    "save_path = \"../../data/3.2. Annotated Combined\"\n",
    "organization_file = [\n",
    "    \"organization_1.xlsx\",\n",
    "    \"organization_2.xlsx\",\n",
    "    \"organization_3.xlsx\",\n",
    "    \"organization_4.xlsx\",\n",
    "    \"organization_5.xlsx\",\n",
    "]\n",
    "replies_file = [\n",
    "    \"replies_100_1.xlsx\",\n",
    "    \"replies_100_2.xlsx\",\n",
    "    \"replies_100_3.xlsx\",\n",
    "    \"replies_100_4.xlsx\",\n",
    "    \"replies_100_5.xlsx\",\n",
    "]\n",
    "\n",
    "organization_df = pd.concat(\n",
    "    [\n",
    "        pd.read_excel(f\"{path}/{filename}\").replace(\n",
    "            {\"\\n\": \" \", \"\\r\": \"\", \"_x000D_\": \" \"}, regex=True\n",
    "        )\n",
    "        for filename in organization_file\n",
    "    ]\n",
    ")\n",
    "replies_df = pd.concat(\n",
    "    [\n",
    "        pd.read_excel(f\"{path}/{filename}\").replace(\n",
    "            {\"\\n\": \" \", \"\\r\": \"\", \"_x000D_\": \" \"}, regex=True\n",
    "        )\n",
    "        for filename in replies_file\n",
    "    ]\n",
    ")\n",
    "\n",
    "organization_df.to_csv(f\"{save_path}/organization.csv\", index=False)\n",
    "replies_df.to_csv(f\"{save_path}/replies.csv\", index=False)\n"
   ]
  },
  {
   "cell_type": "markdown",
   "metadata": {},
   "source": [
    "## Check assumption\n",
    "How many non-headline from organization files?  \n",
    "How many headline from replies files?"
   ]
  },
  {
   "cell_type": "code",
   "execution_count": 4,
   "metadata": {
    "tags": []
   },
   "outputs": [
    {
     "name": "stdout",
     "output_type": "stream",
     "text": [
      "With an assumption that organization are all headline and replies are all non-headline\n",
      "num_of_organization (assumption all headline): 952\n",
      "num_of_replies (assumption all non-headline): 952\n",
      "num_of_organization (actual headline): 940\n",
      "num_of_replies (actual non-headline): 948\n",
      "num_of_organization (wrong assumed headline): 12\n",
      "num_of_replies (wrong assumed non-headline): 4\n"
     ]
    }
   ],
   "source": [
    "num_of_organization = len(organization_df)\n",
    "num_of_replies = len(replies_df)\n",
    "\n",
    "num_of_headline_organization = len(organization_df[organization_df['labels (Non-Headline 0 / Headline 1)'] == 1])\n",
    "num_of_non_headline_replies = len(replies_df[replies_df['labels (Non-Headline 0 / Headline 1)'] == 0])\n",
    "\n",
    "print(\"With an assumption that organization are all headline and replies are all non-headline\")\n",
    "\n",
    "print(\"num_of_organization (assumption all headline):\", num_of_organization)\n",
    "print(\"num_of_replies (assumption all non-headline):\", num_of_replies)\n",
    "\n",
    "print(\"num_of_organization (actual headline):\", num_of_headline_organization)\n",
    "print(\"num_of_replies (actual non-headline):\", num_of_non_headline_replies)\n",
    "\n",
    "print(\"num_of_organization (wrong assumed headline):\", num_of_organization - num_of_headline_organization)\n",
    "print(\"num_of_replies (wrong assumed non-headline):\", num_of_replies - num_of_non_headline_replies)"
   ]
  },
  {
   "cell_type": "code",
   "execution_count": null,
   "metadata": {},
   "outputs": [],
   "source": []
  }
 ],
 "metadata": {
  "kernelspec": {
   "display_name": "Python 3 (ipykernel)",
   "language": "python",
   "name": "python3"
  },
  "language_info": {
   "codemirror_mode": {
    "name": "ipython",
    "version": 3
   },
   "file_extension": ".py",
   "mimetype": "text/x-python",
   "name": "python",
   "nbconvert_exporter": "python",
   "pygments_lexer": "ipython3",
   "version": "3.10.6"
  }
 },
 "nbformat": 4,
 "nbformat_minor": 4
}
