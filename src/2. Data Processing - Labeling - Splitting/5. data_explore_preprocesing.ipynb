{
 "cells": [
  {
   "cell_type": "code",
   "execution_count": 9,
   "id": "eaabce87-cf43-4e00-938b-42f87b44284c",
   "metadata": {
    "tags": []
   },
   "outputs": [],
   "source": [
    "import pandas as pd\n",
    "\n",
    "scenario = [i for i in range(1, 7)]\n",
    "data_path = \"../../data/4. Processed\"\n",
    "\n",
    "data = {}\n",
    "for i in scenario:\n",
    "    full_path = f\"{data_path}/{i}\"\n",
    "    train_test_data = {}\n",
    "    train_test_data['train'] = pd.read_csv(f\"{data_path}/{i}/train.csv\")\n",
    "    train_test_data['test'] = pd.read_csv(f\"{data_path}/{i}/test.csv\")\n",
    "    data[i] = train_test_data"
   ]
  },
  {
   "cell_type": "code",
   "execution_count": 10,
   "id": "a6c4dd86-ffc2-435f-b5c8-804cb7d1fbcf",
   "metadata": {
    "tags": []
   },
   "outputs": [
    {
     "data": {
      "text/html": [
       "<div>\n",
       "<style scoped>\n",
       "    .dataframe tbody tr th:only-of-type {\n",
       "        vertical-align: middle;\n",
       "    }\n",
       "\n",
       "    .dataframe tbody tr th {\n",
       "        vertical-align: top;\n",
       "    }\n",
       "\n",
       "    .dataframe thead th {\n",
       "        text-align: right;\n",
       "    }\n",
       "</style>\n",
       "<table border=\"1\" class=\"dataframe\">\n",
       "  <thead>\n",
       "    <tr style=\"text-align: right;\">\n",
       "      <th></th>\n",
       "      <th>tweet</th>\n",
       "      <th>labels</th>\n",
       "    </tr>\n",
       "  </thead>\n",
       "  <tbody>\n",
       "    <tr>\n",
       "      <th>0</th>\n",
       "      <td>@USER berita lain polisi mendadak jadi petugas...</td>\n",
       "      <td>0</td>\n",
       "    </tr>\n",
       "    <tr>\n",
       "      <th>1</th>\n",
       "      <td>kompolnas: polisi pengaman stadion kanjuruhan ...</td>\n",
       "      <td>1</td>\n",
       "    </tr>\n",
       "    <tr>\n",
       "      <th>2</th>\n",
       "      <td>@USER hti sudah dibubarkan, sudah tidak ada wu...</td>\n",
       "      <td>0</td>\n",
       "    </tr>\n",
       "    <tr>\n",
       "      <th>3</th>\n",
       "      <td>ekonom dengar janji cak imin gratiskan listrik...</td>\n",
       "      <td>1</td>\n",
       "    </tr>\n",
       "    <tr>\n",
       "      <th>4</th>\n",
       "      <td>@USER dipenjara masih bisa ketemu anak  orang ...</td>\n",
       "      <td>0</td>\n",
       "    </tr>\n",
       "    <tr>\n",
       "      <th>...</th>\n",
       "      <td>...</td>\n",
       "      <td>...</td>\n",
       "    </tr>\n",
       "    <tr>\n",
       "      <th>1518</th>\n",
       "      <td>@USER and again? what's wrong with the indomar...</td>\n",
       "      <td>0</td>\n",
       "    </tr>\n",
       "    <tr>\n",
       "      <th>1519</th>\n",
       "      <td>@USER karena dgn tv analog, mnc group bisa kla...</td>\n",
       "      <td>0</td>\n",
       "    </tr>\n",
       "    <tr>\n",
       "      <th>1520</th>\n",
       "      <td>@USER #km50</td>\n",
       "      <td>0</td>\n",
       "    </tr>\n",
       "    <tr>\n",
       "      <th>1521</th>\n",
       "      <td>lpi uangkap ada potensi ancaman dari kelompok ...</td>\n",
       "      <td>1</td>\n",
       "    </tr>\n",
       "    <tr>\n",
       "      <th>1522</th>\n",
       "      <td>@USER yg perlu diberantas itu jendral2 yg jadi...</td>\n",
       "      <td>0</td>\n",
       "    </tr>\n",
       "  </tbody>\n",
       "</table>\n",
       "<p>1523 rows × 2 columns</p>\n",
       "</div>"
      ],
      "text/plain": [
       "                                                  tweet  labels\n",
       "0     @USER berita lain polisi mendadak jadi petugas...       0\n",
       "1     kompolnas: polisi pengaman stadion kanjuruhan ...       1\n",
       "2     @USER hti sudah dibubarkan, sudah tidak ada wu...       0\n",
       "3     ekonom dengar janji cak imin gratiskan listrik...       1\n",
       "4     @USER dipenjara masih bisa ketemu anak  orang ...       0\n",
       "...                                                 ...     ...\n",
       "1518  @USER and again? what's wrong with the indomar...       0\n",
       "1519  @USER karena dgn tv analog, mnc group bisa kla...       0\n",
       "1520                                        @USER #km50       0\n",
       "1521  lpi uangkap ada potensi ancaman dari kelompok ...       1\n",
       "1522  @USER yg perlu diberantas itu jendral2 yg jadi...       0\n",
       "\n",
       "[1523 rows x 2 columns]"
      ]
     },
     "execution_count": 10,
     "metadata": {},
     "output_type": "execute_result"
    }
   ],
   "source": [
    "data[1]['train']"
   ]
  },
  {
   "cell_type": "code",
   "execution_count": null,
   "id": "1dd46032-e233-4d4d-9843-04ca7d02fd46",
   "metadata": {},
   "outputs": [],
   "source": []
  }
 ],
 "metadata": {
  "kernelspec": {
   "display_name": "Python 3 (ipykernel)",
   "language": "python",
   "name": "python3"
  },
  "language_info": {
   "codemirror_mode": {
    "name": "ipython",
    "version": 3
   },
   "file_extension": ".py",
   "mimetype": "text/x-python",
   "name": "python",
   "nbconvert_exporter": "python",
   "pygments_lexer": "ipython3",
   "version": "3.10.6"
  }
 },
 "nbformat": 4,
 "nbformat_minor": 5
}
